{
 "cells": [
  {
   "cell_type": "code",
   "execution_count": 1,
   "id": "impressive-professor",
   "metadata": {},
   "outputs": [],
   "source": [
    "%matplotlib inline\n",
    "import numpy as np\n",
    "import pandas as pd\n",
    "import sklearn as sk\n",
    "import seaborn as sns\n",
    "import warnings; warnings.simplefilter('ignore')\n",
    "import matplotlib.pyplot as plt\n",
    "import mglearn\n",
    "from sklearn.neighbors import KNeighborsClassifier\n",
    "from sklearn.model_selection import train_test_split\n",
    "from sklearn.model_selection import cross_val_score\n",
    "from sklearn.model_selection import LeaveOneOut\n",
    "from sklearn.preprocessing import MinMaxScaler\n",
    "from sklearn.preprocessing import StandardScaler\n",
    "import random\n",
    "from sklearn.utils import shuffle\n",
    "\n",
    "from tensorflow.keras.optimizers import SGD\n",
    "from keras.utils import np_utils                         # NumPy related tools\n",
    "from sklearn.metrics import accuracy_score,confusion_matrix\n",
    "from sklearn.metrics import classification_report\n",
    "import numpy as np\n",
    "\n",
    "import keras\n",
    "from keras.datasets import mnist\n",
    "import matplotlib.pyplot as plt\n",
    "import tensorflow as tf\n"
   ]
  },
  {
   "cell_type": "code",
   "execution_count": 2,
   "id": "presidential-climb",
   "metadata": {},
   "outputs": [],
   "source": [
    "data = pd.read_csv(\"Energi_Viborg_Dandas_data.csv\")"
   ]
  },
  {
   "cell_type": "code",
   "execution_count": 3,
   "id": "another-fancy",
   "metadata": {},
   "outputs": [],
   "source": [
    "#drop columns not needed after asking the company about the meaning of these features\n",
    "\n",
    "columns_to_be_removed = ['ID', 'mslink', 'XKoordinat','YKoordinat','LedningID','Dobbeltled','EjerKompon','SystemKode','KategoriAf','DatoUdf']\n",
    "data=data.drop(columns_to_be_removed,axis='columns')"
   ]
  },
  {
   "cell_type": "code",
   "execution_count": 4,
   "id": "distributed-estimate",
   "metadata": {},
   "outputs": [],
   "source": [
    "# in the column DatoSaneri is the date of repairing and if there is no date it means it is not repaired\n",
    "\n",
    "data['DatoSaneri'].fillna(0, inplace=True)"
   ]
  },
  {
   "cell_type": "code",
   "execution_count": 5,
   "id": "looking-labor",
   "metadata": {},
   "outputs": [],
   "source": [
    "# take only the pipes that are broken(by TV insection) now and the repaired ones\n",
    "\n",
    "data_with_TVObsAndSaneri = data[data['TVObsKode'].isin([1]) | data['DatoSaneri'] > 0]"
   ]
  },
  {
   "cell_type": "code",
   "execution_count": 6,
   "id": "female-quantity",
   "metadata": {},
   "outputs": [],
   "source": [
    "#get around 2077 rows with not broken pipes\n",
    "\n",
    "data_not_broken = data[~data['TVObsKode'].isin([0]) | data['DatoSaneri'] == 0]\n",
    "data_not_broken = data_not_broken.sample(n=2077) "
   ]
  },
  {
   "cell_type": "code",
   "execution_count": 7,
   "id": "significant-skill",
   "metadata": {},
   "outputs": [
    {
     "data": {
      "text/html": [
       "<div>\n",
       "<style scoped>\n",
       "    .dataframe tbody tr th:only-of-type {\n",
       "        vertical-align: middle;\n",
       "    }\n",
       "\n",
       "    .dataframe tbody tr th {\n",
       "        vertical-align: top;\n",
       "    }\n",
       "\n",
       "    .dataframe thead th {\n",
       "        text-align: right;\n",
       "    }\n",
       "</style>\n",
       "<table border=\"1\" class=\"dataframe\">\n",
       "  <thead>\n",
       "    <tr style=\"text-align: right;\">\n",
       "      <th></th>\n",
       "      <th>fra_kote</th>\n",
       "      <th>til_kote</th>\n",
       "      <th>Laengde</th>\n",
       "      <th>Fald</th>\n",
       "      <th>DiameterIn</th>\n",
       "      <th>MaterialeK</th>\n",
       "      <th>anlag_aar</th>\n",
       "      <th>TransportK</th>\n",
       "      <th>Funktionsk</th>\n",
       "      <th>TVObsKode</th>\n",
       "      <th>DatoOprett</th>\n",
       "      <th>DatoOpdate</th>\n",
       "      <th>DatoSaneri</th>\n",
       "    </tr>\n",
       "  </thead>\n",
       "  <tbody>\n",
       "    <tr>\n",
       "      <th>36</th>\n",
       "      <td>34.72</td>\n",
       "      <td>33.480000</td>\n",
       "      <td>64.88</td>\n",
       "      <td>19.112207</td>\n",
       "      <td>300.0</td>\n",
       "      <td>1.0</td>\n",
       "      <td>1939.0</td>\n",
       "      <td>1</td>\n",
       "      <td>0</td>\n",
       "      <td>0.0</td>\n",
       "      <td>2010</td>\n",
       "      <td>2014</td>\n",
       "      <td>1997.0</td>\n",
       "    </tr>\n",
       "    <tr>\n",
       "      <th>42</th>\n",
       "      <td>39.46</td>\n",
       "      <td>39.160000</td>\n",
       "      <td>91.75</td>\n",
       "      <td>3.269755</td>\n",
       "      <td>400.0</td>\n",
       "      <td>1.0</td>\n",
       "      <td>1939.0</td>\n",
       "      <td>1</td>\n",
       "      <td>0</td>\n",
       "      <td>1.0</td>\n",
       "      <td>2010</td>\n",
       "      <td>2014</td>\n",
       "      <td>0.0</td>\n",
       "    </tr>\n",
       "    <tr>\n",
       "      <th>43</th>\n",
       "      <td>39.71</td>\n",
       "      <td>39.480000</td>\n",
       "      <td>87.69</td>\n",
       "      <td>2.622876</td>\n",
       "      <td>300.0</td>\n",
       "      <td>1.0</td>\n",
       "      <td>1939.0</td>\n",
       "      <td>1</td>\n",
       "      <td>0</td>\n",
       "      <td>1.0</td>\n",
       "      <td>2010</td>\n",
       "      <td>2014</td>\n",
       "      <td>0.0</td>\n",
       "    </tr>\n",
       "    <tr>\n",
       "      <th>64</th>\n",
       "      <td>40.55</td>\n",
       "      <td>40.080000</td>\n",
       "      <td>52.11</td>\n",
       "      <td>9.019382</td>\n",
       "      <td>250.0</td>\n",
       "      <td>1.0</td>\n",
       "      <td>1945.0</td>\n",
       "      <td>1</td>\n",
       "      <td>0</td>\n",
       "      <td>1.0</td>\n",
       "      <td>2010</td>\n",
       "      <td>2014</td>\n",
       "      <td>0.0</td>\n",
       "    </tr>\n",
       "    <tr>\n",
       "      <th>65</th>\n",
       "      <td>40.38</td>\n",
       "      <td>40.550000</td>\n",
       "      <td>68.39</td>\n",
       "      <td>-2.485744</td>\n",
       "      <td>250.0</td>\n",
       "      <td>1.0</td>\n",
       "      <td>1945.0</td>\n",
       "      <td>1</td>\n",
       "      <td>0</td>\n",
       "      <td>1.0</td>\n",
       "      <td>2010</td>\n",
       "      <td>2014</td>\n",
       "      <td>0.0</td>\n",
       "    </tr>\n",
       "    <tr>\n",
       "      <th>...</th>\n",
       "      <td>...</td>\n",
       "      <td>...</td>\n",
       "      <td>...</td>\n",
       "      <td>...</td>\n",
       "      <td>...</td>\n",
       "      <td>...</td>\n",
       "      <td>...</td>\n",
       "      <td>...</td>\n",
       "      <td>...</td>\n",
       "      <td>...</td>\n",
       "      <td>...</td>\n",
       "      <td>...</td>\n",
       "      <td>...</td>\n",
       "    </tr>\n",
       "    <tr>\n",
       "      <th>8131</th>\n",
       "      <td>14.70</td>\n",
       "      <td>13.670000</td>\n",
       "      <td>62.66</td>\n",
       "      <td>16.437919</td>\n",
       "      <td>250.0</td>\n",
       "      <td>1.0</td>\n",
       "      <td>1964.0</td>\n",
       "      <td>1</td>\n",
       "      <td>0</td>\n",
       "      <td>0.0</td>\n",
       "      <td>2010</td>\n",
       "      <td>2014</td>\n",
       "      <td>0.0</td>\n",
       "    </tr>\n",
       "    <tr>\n",
       "      <th>7321</th>\n",
       "      <td>38.27</td>\n",
       "      <td>37.920716</td>\n",
       "      <td>53.48</td>\n",
       "      <td>6.531113</td>\n",
       "      <td>180.0</td>\n",
       "      <td>4.0</td>\n",
       "      <td>1995.0</td>\n",
       "      <td>1</td>\n",
       "      <td>0</td>\n",
       "      <td>0.0</td>\n",
       "      <td>2010</td>\n",
       "      <td>2014</td>\n",
       "      <td>0.0</td>\n",
       "    </tr>\n",
       "    <tr>\n",
       "      <th>8745</th>\n",
       "      <td>32.28</td>\n",
       "      <td>31.790000</td>\n",
       "      <td>31.77</td>\n",
       "      <td>15.423355</td>\n",
       "      <td>600.0</td>\n",
       "      <td>4.0</td>\n",
       "      <td>2007.0</td>\n",
       "      <td>1</td>\n",
       "      <td>0</td>\n",
       "      <td>0.0</td>\n",
       "      <td>2010</td>\n",
       "      <td>2014</td>\n",
       "      <td>0.0</td>\n",
       "    </tr>\n",
       "    <tr>\n",
       "      <th>14629</th>\n",
       "      <td>31.02</td>\n",
       "      <td>30.090000</td>\n",
       "      <td>40.53</td>\n",
       "      <td>22.945966</td>\n",
       "      <td>400.0</td>\n",
       "      <td>1.0</td>\n",
       "      <td>1965.0</td>\n",
       "      <td>1</td>\n",
       "      <td>0</td>\n",
       "      <td>0.0</td>\n",
       "      <td>2010</td>\n",
       "      <td>2014</td>\n",
       "      <td>0.0</td>\n",
       "    </tr>\n",
       "    <tr>\n",
       "      <th>9168</th>\n",
       "      <td>53.31</td>\n",
       "      <td>52.260000</td>\n",
       "      <td>56.88</td>\n",
       "      <td>18.459916</td>\n",
       "      <td>200.0</td>\n",
       "      <td>1.0</td>\n",
       "      <td>1970.0</td>\n",
       "      <td>1</td>\n",
       "      <td>0</td>\n",
       "      <td>0.0</td>\n",
       "      <td>2010</td>\n",
       "      <td>2014</td>\n",
       "      <td>0.0</td>\n",
       "    </tr>\n",
       "  </tbody>\n",
       "</table>\n",
       "<p>4154 rows × 13 columns</p>\n",
       "</div>"
      ],
      "text/plain": [
       "       fra_kote   til_kote  Laengde       Fald  DiameterIn  MaterialeK  \\\n",
       "36        34.72  33.480000    64.88  19.112207       300.0         1.0   \n",
       "42        39.46  39.160000    91.75   3.269755       400.0         1.0   \n",
       "43        39.71  39.480000    87.69   2.622876       300.0         1.0   \n",
       "64        40.55  40.080000    52.11   9.019382       250.0         1.0   \n",
       "65        40.38  40.550000    68.39  -2.485744       250.0         1.0   \n",
       "...         ...        ...      ...        ...         ...         ...   \n",
       "8131      14.70  13.670000    62.66  16.437919       250.0         1.0   \n",
       "7321      38.27  37.920716    53.48   6.531113       180.0         4.0   \n",
       "8745      32.28  31.790000    31.77  15.423355       600.0         4.0   \n",
       "14629     31.02  30.090000    40.53  22.945966       400.0         1.0   \n",
       "9168      53.31  52.260000    56.88  18.459916       200.0         1.0   \n",
       "\n",
       "       anlag_aar  TransportK  Funktionsk  TVObsKode  DatoOprett  DatoOpdate  \\\n",
       "36        1939.0           1           0        0.0        2010        2014   \n",
       "42        1939.0           1           0        1.0        2010        2014   \n",
       "43        1939.0           1           0        1.0        2010        2014   \n",
       "64        1945.0           1           0        1.0        2010        2014   \n",
       "65        1945.0           1           0        1.0        2010        2014   \n",
       "...          ...         ...         ...        ...         ...         ...   \n",
       "8131      1964.0           1           0        0.0        2010        2014   \n",
       "7321      1995.0           1           0        0.0        2010        2014   \n",
       "8745      2007.0           1           0        0.0        2010        2014   \n",
       "14629     1965.0           1           0        0.0        2010        2014   \n",
       "9168      1970.0           1           0        0.0        2010        2014   \n",
       "\n",
       "       DatoSaneri  \n",
       "36         1997.0  \n",
       "42            0.0  \n",
       "43            0.0  \n",
       "64            0.0  \n",
       "65            0.0  \n",
       "...           ...  \n",
       "8131          0.0  \n",
       "7321          0.0  \n",
       "8745          0.0  \n",
       "14629         0.0  \n",
       "9168          0.0  \n",
       "\n",
       "[4154 rows x 13 columns]"
      ]
     },
     "execution_count": 7,
     "metadata": {},
     "output_type": "execute_result"
    }
   ],
   "source": [
    "frames = [data_with_TVObsAndSaneri, data_not_broken]\n",
    "  \n",
    "data_final = pd.concat(frames)\n",
    "data_final"
   ]
  },
  {
   "cell_type": "code",
   "execution_count": 8,
   "id": "subtle-notion",
   "metadata": {},
   "outputs": [],
   "source": [
    "data = data_final"
   ]
  },
  {
   "cell_type": "code",
   "execution_count": 9,
   "id": "civil-azerbaijan",
   "metadata": {},
   "outputs": [
    {
     "name": "stdout",
     "output_type": "stream",
     "text": [
      "Number of rows before removing NaNs: 4154\n",
      "Number of rows after removing NaNs: 4154\n"
     ]
    }
   ],
   "source": [
    "# data_fs= np.where(np.isnan(data_features))\n",
    "# data_fs\n",
    "print(\"Number of rows before removing NaNs: {}\".format(data.shape[0]))\n",
    "data = data.dropna()\n",
    "print(\"Number of rows after removing NaNs: {}\".format(data.shape[0]))"
   ]
  },
  {
   "cell_type": "code",
   "execution_count": 10,
   "id": "excess-oxide",
   "metadata": {},
   "outputs": [],
   "source": [
    "#get data copied\n",
    "datacopy = data\n",
    "\n",
    "\n",
    "# add  age column\n",
    "\n",
    "#get current year\n",
    "from datetime import date\n",
    "now = date.today().year\n",
    "\n",
    "\n",
    "def age_df(datacopy):\n",
    "\n",
    "    if (datacopy['TVObsKode'] == 1) and (datacopy['DatoSaneri'] > 0) :\n",
    "        return (now - datacopy['DatoSaneri'])\n",
    "    elif (datacopy['TVObsKode'] == 1) and (datacopy['DatoSaneri']== 0):\n",
    "        return (now - datacopy['anlag_aar'])\n",
    "    elif (datacopy['TVObsKode'] == 0) and (datacopy['DatoSaneri'] > 0):\n",
    "        return (now - datacopy['DatoSaneri'])\n",
    "    elif (datacopy['TVObsKode']== 0) and (datacopy['DatoSaneri']== 0):\n",
    "        return (now - datacopy['anlag_aar'])\n",
    "\n",
    "datacopy['Age'] = datacopy.apply(age_df, axis = 1)"
   ]
  },
  {
   "cell_type": "code",
   "execution_count": 11,
   "id": "spectacular-headset",
   "metadata": {
    "code_folding": []
   },
   "outputs": [],
   "source": [
    "# add a column 'PipeStatus'\n",
    "# 1 as broken and 0 as not broken\n",
    "\n",
    "def broken_df(datacopy):\n",
    "\n",
    "    if (datacopy['TVObsKode'] == 1) and (datacopy['DatoSaneri'] < (datacopy['DatoOpdate'])) and (datacopy['DatoSaneri'] != 0):\n",
    "        return 1\n",
    "    elif (datacopy['TVObsKode'] == 1) and (datacopy['DatoSaneri'] >= (datacopy['DatoOpdate'])) and (datacopy['DatoSaneri'] != 0):\n",
    "        return 0\n",
    "    elif (datacopy['TVObsKode'] == 1) and (datacopy['DatoSaneri']== 0):\n",
    "        return 1\n",
    "    elif (datacopy['TVObsKode'] == 0) and (datacopy['DatoSaneri'] > 0):\n",
    "        return 0\n",
    "    elif (datacopy['TVObsKode']== 0) and (datacopy['DatoSaneri']== 0):\n",
    "        return 0\n",
    "\n",
    "datacopy['PipeStatus'] = datacopy.apply(broken_df, axis = 1)"
   ]
  },
  {
   "cell_type": "code",
   "execution_count": 12,
   "id": "optical-month",
   "metadata": {},
   "outputs": [],
   "source": [
    "# datacopy = datacopy.sample(n=22) \n",
    "# datacopy"
   ]
  },
  {
   "cell_type": "code",
   "execution_count": 13,
   "id": "armed-organ",
   "metadata": {},
   "outputs": [],
   "source": [
    "# data_fs= np.where(np.isnan(datacopy))\n",
    "# data_fs\n",
    "# row = datacopy.iloc[369] #index=1 => second row\n",
    "# print(row)"
   ]
  },
  {
   "cell_type": "code",
   "execution_count": 14,
   "id": "aboriginal-spiritual",
   "metadata": {},
   "outputs": [
    {
     "name": "stdout",
     "output_type": "stream",
     "text": [
      "Number of rows before removing NaNs: 4154\n",
      "Number of rows after removing NaNs: 4154\n"
     ]
    }
   ],
   "source": [
    "# data_fs= np.where(np.isnan(data_features))\n",
    "# data_fs\n",
    "print(\"Number of rows before removing NaNs: {}\".format(datacopy.shape[0]))\n",
    "datacopy = datacopy.dropna()\n",
    "print(\"Number of rows after removing NaNs: {}\".format(datacopy.shape[0]))"
   ]
  },
  {
   "cell_type": "code",
   "execution_count": 15,
   "id": "brave-contemporary",
   "metadata": {},
   "outputs": [
    {
     "data": {
      "text/html": [
       "<div>\n",
       "<style scoped>\n",
       "    .dataframe tbody tr th:only-of-type {\n",
       "        vertical-align: middle;\n",
       "    }\n",
       "\n",
       "    .dataframe tbody tr th {\n",
       "        vertical-align: top;\n",
       "    }\n",
       "\n",
       "    .dataframe thead th {\n",
       "        text-align: right;\n",
       "    }\n",
       "</style>\n",
       "<table border=\"1\" class=\"dataframe\">\n",
       "  <thead>\n",
       "    <tr style=\"text-align: right;\">\n",
       "      <th></th>\n",
       "      <th>fra_kote</th>\n",
       "      <th>til_kote</th>\n",
       "      <th>Laengde</th>\n",
       "      <th>Fald</th>\n",
       "      <th>DiameterIn</th>\n",
       "      <th>MaterialeK</th>\n",
       "      <th>anlag_aar</th>\n",
       "      <th>TransportK</th>\n",
       "      <th>Funktionsk</th>\n",
       "      <th>TVObsKode</th>\n",
       "      <th>DatoSaneri</th>\n",
       "      <th>Age</th>\n",
       "      <th>PipeStatus</th>\n",
       "    </tr>\n",
       "  </thead>\n",
       "  <tbody>\n",
       "    <tr>\n",
       "      <th>36</th>\n",
       "      <td>34.72</td>\n",
       "      <td>33.480000</td>\n",
       "      <td>64.88</td>\n",
       "      <td>19.112207</td>\n",
       "      <td>300.0</td>\n",
       "      <td>1.0</td>\n",
       "      <td>1939.0</td>\n",
       "      <td>1</td>\n",
       "      <td>0</td>\n",
       "      <td>0.0</td>\n",
       "      <td>1997.0</td>\n",
       "      <td>24.0</td>\n",
       "      <td>0</td>\n",
       "    </tr>\n",
       "    <tr>\n",
       "      <th>42</th>\n",
       "      <td>39.46</td>\n",
       "      <td>39.160000</td>\n",
       "      <td>91.75</td>\n",
       "      <td>3.269755</td>\n",
       "      <td>400.0</td>\n",
       "      <td>1.0</td>\n",
       "      <td>1939.0</td>\n",
       "      <td>1</td>\n",
       "      <td>0</td>\n",
       "      <td>1.0</td>\n",
       "      <td>0.0</td>\n",
       "      <td>82.0</td>\n",
       "      <td>1</td>\n",
       "    </tr>\n",
       "    <tr>\n",
       "      <th>43</th>\n",
       "      <td>39.71</td>\n",
       "      <td>39.480000</td>\n",
       "      <td>87.69</td>\n",
       "      <td>2.622876</td>\n",
       "      <td>300.0</td>\n",
       "      <td>1.0</td>\n",
       "      <td>1939.0</td>\n",
       "      <td>1</td>\n",
       "      <td>0</td>\n",
       "      <td>1.0</td>\n",
       "      <td>0.0</td>\n",
       "      <td>82.0</td>\n",
       "      <td>1</td>\n",
       "    </tr>\n",
       "    <tr>\n",
       "      <th>64</th>\n",
       "      <td>40.55</td>\n",
       "      <td>40.080000</td>\n",
       "      <td>52.11</td>\n",
       "      <td>9.019382</td>\n",
       "      <td>250.0</td>\n",
       "      <td>1.0</td>\n",
       "      <td>1945.0</td>\n",
       "      <td>1</td>\n",
       "      <td>0</td>\n",
       "      <td>1.0</td>\n",
       "      <td>0.0</td>\n",
       "      <td>76.0</td>\n",
       "      <td>1</td>\n",
       "    </tr>\n",
       "    <tr>\n",
       "      <th>65</th>\n",
       "      <td>40.38</td>\n",
       "      <td>40.550000</td>\n",
       "      <td>68.39</td>\n",
       "      <td>-2.485744</td>\n",
       "      <td>250.0</td>\n",
       "      <td>1.0</td>\n",
       "      <td>1945.0</td>\n",
       "      <td>1</td>\n",
       "      <td>0</td>\n",
       "      <td>1.0</td>\n",
       "      <td>0.0</td>\n",
       "      <td>76.0</td>\n",
       "      <td>1</td>\n",
       "    </tr>\n",
       "    <tr>\n",
       "      <th>...</th>\n",
       "      <td>...</td>\n",
       "      <td>...</td>\n",
       "      <td>...</td>\n",
       "      <td>...</td>\n",
       "      <td>...</td>\n",
       "      <td>...</td>\n",
       "      <td>...</td>\n",
       "      <td>...</td>\n",
       "      <td>...</td>\n",
       "      <td>...</td>\n",
       "      <td>...</td>\n",
       "      <td>...</td>\n",
       "      <td>...</td>\n",
       "    </tr>\n",
       "    <tr>\n",
       "      <th>1823</th>\n",
       "      <td>25.54</td>\n",
       "      <td>25.100000</td>\n",
       "      <td>54.82</td>\n",
       "      <td>8.026268</td>\n",
       "      <td>250.0</td>\n",
       "      <td>1.0</td>\n",
       "      <td>1943.0</td>\n",
       "      <td>1</td>\n",
       "      <td>0</td>\n",
       "      <td>0.0</td>\n",
       "      <td>0.0</td>\n",
       "      <td>78.0</td>\n",
       "      <td>0</td>\n",
       "    </tr>\n",
       "    <tr>\n",
       "      <th>8131</th>\n",
       "      <td>14.70</td>\n",
       "      <td>13.670000</td>\n",
       "      <td>62.66</td>\n",
       "      <td>16.437919</td>\n",
       "      <td>250.0</td>\n",
       "      <td>1.0</td>\n",
       "      <td>1964.0</td>\n",
       "      <td>1</td>\n",
       "      <td>0</td>\n",
       "      <td>0.0</td>\n",
       "      <td>0.0</td>\n",
       "      <td>57.0</td>\n",
       "      <td>0</td>\n",
       "    </tr>\n",
       "    <tr>\n",
       "      <th>7321</th>\n",
       "      <td>38.27</td>\n",
       "      <td>37.920716</td>\n",
       "      <td>53.48</td>\n",
       "      <td>6.531113</td>\n",
       "      <td>180.0</td>\n",
       "      <td>4.0</td>\n",
       "      <td>1995.0</td>\n",
       "      <td>1</td>\n",
       "      <td>0</td>\n",
       "      <td>0.0</td>\n",
       "      <td>0.0</td>\n",
       "      <td>26.0</td>\n",
       "      <td>0</td>\n",
       "    </tr>\n",
       "    <tr>\n",
       "      <th>8745</th>\n",
       "      <td>32.28</td>\n",
       "      <td>31.790000</td>\n",
       "      <td>31.77</td>\n",
       "      <td>15.423355</td>\n",
       "      <td>600.0</td>\n",
       "      <td>4.0</td>\n",
       "      <td>2007.0</td>\n",
       "      <td>1</td>\n",
       "      <td>0</td>\n",
       "      <td>0.0</td>\n",
       "      <td>0.0</td>\n",
       "      <td>14.0</td>\n",
       "      <td>0</td>\n",
       "    </tr>\n",
       "    <tr>\n",
       "      <th>14629</th>\n",
       "      <td>31.02</td>\n",
       "      <td>30.090000</td>\n",
       "      <td>40.53</td>\n",
       "      <td>22.945966</td>\n",
       "      <td>400.0</td>\n",
       "      <td>1.0</td>\n",
       "      <td>1965.0</td>\n",
       "      <td>1</td>\n",
       "      <td>0</td>\n",
       "      <td>0.0</td>\n",
       "      <td>0.0</td>\n",
       "      <td>56.0</td>\n",
       "      <td>0</td>\n",
       "    </tr>\n",
       "  </tbody>\n",
       "</table>\n",
       "<p>4153 rows × 13 columns</p>\n",
       "</div>"
      ],
      "text/plain": [
       "       fra_kote   til_kote  Laengde       Fald  DiameterIn  MaterialeK  \\\n",
       "36        34.72  33.480000    64.88  19.112207       300.0         1.0   \n",
       "42        39.46  39.160000    91.75   3.269755       400.0         1.0   \n",
       "43        39.71  39.480000    87.69   2.622876       300.0         1.0   \n",
       "64        40.55  40.080000    52.11   9.019382       250.0         1.0   \n",
       "65        40.38  40.550000    68.39  -2.485744       250.0         1.0   \n",
       "...         ...        ...      ...        ...         ...         ...   \n",
       "1823      25.54  25.100000    54.82   8.026268       250.0         1.0   \n",
       "8131      14.70  13.670000    62.66  16.437919       250.0         1.0   \n",
       "7321      38.27  37.920716    53.48   6.531113       180.0         4.0   \n",
       "8745      32.28  31.790000    31.77  15.423355       600.0         4.0   \n",
       "14629     31.02  30.090000    40.53  22.945966       400.0         1.0   \n",
       "\n",
       "       anlag_aar  TransportK  Funktionsk  TVObsKode  DatoSaneri   Age  \\\n",
       "36        1939.0           1           0        0.0      1997.0  24.0   \n",
       "42        1939.0           1           0        1.0         0.0  82.0   \n",
       "43        1939.0           1           0        1.0         0.0  82.0   \n",
       "64        1945.0           1           0        1.0         0.0  76.0   \n",
       "65        1945.0           1           0        1.0         0.0  76.0   \n",
       "...          ...         ...         ...        ...         ...   ...   \n",
       "1823      1943.0           1           0        0.0         0.0  78.0   \n",
       "8131      1964.0           1           0        0.0         0.0  57.0   \n",
       "7321      1995.0           1           0        0.0         0.0  26.0   \n",
       "8745      2007.0           1           0        0.0         0.0  14.0   \n",
       "14629     1965.0           1           0        0.0         0.0  56.0   \n",
       "\n",
       "       PipeStatus  \n",
       "36              0  \n",
       "42              1  \n",
       "43              1  \n",
       "64              1  \n",
       "65              1  \n",
       "...           ...  \n",
       "1823            0  \n",
       "8131            0  \n",
       "7321            0  \n",
       "8745            0  \n",
       "14629           0  \n",
       "\n",
       "[4153 rows x 13 columns]"
      ]
     },
     "execution_count": 15,
     "metadata": {},
     "output_type": "execute_result"
    }
   ],
   "source": [
    "#drop columns not needed after adding new features\n",
    "\n",
    "columns_to_be_removed = ['DatoOprett', 'DatoOpdate']\n",
    "datacopy=datacopy.drop(columns_to_be_removed,axis='columns')\n",
    "datacopy[0:-1]"
   ]
  },
  {
   "cell_type": "code",
   "execution_count": 16,
   "id": "powerful-recall",
   "metadata": {},
   "outputs": [],
   "source": [
    "# creating features set and target\n",
    "\n",
    "columns_to_be_removed = ['PipeStatus']\n",
    "data_features= datacopy.drop(columns_to_be_removed,axis='columns')\n",
    "columns_to_be_removed = ['fra_kote','til_kote', 'Laengde','Fald','DiameterIn','MaterialeK','anlag_aar','TransportK','Funktionsk','TVObsKode','DatoSaneri','Age']\n",
    "data_target=datacopy.drop(columns_to_be_removed,axis='columns')"
   ]
  },
  {
   "cell_type": "code",
   "execution_count": 17,
   "id": "mobile-disclosure",
   "metadata": {},
   "outputs": [
    {
     "name": "stdout",
     "output_type": "stream",
     "text": [
      "Number of rows before removing NaNs: 4154\n",
      "Number of rows after removing NaNs: 4154\n"
     ]
    }
   ],
   "source": [
    "# data_fs= np.where(np.isnan(data_features))\n",
    "# data_fs\n",
    "print(\"Number of rows before removing NaNs: {}\".format(data.shape[0]))\n",
    "data = data.dropna()\n",
    "print(\"Number of rows after removing NaNs: {}\".format(data.shape[0]))"
   ]
  },
  {
   "cell_type": "code",
   "execution_count": 18,
   "id": "essential-newport",
   "metadata": {},
   "outputs": [
    {
     "data": {
      "text/html": [
       "<div>\n",
       "<style scoped>\n",
       "    .dataframe tbody tr th:only-of-type {\n",
       "        vertical-align: middle;\n",
       "    }\n",
       "\n",
       "    .dataframe tbody tr th {\n",
       "        vertical-align: top;\n",
       "    }\n",
       "\n",
       "    .dataframe thead th {\n",
       "        text-align: right;\n",
       "    }\n",
       "</style>\n",
       "<table border=\"1\" class=\"dataframe\">\n",
       "  <thead>\n",
       "    <tr style=\"text-align: right;\">\n",
       "      <th></th>\n",
       "      <th>fra_kote</th>\n",
       "      <th>til_kote</th>\n",
       "      <th>Laengde</th>\n",
       "      <th>Fald</th>\n",
       "      <th>DiameterIn</th>\n",
       "      <th>MaterialeK</th>\n",
       "      <th>anlag_aar</th>\n",
       "      <th>TransportK</th>\n",
       "      <th>Funktionsk</th>\n",
       "      <th>TVObsKode</th>\n",
       "      <th>DatoOprett</th>\n",
       "      <th>DatoOpdate</th>\n",
       "      <th>DatoSaneri</th>\n",
       "      <th>Age</th>\n",
       "      <th>PipeStatus</th>\n",
       "    </tr>\n",
       "  </thead>\n",
       "  <tbody>\n",
       "    <tr>\n",
       "      <th>36</th>\n",
       "      <td>34.72</td>\n",
       "      <td>33.480000</td>\n",
       "      <td>64.88</td>\n",
       "      <td>19.112207</td>\n",
       "      <td>300.0</td>\n",
       "      <td>1.0</td>\n",
       "      <td>1939.0</td>\n",
       "      <td>1</td>\n",
       "      <td>0</td>\n",
       "      <td>0.0</td>\n",
       "      <td>2010</td>\n",
       "      <td>2014</td>\n",
       "      <td>1997.0</td>\n",
       "      <td>24.0</td>\n",
       "      <td>0</td>\n",
       "    </tr>\n",
       "    <tr>\n",
       "      <th>42</th>\n",
       "      <td>39.46</td>\n",
       "      <td>39.160000</td>\n",
       "      <td>91.75</td>\n",
       "      <td>3.269755</td>\n",
       "      <td>400.0</td>\n",
       "      <td>1.0</td>\n",
       "      <td>1939.0</td>\n",
       "      <td>1</td>\n",
       "      <td>0</td>\n",
       "      <td>1.0</td>\n",
       "      <td>2010</td>\n",
       "      <td>2014</td>\n",
       "      <td>0.0</td>\n",
       "      <td>82.0</td>\n",
       "      <td>1</td>\n",
       "    </tr>\n",
       "    <tr>\n",
       "      <th>43</th>\n",
       "      <td>39.71</td>\n",
       "      <td>39.480000</td>\n",
       "      <td>87.69</td>\n",
       "      <td>2.622876</td>\n",
       "      <td>300.0</td>\n",
       "      <td>1.0</td>\n",
       "      <td>1939.0</td>\n",
       "      <td>1</td>\n",
       "      <td>0</td>\n",
       "      <td>1.0</td>\n",
       "      <td>2010</td>\n",
       "      <td>2014</td>\n",
       "      <td>0.0</td>\n",
       "      <td>82.0</td>\n",
       "      <td>1</td>\n",
       "    </tr>\n",
       "    <tr>\n",
       "      <th>64</th>\n",
       "      <td>40.55</td>\n",
       "      <td>40.080000</td>\n",
       "      <td>52.11</td>\n",
       "      <td>9.019382</td>\n",
       "      <td>250.0</td>\n",
       "      <td>1.0</td>\n",
       "      <td>1945.0</td>\n",
       "      <td>1</td>\n",
       "      <td>0</td>\n",
       "      <td>1.0</td>\n",
       "      <td>2010</td>\n",
       "      <td>2014</td>\n",
       "      <td>0.0</td>\n",
       "      <td>76.0</td>\n",
       "      <td>1</td>\n",
       "    </tr>\n",
       "    <tr>\n",
       "      <th>65</th>\n",
       "      <td>40.38</td>\n",
       "      <td>40.550000</td>\n",
       "      <td>68.39</td>\n",
       "      <td>-2.485744</td>\n",
       "      <td>250.0</td>\n",
       "      <td>1.0</td>\n",
       "      <td>1945.0</td>\n",
       "      <td>1</td>\n",
       "      <td>0</td>\n",
       "      <td>1.0</td>\n",
       "      <td>2010</td>\n",
       "      <td>2014</td>\n",
       "      <td>0.0</td>\n",
       "      <td>76.0</td>\n",
       "      <td>1</td>\n",
       "    </tr>\n",
       "    <tr>\n",
       "      <th>...</th>\n",
       "      <td>...</td>\n",
       "      <td>...</td>\n",
       "      <td>...</td>\n",
       "      <td>...</td>\n",
       "      <td>...</td>\n",
       "      <td>...</td>\n",
       "      <td>...</td>\n",
       "      <td>...</td>\n",
       "      <td>...</td>\n",
       "      <td>...</td>\n",
       "      <td>...</td>\n",
       "      <td>...</td>\n",
       "      <td>...</td>\n",
       "      <td>...</td>\n",
       "      <td>...</td>\n",
       "    </tr>\n",
       "    <tr>\n",
       "      <th>8131</th>\n",
       "      <td>14.70</td>\n",
       "      <td>13.670000</td>\n",
       "      <td>62.66</td>\n",
       "      <td>16.437919</td>\n",
       "      <td>250.0</td>\n",
       "      <td>1.0</td>\n",
       "      <td>1964.0</td>\n",
       "      <td>1</td>\n",
       "      <td>0</td>\n",
       "      <td>0.0</td>\n",
       "      <td>2010</td>\n",
       "      <td>2014</td>\n",
       "      <td>0.0</td>\n",
       "      <td>57.0</td>\n",
       "      <td>0</td>\n",
       "    </tr>\n",
       "    <tr>\n",
       "      <th>7321</th>\n",
       "      <td>38.27</td>\n",
       "      <td>37.920716</td>\n",
       "      <td>53.48</td>\n",
       "      <td>6.531113</td>\n",
       "      <td>180.0</td>\n",
       "      <td>4.0</td>\n",
       "      <td>1995.0</td>\n",
       "      <td>1</td>\n",
       "      <td>0</td>\n",
       "      <td>0.0</td>\n",
       "      <td>2010</td>\n",
       "      <td>2014</td>\n",
       "      <td>0.0</td>\n",
       "      <td>26.0</td>\n",
       "      <td>0</td>\n",
       "    </tr>\n",
       "    <tr>\n",
       "      <th>8745</th>\n",
       "      <td>32.28</td>\n",
       "      <td>31.790000</td>\n",
       "      <td>31.77</td>\n",
       "      <td>15.423355</td>\n",
       "      <td>600.0</td>\n",
       "      <td>4.0</td>\n",
       "      <td>2007.0</td>\n",
       "      <td>1</td>\n",
       "      <td>0</td>\n",
       "      <td>0.0</td>\n",
       "      <td>2010</td>\n",
       "      <td>2014</td>\n",
       "      <td>0.0</td>\n",
       "      <td>14.0</td>\n",
       "      <td>0</td>\n",
       "    </tr>\n",
       "    <tr>\n",
       "      <th>14629</th>\n",
       "      <td>31.02</td>\n",
       "      <td>30.090000</td>\n",
       "      <td>40.53</td>\n",
       "      <td>22.945966</td>\n",
       "      <td>400.0</td>\n",
       "      <td>1.0</td>\n",
       "      <td>1965.0</td>\n",
       "      <td>1</td>\n",
       "      <td>0</td>\n",
       "      <td>0.0</td>\n",
       "      <td>2010</td>\n",
       "      <td>2014</td>\n",
       "      <td>0.0</td>\n",
       "      <td>56.0</td>\n",
       "      <td>0</td>\n",
       "    </tr>\n",
       "    <tr>\n",
       "      <th>9168</th>\n",
       "      <td>53.31</td>\n",
       "      <td>52.260000</td>\n",
       "      <td>56.88</td>\n",
       "      <td>18.459916</td>\n",
       "      <td>200.0</td>\n",
       "      <td>1.0</td>\n",
       "      <td>1970.0</td>\n",
       "      <td>1</td>\n",
       "      <td>0</td>\n",
       "      <td>0.0</td>\n",
       "      <td>2010</td>\n",
       "      <td>2014</td>\n",
       "      <td>0.0</td>\n",
       "      <td>51.0</td>\n",
       "      <td>0</td>\n",
       "    </tr>\n",
       "  </tbody>\n",
       "</table>\n",
       "<p>4154 rows × 15 columns</p>\n",
       "</div>"
      ],
      "text/plain": [
       "       fra_kote   til_kote  Laengde       Fald  DiameterIn  MaterialeK  \\\n",
       "36        34.72  33.480000    64.88  19.112207       300.0         1.0   \n",
       "42        39.46  39.160000    91.75   3.269755       400.0         1.0   \n",
       "43        39.71  39.480000    87.69   2.622876       300.0         1.0   \n",
       "64        40.55  40.080000    52.11   9.019382       250.0         1.0   \n",
       "65        40.38  40.550000    68.39  -2.485744       250.0         1.0   \n",
       "...         ...        ...      ...        ...         ...         ...   \n",
       "8131      14.70  13.670000    62.66  16.437919       250.0         1.0   \n",
       "7321      38.27  37.920716    53.48   6.531113       180.0         4.0   \n",
       "8745      32.28  31.790000    31.77  15.423355       600.0         4.0   \n",
       "14629     31.02  30.090000    40.53  22.945966       400.0         1.0   \n",
       "9168      53.31  52.260000    56.88  18.459916       200.0         1.0   \n",
       "\n",
       "       anlag_aar  TransportK  Funktionsk  TVObsKode  DatoOprett  DatoOpdate  \\\n",
       "36        1939.0           1           0        0.0        2010        2014   \n",
       "42        1939.0           1           0        1.0        2010        2014   \n",
       "43        1939.0           1           0        1.0        2010        2014   \n",
       "64        1945.0           1           0        1.0        2010        2014   \n",
       "65        1945.0           1           0        1.0        2010        2014   \n",
       "...          ...         ...         ...        ...         ...         ...   \n",
       "8131      1964.0           1           0        0.0        2010        2014   \n",
       "7321      1995.0           1           0        0.0        2010        2014   \n",
       "8745      2007.0           1           0        0.0        2010        2014   \n",
       "14629     1965.0           1           0        0.0        2010        2014   \n",
       "9168      1970.0           1           0        0.0        2010        2014   \n",
       "\n",
       "       DatoSaneri   Age  PipeStatus  \n",
       "36         1997.0  24.0           0  \n",
       "42            0.0  82.0           1  \n",
       "43            0.0  82.0           1  \n",
       "64            0.0  76.0           1  \n",
       "65            0.0  76.0           1  \n",
       "...           ...   ...         ...  \n",
       "8131          0.0  57.0           0  \n",
       "7321          0.0  26.0           0  \n",
       "8745          0.0  14.0           0  \n",
       "14629         0.0  56.0           0  \n",
       "9168          0.0  51.0           0  \n",
       "\n",
       "[4154 rows x 15 columns]"
      ]
     },
     "execution_count": 18,
     "metadata": {},
     "output_type": "execute_result"
    }
   ],
   "source": [
    "data"
   ]
  },
  {
   "cell_type": "code",
   "execution_count": 19,
   "id": "radio-sarah",
   "metadata": {},
   "outputs": [],
   "source": [
    "# Divide the data into training and test\n",
    "X_train, X_test, y_train, y_test = train_test_split(data_features, data_target, random_state=42)"
   ]
  },
  {
   "cell_type": "code",
   "execution_count": 20,
   "id": "described-thriller",
   "metadata": {},
   "outputs": [],
   "source": [
    "#scale the feature for neural networks\n",
    "scaler = MinMaxScaler()\n",
    "scaler.fit(X_train)\n",
    "X_train_scaled = scaler.transform(X_train)\n",
    "X_test_scaled = scaler.transform(X_test)"
   ]
  },
  {
   "cell_type": "code",
   "execution_count": 21,
   "id": "pressed-large",
   "metadata": {},
   "outputs": [],
   "source": [
    "X_train_scaled = tf.expand_dims(X_train_scaled, axis=-1)\n",
    "X_train_scaled = tf.expand_dims(X_train_scaled, axis=-1)"
   ]
  },
  {
   "cell_type": "code",
   "execution_count": 22,
   "id": "foreign-plate",
   "metadata": {},
   "outputs": [],
   "source": [
    "X_test_scaled = tf.expand_dims(X_test_scaled, axis=-1)\n",
    "X_test_scaled = tf.expand_dims(X_test_scaled, axis=-1)"
   ]
  },
  {
   "cell_type": "markdown",
   "id": "behind-tractor",
   "metadata": {},
   "source": [
    "# CNN using activation function 'tanh'"
   ]
  },
  {
   "cell_type": "code",
   "execution_count": 23,
   "id": "thermal-passage",
   "metadata": {},
   "outputs": [],
   "source": [
    "#CNN\n",
    "from keras.models import Sequential\n",
    "\n",
    "model_1 = keras.models.Sequential()\n",
    "model_1.add(keras.layers.Conv2D(32, (3, 3), padding='same',activation='tanh', input_shape=X_train_scaled[0].shape))\n",
    "model_1.add(keras.layers.MaxPooling2D((1, 1)))\n",
    "model_1.add(keras.layers.Flatten())\n",
    "model_1.add(keras.layers.Dense(2, activation='softmax'))\n",
    "# compile model\n",
    "opt = SGD(learning_rate=0.01, momentum=0.9)\n",
    "model_1.compile(optimizer=opt, loss=tf.keras.losses.SparseCategoricalCrossentropy(from_logits=True), metrics=['accuracy'])\n"
   ]
  },
  {
   "cell_type": "code",
   "execution_count": 24,
   "id": "conditional-sampling",
   "metadata": {
    "scrolled": false
   },
   "outputs": [
    {
     "name": "stdout",
     "output_type": "stream",
     "text": [
      "Epoch 1/5\n",
      "98/98 [==============================] - 0s 1ms/step - loss: 0.3396 - accuracy: 0.8568\n",
      "Epoch 2/5\n",
      "98/98 [==============================] - 0s 2ms/step - loss: 0.0623 - accuracy: 0.9884\n",
      "Epoch 3/5\n",
      "98/98 [==============================] - 0s 2ms/step - loss: 0.0367 - accuracy: 0.9881\n",
      "Epoch 4/5\n",
      "98/98 [==============================] - 0s 2ms/step - loss: 0.0293 - accuracy: 0.9891\n",
      "Epoch 5/5\n",
      "98/98 [==============================] - 0s 2ms/step - loss: 0.0270 - accuracy: 0.9881: 0s - loss: 0.0329 - accuracy: \n",
      "Wall time: 1.18 s\n"
     ]
    },
    {
     "data": {
      "text/plain": [
       "<keras.callbacks.History at 0x16deedafa00>"
      ]
     },
     "execution_count": 24,
     "metadata": {},
     "output_type": "execute_result"
    }
   ],
   "source": [
    "%%time\n",
    "model_1.fit(X_train_scaled,y_train,epochs=5)"
   ]
  },
  {
   "cell_type": "markdown",
   "id": "rocky-specialist",
   "metadata": {},
   "source": [
    "# CNN using activation function 'relu'"
   ]
  },
  {
   "cell_type": "code",
   "execution_count": 25,
   "id": "straight-officer",
   "metadata": {},
   "outputs": [],
   "source": [
    "#CNN\n",
    "from keras.models import Sequential\n",
    "\n",
    "model_2 = keras.models.Sequential()\n",
    "model_2.add(keras.layers.Conv2D(32, (3, 3), padding='same',activation='relu', input_shape=X_train_scaled[0].shape))\n",
    "model_2.add(keras.layers.MaxPooling2D((1, 1)))\n",
    "model_2.add(keras.layers.Flatten())\n",
    "model_2.add(keras.layers.Dense(20, activation='relu'))\n",
    "\n",
    "model_2.add(keras.layers.Dense(2, activation='softmax'))\n",
    "# compile model\n",
    "opt = SGD(learning_rate=0.01, momentum=0.9)\n",
    "model_2.compile(optimizer=opt, loss=tf.keras.losses.SparseCategoricalCrossentropy(from_logits=True), metrics=['accuracy'])\n"
   ]
  },
  {
   "cell_type": "code",
   "execution_count": 26,
   "id": "atmospheric-stopping",
   "metadata": {
    "scrolled": false
   },
   "outputs": [
    {
     "name": "stdout",
     "output_type": "stream",
     "text": [
      "Epoch 1/5\n",
      "98/98 [==============================] - 0s 2ms/step - loss: 0.2998 - accuracy: 0.8899\n",
      "Epoch 2/5\n",
      "98/98 [==============================] - 0s 2ms/step - loss: 0.0303 - accuracy: 0.9881\n",
      "Epoch 3/5\n",
      "98/98 [==============================] - 0s 2ms/step - loss: 0.0230 - accuracy: 0.9888\n",
      "Epoch 4/5\n",
      "98/98 [==============================] - 0s 2ms/step - loss: 0.0221 - accuracy: 0.9900\n",
      "Epoch 5/5\n",
      "98/98 [==============================] - 0s 2ms/step - loss: 0.0221 - accuracy: 0.9891\n",
      "Wall time: 1.13 s\n"
     ]
    },
    {
     "data": {
      "text/plain": [
       "<keras.callbacks.History at 0x16deefb7580>"
      ]
     },
     "execution_count": 26,
     "metadata": {},
     "output_type": "execute_result"
    }
   ],
   "source": [
    "%%time\n",
    "model_2.fit(X_train_scaled,y_train,epochs=5)"
   ]
  },
  {
   "cell_type": "markdown",
   "id": "imported-ghana",
   "metadata": {},
   "source": [
    "# CNN using activation function 'sigmoid' "
   ]
  },
  {
   "cell_type": "code",
   "execution_count": 27,
   "id": "passive-provision",
   "metadata": {},
   "outputs": [],
   "source": [
    "#CNN\n",
    "from keras.models import Sequential\n",
    "\n",
    "model_3 = keras.models.Sequential()\n",
    "model_3.add(keras.layers.Conv2D(32, (3, 3), padding='same',activation='sigmoid', input_shape=X_train_scaled[0].shape))\n",
    "model_3.add(keras.layers.MaxPooling2D((1, 1)))\n",
    "model_3.add(keras.layers.Flatten())\n",
    "model_3.add(keras.layers.Dense(100, activation='sigmoid', kernel_initializer='he_uniform'))\n",
    "model_3.add(keras.layers.BatchNormalization())\n",
    "\n",
    "model_3.add(keras.layers.Dense(2, activation='softmax'))\n",
    "# compile model\n",
    "opt = SGD(learning_rate=0.1, momentum=0.9)\n",
    "model_3.compile(optimizer=opt, loss=tf.keras.losses.SparseCategoricalCrossentropy(from_logits=True), metrics=['accuracy'])\n"
   ]
  },
  {
   "cell_type": "code",
   "execution_count": 28,
   "id": "official-heaven",
   "metadata": {
    "scrolled": false
   },
   "outputs": [
    {
     "name": "stdout",
     "output_type": "stream",
     "text": [
      "Epoch 1/5\n",
      "98/98 [==============================] - 1s 2ms/step - loss: 0.0673 - accuracy: 0.9782\n",
      "Epoch 2/5\n",
      "98/98 [==============================] - 0s 2ms/step - loss: 0.0266 - accuracy: 0.9894\n",
      "Epoch 3/5\n",
      "98/98 [==============================] - 0s 2ms/step - loss: 0.0263 - accuracy: 0.9884\n",
      "Epoch 4/5\n",
      "98/98 [==============================] - 0s 2ms/step - loss: 0.0324 - accuracy: 0.9891\n",
      "Epoch 5/5\n",
      "98/98 [==============================] - 0s 2ms/step - loss: 0.0280 - accuracy: 0.9881\n",
      "Wall time: 1.35 s\n"
     ]
    },
    {
     "data": {
      "text/plain": [
       "<keras.callbacks.History at 0x16def0cc700>"
      ]
     },
     "execution_count": 28,
     "metadata": {},
     "output_type": "execute_result"
    }
   ],
   "source": [
    "%%time\n",
    "model_3.fit(X_train_scaled,y_train,epochs=5)"
   ]
  },
  {
   "cell_type": "markdown",
   "id": "north-hungary",
   "metadata": {},
   "source": [
    "# Fully connected"
   ]
  },
  {
   "cell_type": "code",
   "execution_count": 29,
   "id": "heard-compiler",
   "metadata": {},
   "outputs": [
    {
     "name": "stdout",
     "output_type": "stream",
     "text": [
      "Model: \"sequential_3\"\n",
      "_________________________________________________________________\n",
      " Layer (type)                Output Shape              Param #   \n",
      "=================================================================\n",
      " dense_5 (Dense)             (None, 512)               6656      \n",
      "                                                                 \n",
      " activation (Activation)     (None, 512)               0         \n",
      "                                                                 \n",
      " dropout (Dropout)           (None, 512)               0         \n",
      "                                                                 \n",
      " dense_6 (Dense)             (None, 512)               262656    \n",
      "                                                                 \n",
      " activation_1 (Activation)   (None, 512)               0         \n",
      "                                                                 \n",
      " dropout_1 (Dropout)         (None, 512)               0         \n",
      "                                                                 \n",
      " dense_7 (Dense)             (None, 10)                5130      \n",
      "                                                                 \n",
      " activation_2 (Activation)   (None, 10)                0         \n",
      "                                                                 \n",
      "=================================================================\n",
      "Total params: 274,442\n",
      "Trainable params: 274,442\n",
      "Non-trainable params: 0\n",
      "_________________________________________________________________\n",
      "Wall time: 52.3 ms\n"
     ]
    }
   ],
   "source": [
    "%%time\n",
    "model_4 = keras.models.Sequential()\n",
    "model_4.add(keras.layers.Dense(512, input_shape=(12,))) #(784,) is not a typo -- that represents a 784 length vector!\n",
    "model_4.add(keras.layers.Activation('relu'))\n",
    "model_4.add(keras.layers.Dropout(0.2))\n",
    "#2nd hidden layer\n",
    "model_4.add(keras.layers.Dense(512))\n",
    "model_4.add(keras.layers.Activation('relu'))\n",
    "model_4.add(keras.layers.Dropout(0.2))\n",
    "#3rd\n",
    "model_4.add(keras.layers.Dense(10))\n",
    "model_4.add(keras.layers.Activation('softmax'))\n",
    "model_4.summary()\n",
    "\n",
    "model_4.compile(loss=tf.keras.losses.SparseCategoricalCrossentropy(from_logits=True), optimizer='adam', metrics=['accuracy'])"
   ]
  },
  {
   "cell_type": "code",
   "execution_count": 30,
   "id": "architectural-metropolitan",
   "metadata": {},
   "outputs": [],
   "source": [
    "#scale the feature for neural networks\n",
    "scaler = MinMaxScaler()\n",
    "scaler.fit(X_train)\n",
    "x_train_scaled = scaler.transform(X_train)\n",
    "x_test_scaled = scaler.transform(X_test)"
   ]
  },
  {
   "cell_type": "code",
   "execution_count": 31,
   "id": "invisible-straight",
   "metadata": {},
   "outputs": [
    {
     "name": "stdout",
     "output_type": "stream",
     "text": [
      "Epoch 1/5\n",
      "25/25 [==============================] - 0s 6ms/step - loss: 0.6656 - accuracy: 0.8372\n",
      "Epoch 2/5\n",
      "25/25 [==============================] - 0s 6ms/step - loss: 0.0283 - accuracy: 0.9872\n",
      "Epoch 3/5\n",
      "25/25 [==============================] - 0s 5ms/step - loss: 0.0222 - accuracy: 0.9881\n",
      "Epoch 4/5\n",
      "25/25 [==============================] - 0s 5ms/step - loss: 0.0262 - accuracy: 0.9859\n",
      "Epoch 5/5\n",
      "25/25 [==============================] - 0s 5ms/step - loss: 0.0224 - accuracy: 0.9881\n",
      "Wall time: 1.02 s\n"
     ]
    },
    {
     "data": {
      "text/plain": [
       "<keras.callbacks.History at 0x16def217520>"
      ]
     },
     "execution_count": 31,
     "metadata": {},
     "output_type": "execute_result"
    }
   ],
   "source": [
    "%%time\n",
    "model_4.fit(x_train_scaled, y_train,batch_size=128, epochs=5,verbose=1)"
   ]
  },
  {
   "cell_type": "markdown",
   "id": "northern-bearing",
   "metadata": {},
   "source": [
    "# test accuracy for each model"
   ]
  },
  {
   "cell_type": "code",
   "execution_count": 32,
   "id": "ready-bruce",
   "metadata": {},
   "outputs": [
    {
     "name": "stdout",
     "output_type": "stream",
     "text": [
      "33/33 [==============================] - 0s 1ms/step - loss: 0.0268 - accuracy: 0.9846\n",
      "\n",
      "Test accuracy:  0.9846006035804749\n",
      "Wall time: 197 ms\n"
     ]
    }
   ],
   "source": [
    "%%time\n",
    "\n",
    "# test the model on testing data\n",
    "loss_1, acc_1 = model_1.evaluate(X_test_scaled, y_test, verbose = 1)\n",
    "print('\\nTest accuracy: ', acc_1)"
   ]
  },
  {
   "cell_type": "code",
   "execution_count": 33,
   "id": "amended-watson",
   "metadata": {},
   "outputs": [
    {
     "name": "stdout",
     "output_type": "stream",
     "text": [
      "33/33 [==============================] - 0s 1ms/step - loss: 0.0274 - accuracy: 0.9846\n",
      "\n",
      "Test accuracy:  0.9846006035804749\n",
      "Wall time: 155 ms\n"
     ]
    }
   ],
   "source": [
    "%%time\n",
    "\n",
    "# test the model on testing data\n",
    "loss_2, acc_2 = model_2.evaluate(X_test_scaled, y_test, verbose = 1)\n",
    "print('\\nTest accuracy: ', acc_2)"
   ]
  },
  {
   "cell_type": "code",
   "execution_count": 34,
   "id": "capable-rubber",
   "metadata": {},
   "outputs": [
    {
     "name": "stdout",
     "output_type": "stream",
     "text": [
      "33/33 [==============================] - 0s 1ms/step - loss: 0.3555 - accuracy: 0.8056\n",
      "\n",
      "Test accuracy:  0.8055822849273682\n",
      "Wall time: 209 ms\n"
     ]
    }
   ],
   "source": [
    "%%time\n",
    "\n",
    "# test the model on testing data\n",
    "loss_3, acc_3 = model_3.evaluate(X_test_scaled, y_test, verbose = 1)\n",
    "print('\\nTest accuracy: ', acc_3)"
   ]
  },
  {
   "cell_type": "code",
   "execution_count": 35,
   "id": "closing-pattern",
   "metadata": {},
   "outputs": [
    {
     "name": "stdout",
     "output_type": "stream",
     "text": [
      "33/33 [==============================] - 0s 2ms/step - loss: 0.0237 - accuracy: 0.9846\n",
      "\n",
      "Test accuracy:  0.9846006035804749\n",
      "Wall time: 196 ms\n"
     ]
    }
   ],
   "source": [
    "%%time\n",
    "\n",
    "# test the model on testing data\n",
    "loss_4, acc_4 = model_4.evaluate(x_test_scaled, y_test, verbose = 1)\n",
    "print('\\nTest accuracy: ', acc_4)"
   ]
  },
  {
   "cell_type": "code",
   "execution_count": null,
   "id": "nervous-dakota",
   "metadata": {},
   "outputs": [],
   "source": []
  },
  {
   "cell_type": "code",
   "execution_count": 37,
   "id": "postal-recruitment",
   "metadata": {
    "scrolled": true
   },
   "outputs": [
    {
     "name": "stdout",
     "output_type": "stream",
     "text": [
      "Accuracy on test set: 0.9846\n",
      "Confusion matrix: \n",
      " [[819  16]\n",
      " [  0 204]]\n",
      "Wall time: 125 ms\n"
     ]
    }
   ],
   "source": [
    "%%time\n",
    "#CNN model_1\n",
    "y_pred_1 = model_1.predict(X_test_scaled).argmax(axis=1) #1d array\n",
    "print(\"Accuracy on test set: {:.4f}\".format(accuracy_score(y_test,y_pred_1)))\n",
    "print(\"Confusion matrix: \\n\", confusion_matrix(y_test,y_pred_1))"
   ]
  },
  {
   "cell_type": "code",
   "execution_count": 38,
   "id": "imported-cycle",
   "metadata": {},
   "outputs": [
    {
     "name": "stdout",
     "output_type": "stream",
     "text": [
      "              precision    recall  f1-score   support\n",
      "\n",
      "           0       1.00      0.98      0.99       835\n",
      "           1       0.93      1.00      0.96       204\n",
      "\n",
      "    accuracy                           0.98      1039\n",
      "   macro avg       0.96      0.99      0.98      1039\n",
      "weighted avg       0.99      0.98      0.98      1039\n",
      "\n"
     ]
    }
   ],
   "source": [
    "\n",
    "print(classification_report(y_test, y_pred_1))"
   ]
  },
  {
   "cell_type": "code",
   "execution_count": 40,
   "id": "structured-compound",
   "metadata": {},
   "outputs": [
    {
     "name": "stdout",
     "output_type": "stream",
     "text": [
      "Accuracy on test set: 0.9846\n",
      "Confusion matrix: \n",
      " [[819  16]\n",
      " [  0 204]]\n",
      "Wall time: 131 ms\n"
     ]
    }
   ],
   "source": [
    "%%time\n",
    "#CNN model\n",
    "y_pred_2 = model_2.predict(X_test_scaled).argmax(axis=1)\n",
    "print(\"Accuracy on test set: {:.4f}\".format(accuracy_score(y_test,y_pred_2)))\n",
    "print(\"Confusion matrix: \\n\", confusion_matrix(y_test,y_pred_2))"
   ]
  },
  {
   "cell_type": "code",
   "execution_count": 41,
   "id": "alone-niger",
   "metadata": {},
   "outputs": [
    {
     "name": "stdout",
     "output_type": "stream",
     "text": [
      "              precision    recall  f1-score   support\n",
      "\n",
      "           0       1.00      0.98      0.99       835\n",
      "           1       0.93      1.00      0.96       204\n",
      "\n",
      "    accuracy                           0.98      1039\n",
      "   macro avg       0.96      0.99      0.98      1039\n",
      "weighted avg       0.99      0.98      0.98      1039\n",
      "\n"
     ]
    }
   ],
   "source": [
    "print(classification_report(y_test, y_pred_2))"
   ]
  },
  {
   "cell_type": "code",
   "execution_count": 42,
   "id": "mighty-pollution",
   "metadata": {},
   "outputs": [
    {
     "name": "stdout",
     "output_type": "stream",
     "text": [
      "Accuracy on test set: 0.8056\n",
      "Confusion matrix: \n",
      " [[835   0]\n",
      " [202   2]]\n",
      "Wall time: 143 ms\n"
     ]
    }
   ],
   "source": [
    "%%time\n",
    "y_pred_3 = model_3.predict(X_test_scaled).argmax(axis=1)\n",
    "print(\"Accuracy on test set: {:.4f}\".format(accuracy_score(y_test,y_pred_3)))\n",
    "print(\"Confusion matrix: \\n\", confusion_matrix(y_test,y_pred_3))"
   ]
  },
  {
   "cell_type": "code",
   "execution_count": 43,
   "id": "animated-moisture",
   "metadata": {},
   "outputs": [
    {
     "name": "stdout",
     "output_type": "stream",
     "text": [
      "              precision    recall  f1-score   support\n",
      "\n",
      "           0       0.81      1.00      0.89       835\n",
      "           1       1.00      0.01      0.02       204\n",
      "\n",
      "    accuracy                           0.81      1039\n",
      "   macro avg       0.90      0.50      0.46      1039\n",
      "weighted avg       0.84      0.81      0.72      1039\n",
      "\n"
     ]
    }
   ],
   "source": [
    "print(classification_report(y_test, y_pred_3))"
   ]
  },
  {
   "cell_type": "code",
   "execution_count": 44,
   "id": "colonial-selection",
   "metadata": {},
   "outputs": [
    {
     "name": "stdout",
     "output_type": "stream",
     "text": [
      "Accuracy on test set: 0.9846\n",
      "Confusion matrix: \n",
      " [[819  16]\n",
      " [  0 204]]\n",
      "Wall time: 140 ms\n"
     ]
    }
   ],
   "source": [
    "%%time\n",
    "\n",
    "y_pred_4 = model_4.predict(x_test_scaled).argmax(axis=1)\n",
    "print(\"Accuracy on test set: {:.4f}\".format(accuracy_score(y_test,y_pred_4)))\n",
    "print(\"Confusion matrix: \\n\", confusion_matrix(y_test,y_pred_4))"
   ]
  },
  {
   "cell_type": "code",
   "execution_count": 45,
   "id": "indian-calculation",
   "metadata": {},
   "outputs": [
    {
     "name": "stdout",
     "output_type": "stream",
     "text": [
      "              precision    recall  f1-score   support\n",
      "\n",
      "           0       1.00      0.98      0.99       835\n",
      "           1       0.93      1.00      0.96       204\n",
      "\n",
      "    accuracy                           0.98      1039\n",
      "   macro avg       0.96      0.99      0.98      1039\n",
      "weighted avg       0.99      0.98      0.98      1039\n",
      "\n"
     ]
    }
   ],
   "source": [
    "print(classification_report(y_test, y_pred_4))"
   ]
  },
  {
   "cell_type": "code",
   "execution_count": null,
   "id": "grateful-highlight",
   "metadata": {},
   "outputs": [],
   "source": []
  }
 ],
 "metadata": {
  "kernelspec": {
   "display_name": "Python 3",
   "language": "python",
   "name": "python3"
  },
  "language_info": {
   "codemirror_mode": {
    "name": "ipython",
    "version": 3
   },
   "file_extension": ".py",
   "mimetype": "text/x-python",
   "name": "python",
   "nbconvert_exporter": "python",
   "pygments_lexer": "ipython3",
   "version": "3.9.9"
  }
 },
 "nbformat": 4,
 "nbformat_minor": 5
}
