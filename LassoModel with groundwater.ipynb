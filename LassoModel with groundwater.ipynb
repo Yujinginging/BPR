{
 "cells": [
  {
   "cell_type": "code",
   "execution_count": 1,
   "metadata": {},
   "outputs": [],
   "source": [
    "%matplotlib inline\n",
    "import numpy as np\n",
    "import pandas as pd\n",
    "import sklearn as sk\n",
    "import seaborn as sns\n",
    "import warnings; warnings.simplefilter('ignore')\n",
    "import matplotlib.pyplot as plt\n",
    "import mglearn\n",
    "from sklearn.model_selection import train_test_split\n",
    "from sklearn.model_selection import cross_val_score\n",
    "from sklearn.preprocessing import MinMaxScaler\n",
    "from sklearn.preprocessing import StandardScaler\n",
    "from sklearn.linear_model import LinearRegression, Ridge, RidgeCV, Lasso, LassoCV\n",
    "from sklearn.metrics import mean_squared_error"
   ]
  },
  {
   "cell_type": "markdown",
   "metadata": {},
   "source": [
    "# Data Preparation and Feature Engineering:"
   ]
  },
  {
   "cell_type": "code",
   "execution_count": 2,
   "id": "thick-retirement",
   "metadata": {},
   "outputs": [],
   "source": [
    "def read_xyz(fileName):\n",
    "    \n",
    "    xyz_coordinates = [] #put xyz in an array\n",
    "    \n",
    "    with open(fileName,\"r\") as file:\n",
    "        for line_number,line in enumerate(file):\n",
    "            x,y,z = line.split()\n",
    "            \n",
    "            xyz_coordinates.append([int(x),int(y),float(z)])\n",
    "    return xyz_coordinates"
   ]
  },
  {
   "cell_type": "code",
   "execution_count": 3,
   "id": "vocational-breath",
   "metadata": {},
   "outputs": [],
   "source": [
    "groundwater_map = read_xyz(\"GRW_MBS_50m.xyz\")"
   ]
  },
  {
   "cell_type": "code",
   "execution_count": 4,
   "id": "female-bidder",
   "metadata": {},
   "outputs": [],
   "source": [
    "#display in dataframe \n",
    "#add cplumns of name\n",
    "my_array = np.array(groundwater_map)\n",
    "\n",
    "df = pd.DataFrame(my_array, columns = ['XKoordinat','YKoordinat','Depth'])\n",
    "\n"
   ]
  },
  {
   "cell_type": "markdown",
   "id": "located-sensitivity",
   "metadata": {},
   "source": [
    "Now we have a table with x,y coordinates and depths. Next step is to copmare with csv file coordinates and get a column to state the ground water level."
   ]
  },
  {
   "cell_type": "code",
   "execution_count": null,
   "id": "southwest-alliance",
   "metadata": {},
   "outputs": [],
   "source": []
  },
  {
   "cell_type": "code",
   "execution_count": 5,
   "id": "hispanic-separate",
   "metadata": {},
   "outputs": [],
   "source": [
    "data = pd.read_csv(\"Energi_Viborg_Dandas_data.csv\")\n",
    "\n",
    "#drop columns not needed after asking the company about the meaning of these features\n",
    "\n",
    "columns_to_be_removed = [ 'mslink','LedningID','Dobbeltled','EjerKompon','SystemKode','KategoriAf','DatoUdf']\n",
    "data=data.drop(columns_to_be_removed,axis='columns')\n",
    "\n",
    "# in the column DatoSaneri is the date of repairing and if there is no date it means it is not repaired\n",
    "\n",
    "data['DatoSaneri'].fillna(0, inplace=True)"
   ]
  },
  {
   "cell_type": "code",
   "execution_count": 6,
   "id": "speaking-cleanup",
   "metadata": {},
   "outputs": [],
   "source": [
    "# take only the pipes that are broken(by TV insection) now and the repaired ones\n",
    "\n",
    "data_with_TVObsAndSaneri = data[data['TVObsKode'].isin([1]) | data['DatoSaneri'] > 0]"
   ]
  },
  {
   "cell_type": "markdown",
   "id": "powered-ordinary",
   "metadata": {},
   "source": [
    "get matched depth withground water of broken pipes"
   ]
  },
  {
   "cell_type": "code",
   "execution_count": 7,
   "id": "verified-impression",
   "metadata": {},
   "outputs": [],
   "source": [
    "def get_matched_depth(select_x,select_y):\n",
    "#     select_x = data['XKoordinat']\n",
    "#     select_y = data['YKoordinat']\n",
    "    #select_y = data.loc[data['XKoordinat'] == select_x]['YKoordinat'].values[0]\n",
    "    length = data_with_TVObsAndSaneri.loc[data_with_TVObsAndSaneri['XKoordinat'] == select_x]['Laengde'].values[0]\n",
    "    angle = data_with_TVObsAndSaneri.loc[data_with_TVObsAndSaneri['XKoordinat'] == select_x]['Fald'].values[0]\n",
    "#     length=data['Laengde']\n",
    "#     angle = data['Fald']\n",
    "    #calculate another point by length:\n",
    "    end_x = select_x+ (length * np.cos(angle))\n",
    "    end_y = select_y+ (length * np.sin(angle))\n",
    "    if(end_x > select_x):\n",
    "        max_x=end_x\n",
    "        min_x=select_x\n",
    "    else:\n",
    "        min_x=end_x\n",
    "        max_x=select_x   \n",
    "    if(end_y > select_y):\n",
    "        max_y=end_y\n",
    "        min_y=select_y\n",
    "    else:\n",
    "        min_y=end_y\n",
    "        max_y=select_y   \n",
    "\n",
    "\n",
    "    matched_depth_col = df.loc[(df['XKoordinat'] <= max_x)&(df['XKoordinat'] >= min_x)\n",
    "    &(df['YKoordinat'] <= max_y)&(df['YKoordinat'] >= min_y)]['Depth']\n",
    "    #test if there is a value\n",
    "    if(matched_depth_col.size > 0):\n",
    "        matched_depth = matched_depth_col.values[0]\n",
    "    else:\n",
    "        matched_depth = np.NaN\n",
    "    \n",
    "    return matched_depth"
   ]
  },
  {
   "cell_type": "code",
   "execution_count": 8,
   "id": "republican-dollar",
   "metadata": {},
   "outputs": [
    {
     "data": {
      "text/html": [
       "<div>\n",
       "<style scoped>\n",
       "    .dataframe tbody tr th:only-of-type {\n",
       "        vertical-align: middle;\n",
       "    }\n",
       "\n",
       "    .dataframe tbody tr th {\n",
       "        vertical-align: top;\n",
       "    }\n",
       "\n",
       "    .dataframe thead th {\n",
       "        text-align: right;\n",
       "    }\n",
       "</style>\n",
       "<table border=\"1\" class=\"dataframe\">\n",
       "  <thead>\n",
       "    <tr style=\"text-align: right;\">\n",
       "      <th></th>\n",
       "      <th>ID</th>\n",
       "      <th>XKoordinat</th>\n",
       "      <th>YKoordinat</th>\n",
       "      <th>fra_kote</th>\n",
       "      <th>til_kote</th>\n",
       "      <th>Laengde</th>\n",
       "      <th>Fald</th>\n",
       "      <th>DiameterIn</th>\n",
       "      <th>MaterialeK</th>\n",
       "      <th>anlag_aar</th>\n",
       "      <th>TransportK</th>\n",
       "      <th>Funktionsk</th>\n",
       "      <th>TVObsKode</th>\n",
       "      <th>DatoOprett</th>\n",
       "      <th>DatoOpdate</th>\n",
       "      <th>DatoSaneri</th>\n",
       "      <th>Depth</th>\n",
       "    </tr>\n",
       "  </thead>\n",
       "  <tbody>\n",
       "    <tr>\n",
       "      <th>36</th>\n",
       "      <td>87810</td>\n",
       "      <td>529911.05</td>\n",
       "      <td>6252443.83</td>\n",
       "      <td>34.720000</td>\n",
       "      <td>33.480000</td>\n",
       "      <td>64.88</td>\n",
       "      <td>19.112207</td>\n",
       "      <td>300.0</td>\n",
       "      <td>1.0</td>\n",
       "      <td>1939.0</td>\n",
       "      <td>1</td>\n",
       "      <td>0</td>\n",
       "      <td>0.0</td>\n",
       "      <td>2010</td>\n",
       "      <td>2014</td>\n",
       "      <td>1997.0</td>\n",
       "      <td>NaN</td>\n",
       "    </tr>\n",
       "    <tr>\n",
       "      <th>42</th>\n",
       "      <td>87832</td>\n",
       "      <td>530405.37</td>\n",
       "      <td>6252578.04</td>\n",
       "      <td>39.460000</td>\n",
       "      <td>39.160000</td>\n",
       "      <td>91.75</td>\n",
       "      <td>3.269755</td>\n",
       "      <td>400.0</td>\n",
       "      <td>1.0</td>\n",
       "      <td>1939.0</td>\n",
       "      <td>1</td>\n",
       "      <td>0</td>\n",
       "      <td>1.0</td>\n",
       "      <td>2010</td>\n",
       "      <td>2014</td>\n",
       "      <td>0.0</td>\n",
       "      <td>2.314121</td>\n",
       "    </tr>\n",
       "    <tr>\n",
       "      <th>43</th>\n",
       "      <td>87834</td>\n",
       "      <td>530493.05</td>\n",
       "      <td>6252579.67</td>\n",
       "      <td>39.710000</td>\n",
       "      <td>39.480000</td>\n",
       "      <td>87.69</td>\n",
       "      <td>2.622876</td>\n",
       "      <td>300.0</td>\n",
       "      <td>1.0</td>\n",
       "      <td>1939.0</td>\n",
       "      <td>1</td>\n",
       "      <td>0</td>\n",
       "      <td>1.0</td>\n",
       "      <td>2010</td>\n",
       "      <td>2014</td>\n",
       "      <td>0.0</td>\n",
       "      <td>NaN</td>\n",
       "    </tr>\n",
       "    <tr>\n",
       "      <th>64</th>\n",
       "      <td>87901</td>\n",
       "      <td>530791.62</td>\n",
       "      <td>6252572.03</td>\n",
       "      <td>40.550000</td>\n",
       "      <td>40.080000</td>\n",
       "      <td>52.11</td>\n",
       "      <td>9.019382</td>\n",
       "      <td>250.0</td>\n",
       "      <td>1.0</td>\n",
       "      <td>1945.0</td>\n",
       "      <td>1</td>\n",
       "      <td>0</td>\n",
       "      <td>1.0</td>\n",
       "      <td>2010</td>\n",
       "      <td>2014</td>\n",
       "      <td>0.0</td>\n",
       "      <td>4.478954</td>\n",
       "    </tr>\n",
       "    <tr>\n",
       "      <th>65</th>\n",
       "      <td>87903</td>\n",
       "      <td>530857.05</td>\n",
       "      <td>6252552.13</td>\n",
       "      <td>40.380000</td>\n",
       "      <td>40.550000</td>\n",
       "      <td>68.39</td>\n",
       "      <td>-2.485744</td>\n",
       "      <td>250.0</td>\n",
       "      <td>1.0</td>\n",
       "      <td>1945.0</td>\n",
       "      <td>1</td>\n",
       "      <td>0</td>\n",
       "      <td>1.0</td>\n",
       "      <td>2010</td>\n",
       "      <td>2014</td>\n",
       "      <td>0.0</td>\n",
       "      <td>5.462685</td>\n",
       "    </tr>\n",
       "    <tr>\n",
       "      <th>...</th>\n",
       "      <td>...</td>\n",
       "      <td>...</td>\n",
       "      <td>...</td>\n",
       "      <td>...</td>\n",
       "      <td>...</td>\n",
       "      <td>...</td>\n",
       "      <td>...</td>\n",
       "      <td>...</td>\n",
       "      <td>...</td>\n",
       "      <td>...</td>\n",
       "      <td>...</td>\n",
       "      <td>...</td>\n",
       "      <td>...</td>\n",
       "      <td>...</td>\n",
       "      <td>...</td>\n",
       "      <td>...</td>\n",
       "      <td>...</td>\n",
       "    </tr>\n",
       "    <tr>\n",
       "      <th>23957</th>\n",
       "      <td>222195</td>\n",
       "      <td>500582.01</td>\n",
       "      <td>6260561.72</td>\n",
       "      <td>11.940000</td>\n",
       "      <td>10.550000</td>\n",
       "      <td>60.32</td>\n",
       "      <td>23.043767</td>\n",
       "      <td>350.0</td>\n",
       "      <td>1.0</td>\n",
       "      <td>1968.0</td>\n",
       "      <td>1</td>\n",
       "      <td>0</td>\n",
       "      <td>1.0</td>\n",
       "      <td>2018</td>\n",
       "      <td>2018</td>\n",
       "      <td>0.0</td>\n",
       "      <td>9.960063</td>\n",
       "    </tr>\n",
       "    <tr>\n",
       "      <th>24062</th>\n",
       "      <td>222448</td>\n",
       "      <td>544401.67</td>\n",
       "      <td>6256588.02</td>\n",
       "      <td>25.720000</td>\n",
       "      <td>22.820000</td>\n",
       "      <td>44.37</td>\n",
       "      <td>65.359477</td>\n",
       "      <td>160.0</td>\n",
       "      <td>4.0</td>\n",
       "      <td>2017.0</td>\n",
       "      <td>1</td>\n",
       "      <td>0</td>\n",
       "      <td>1.0</td>\n",
       "      <td>2018</td>\n",
       "      <td>2018</td>\n",
       "      <td>0.0</td>\n",
       "      <td>NaN</td>\n",
       "    </tr>\n",
       "    <tr>\n",
       "      <th>24073</th>\n",
       "      <td>222942</td>\n",
       "      <td>530696.61</td>\n",
       "      <td>6245426.58</td>\n",
       "      <td>28.490000</td>\n",
       "      <td>27.730000</td>\n",
       "      <td>84.29</td>\n",
       "      <td>9.016491</td>\n",
       "      <td>200.0</td>\n",
       "      <td>1.0</td>\n",
       "      <td>1995.0</td>\n",
       "      <td>1</td>\n",
       "      <td>0</td>\n",
       "      <td>1.0</td>\n",
       "      <td>2018</td>\n",
       "      <td>2018</td>\n",
       "      <td>0.0</td>\n",
       "      <td>NaN</td>\n",
       "    </tr>\n",
       "    <tr>\n",
       "      <th>24090</th>\n",
       "      <td>222967</td>\n",
       "      <td>530819.00</td>\n",
       "      <td>6245345.46</td>\n",
       "      <td>27.162706</td>\n",
       "      <td>27.902884</td>\n",
       "      <td>18.82</td>\n",
       "      <td>-39.329328</td>\n",
       "      <td>315.0</td>\n",
       "      <td>4.0</td>\n",
       "      <td>1965.0</td>\n",
       "      <td>1</td>\n",
       "      <td>0</td>\n",
       "      <td>1.0</td>\n",
       "      <td>2018</td>\n",
       "      <td>2018</td>\n",
       "      <td>0.0</td>\n",
       "      <td>NaN</td>\n",
       "    </tr>\n",
       "    <tr>\n",
       "      <th>24127</th>\n",
       "      <td>223151</td>\n",
       "      <td>519201.08</td>\n",
       "      <td>6263360.29</td>\n",
       "      <td>4.930000</td>\n",
       "      <td>3.180000</td>\n",
       "      <td>113.13</td>\n",
       "      <td>15.468930</td>\n",
       "      <td>191.0</td>\n",
       "      <td>4.0</td>\n",
       "      <td>1992.0</td>\n",
       "      <td>1</td>\n",
       "      <td>0</td>\n",
       "      <td>0.0</td>\n",
       "      <td>2018</td>\n",
       "      <td>2018</td>\n",
       "      <td>2018.0</td>\n",
       "      <td>5.238400</td>\n",
       "    </tr>\n",
       "  </tbody>\n",
       "</table>\n",
       "<p>2077 rows × 17 columns</p>\n",
       "</div>"
      ],
      "text/plain": [
       "           ID  XKoordinat  YKoordinat   fra_kote   til_kote  Laengde  \\\n",
       "36      87810   529911.05  6252443.83  34.720000  33.480000    64.88   \n",
       "42      87832   530405.37  6252578.04  39.460000  39.160000    91.75   \n",
       "43      87834   530493.05  6252579.67  39.710000  39.480000    87.69   \n",
       "64      87901   530791.62  6252572.03  40.550000  40.080000    52.11   \n",
       "65      87903   530857.05  6252552.13  40.380000  40.550000    68.39   \n",
       "...       ...         ...         ...        ...        ...      ...   \n",
       "23957  222195   500582.01  6260561.72  11.940000  10.550000    60.32   \n",
       "24062  222448   544401.67  6256588.02  25.720000  22.820000    44.37   \n",
       "24073  222942   530696.61  6245426.58  28.490000  27.730000    84.29   \n",
       "24090  222967   530819.00  6245345.46  27.162706  27.902884    18.82   \n",
       "24127  223151   519201.08  6263360.29   4.930000   3.180000   113.13   \n",
       "\n",
       "            Fald  DiameterIn  MaterialeK  anlag_aar  TransportK  Funktionsk  \\\n",
       "36     19.112207       300.0         1.0     1939.0           1           0   \n",
       "42      3.269755       400.0         1.0     1939.0           1           0   \n",
       "43      2.622876       300.0         1.0     1939.0           1           0   \n",
       "64      9.019382       250.0         1.0     1945.0           1           0   \n",
       "65     -2.485744       250.0         1.0     1945.0           1           0   \n",
       "...          ...         ...         ...        ...         ...         ...   \n",
       "23957  23.043767       350.0         1.0     1968.0           1           0   \n",
       "24062  65.359477       160.0         4.0     2017.0           1           0   \n",
       "24073   9.016491       200.0         1.0     1995.0           1           0   \n",
       "24090 -39.329328       315.0         4.0     1965.0           1           0   \n",
       "24127  15.468930       191.0         4.0     1992.0           1           0   \n",
       "\n",
       "       TVObsKode  DatoOprett  DatoOpdate  DatoSaneri     Depth  \n",
       "36           0.0        2010        2014      1997.0       NaN  \n",
       "42           1.0        2010        2014         0.0  2.314121  \n",
       "43           1.0        2010        2014         0.0       NaN  \n",
       "64           1.0        2010        2014         0.0  4.478954  \n",
       "65           1.0        2010        2014         0.0  5.462685  \n",
       "...          ...         ...         ...         ...       ...  \n",
       "23957        1.0        2018        2018         0.0  9.960063  \n",
       "24062        1.0        2018        2018         0.0       NaN  \n",
       "24073        1.0        2018        2018         0.0       NaN  \n",
       "24090        1.0        2018        2018         0.0       NaN  \n",
       "24127        0.0        2018        2018      2018.0  5.238400  \n",
       "\n",
       "[2077 rows x 17 columns]"
      ]
     },
     "execution_count": 8,
     "metadata": {},
     "output_type": "execute_result"
    }
   ],
   "source": [
    "def add_depth(datacopy):\n",
    "    select_x = datacopy['XKoordinat']\n",
    "    select_y = datacopy['YKoordinat']\n",
    "    return get_matched_depth(select_x,select_y)\n",
    "data_with_TVObsAndSaneri['Depth'] = data_with_TVObsAndSaneri.apply(add_depth,axis =1)\n",
    "data_with_TVObsAndSaneri    \n",
    "        "
   ]
  },
  {
   "cell_type": "code",
   "execution_count": 9,
   "id": "modular-absolute",
   "metadata": {},
   "outputs": [],
   "source": [
    "data_with_TVObsAndSaneri_Groundwater = data_with_TVObsAndSaneri.dropna()\n"
   ]
  },
  {
   "cell_type": "markdown",
   "id": "objective-cinema",
   "metadata": {},
   "source": [
    "handle unbroken pipe by adding groundwater depth and get around 619 rows randomly"
   ]
  },
  {
   "cell_type": "code",
   "execution_count": 10,
   "id": "former-analysis",
   "metadata": {},
   "outputs": [],
   "source": [
    "data_not_broken = data[~data['TVObsKode'].isin([0]) | data['DatoSaneri'] == 0]\n",
    "data_not_broken = data_not_broken.sample(n=4000) "
   ]
  },
  {
   "cell_type": "code",
   "execution_count": 11,
   "id": "earned-emperor",
   "metadata": {},
   "outputs": [],
   "source": [
    "def get_matched_depth_unbroken(select_x,select_y):\n",
    "#     select_x = data['XKoordinat']\n",
    "#     select_y = data['YKoordinat']\n",
    "    #select_y = data.loc[data['XKoordinat'] == select_x]['YKoordinat'].values[0]\n",
    "    length = data_not_broken.loc[data_not_broken['XKoordinat'] == select_x]['Laengde'].values[0]\n",
    "    angle = data_not_broken.loc[data_not_broken['XKoordinat'] == select_x]['Fald'].values[0]\n",
    "#     length=data['Laengde']\n",
    "#     angle = data['Fald']\n",
    "    #calculate another point by length:\n",
    "    end_x = select_x+ (length * np.cos(angle))\n",
    "    end_y = select_y+ (length * np.sin(angle))\n",
    "    if(end_x > select_x):\n",
    "        max_x=end_x\n",
    "        min_x=select_x\n",
    "    else:\n",
    "        min_x=end_x\n",
    "        max_x=select_x   \n",
    "    if(end_y > select_y):\n",
    "        max_y=end_y\n",
    "        min_y=select_y\n",
    "    else:\n",
    "        min_y=end_y\n",
    "        max_y=select_y   \n",
    "\n",
    "\n",
    "    matched_depth_col = df.loc[(df['XKoordinat'] <= max_x)&(df['XKoordinat'] >= min_x)\n",
    "    &(df['YKoordinat'] <= max_y)&(df['YKoordinat'] >= min_y)]['Depth']\n",
    "    #test if there is a value\n",
    "    if(matched_depth_col.size > 0):\n",
    "        matched_depth = matched_depth_col.values[0]\n",
    "    else:\n",
    "        matched_depth = np.NaN\n",
    "    \n",
    "    return matched_depth"
   ]
  },
  {
   "cell_type": "code",
   "execution_count": 12,
   "id": "competitive-dividend",
   "metadata": {},
   "outputs": [],
   "source": [
    "def add_depth_unbroken(datacopy):\n",
    "    select_x = datacopy['XKoordinat']\n",
    "    select_y = datacopy['YKoordinat']\n",
    "    return get_matched_depth_unbroken(select_x,select_y)\n",
    "data_not_broken['Depth'] = data_not_broken.apply(add_depth_unbroken,axis =1)\n",
    "        "
   ]
  },
  {
   "cell_type": "code",
   "execution_count": 13,
   "id": "unsigned-natural",
   "metadata": {},
   "outputs": [],
   "source": [
    "data_not_broken_Groundwater = data_not_broken.dropna()\n",
    "data_not_broken_Groundwater =data_not_broken_Groundwater.sample(n=619)"
   ]
  },
  {
   "cell_type": "code",
   "execution_count": 14,
   "id": "hybrid-arnold",
   "metadata": {},
   "outputs": [],
   "source": [
    "frames = [data_not_broken_Groundwater,data_with_TVObsAndSaneri_Groundwater]\n",
    "data = pd.concat(frames)"
   ]
  },
  {
   "cell_type": "code",
   "execution_count": 15,
   "id": "imported-operation",
   "metadata": {},
   "outputs": [],
   "source": [
    "datacopy = data\n",
    "\n",
    "\n",
    "# add  age column\n",
    "\n",
    "#get current year\n",
    "from datetime import date\n",
    "now = date.today().year\n",
    "\n",
    "\n",
    "def age_df(datacopy):\n",
    "\n",
    "    if (datacopy['TVObsKode'] == 1) and (datacopy['DatoSaneri'] > 0) :\n",
    "        return (now - datacopy['DatoSaneri'])\n",
    "    elif (datacopy['TVObsKode'] == 1) and (datacopy['DatoSaneri']== 0):\n",
    "        return (now - datacopy['anlag_aar'])\n",
    "    elif (datacopy['TVObsKode'] == 0) and (datacopy['DatoSaneri'] > 0):\n",
    "        return (now - datacopy['DatoSaneri'])\n",
    "    elif (datacopy['TVObsKode']== 0) and (datacopy['DatoSaneri']== 0):\n",
    "        return (now - datacopy['anlag_aar'])\n",
    "\n",
    "datacopy['Age'] = datacopy.apply(age_df, axis = 1)"
   ]
  },
  {
   "cell_type": "code",
   "execution_count": 16,
   "id": "statewide-portugal",
   "metadata": {},
   "outputs": [],
   "source": [
    "# add a column 'PipeStatus'\n",
    "# 1 as broken and 0 as not broken\n",
    "\n",
    "def broken_df(datacopy):\n",
    "\n",
    "    if (datacopy['TVObsKode'] == 1) and (datacopy['DatoSaneri'] < (datacopy['DatoOpdate'])) and (datacopy['DatoSaneri'] != 0):\n",
    "        return 1\n",
    "    elif (datacopy['TVObsKode'] == 1) and (datacopy['DatoSaneri'] >= (datacopy['DatoOpdate'])) and (datacopy['DatoSaneri'] != 0):\n",
    "        return 0\n",
    "    elif (datacopy['TVObsKode'] == 1) and (datacopy['DatoSaneri']== 0):\n",
    "        return 1\n",
    "    elif (datacopy['TVObsKode'] == 0) and (datacopy['DatoSaneri'] > 0):\n",
    "        return 0\n",
    "    elif (datacopy['TVObsKode']== 0) and (datacopy['DatoSaneri']== 0):\n",
    "        return 0\n",
    "\n",
    "datacopy['PipeStatus'] = datacopy.apply(broken_df, axis = 1)"
   ]
  },
  {
   "cell_type": "code",
   "execution_count": 17,
   "id": "spanish-biotechnology",
   "metadata": {},
   "outputs": [
    {
     "name": "stdout",
     "output_type": "stream",
     "text": [
      "Number of rows before removing NaNs: 1238\n",
      "Number of rows after removing NaNs: 1238\n"
     ]
    }
   ],
   "source": [
    "# data_fs= np.where(np.isnan(data_features))\n",
    "# data_fs\n",
    "print(\"Number of rows before removing NaNs: {}\".format(datacopy.shape[0]))\n",
    "datacopy = datacopy.dropna()\n",
    "print(\"Number of rows after removing NaNs: {}\".format(datacopy.shape[0]))"
   ]
  },
  {
   "cell_type": "code",
   "execution_count": 18,
   "id": "specified-option",
   "metadata": {
    "scrolled": true
   },
   "outputs": [
    {
     "data": {
      "text/html": [
       "<div>\n",
       "<style scoped>\n",
       "    .dataframe tbody tr th:only-of-type {\n",
       "        vertical-align: middle;\n",
       "    }\n",
       "\n",
       "    .dataframe tbody tr th {\n",
       "        vertical-align: top;\n",
       "    }\n",
       "\n",
       "    .dataframe thead th {\n",
       "        text-align: right;\n",
       "    }\n",
       "</style>\n",
       "<table border=\"1\" class=\"dataframe\">\n",
       "  <thead>\n",
       "    <tr style=\"text-align: right;\">\n",
       "      <th></th>\n",
       "      <th>ID</th>\n",
       "      <th>XKoordinat</th>\n",
       "      <th>YKoordinat</th>\n",
       "      <th>fra_kote</th>\n",
       "      <th>til_kote</th>\n",
       "      <th>Laengde</th>\n",
       "      <th>Fald</th>\n",
       "      <th>DiameterIn</th>\n",
       "      <th>MaterialeK</th>\n",
       "      <th>anlag_aar</th>\n",
       "      <th>TransportK</th>\n",
       "      <th>Funktionsk</th>\n",
       "      <th>TVObsKode</th>\n",
       "      <th>DatoSaneri</th>\n",
       "      <th>Depth</th>\n",
       "      <th>Age</th>\n",
       "      <th>PipeStatus</th>\n",
       "    </tr>\n",
       "  </thead>\n",
       "  <tbody>\n",
       "    <tr>\n",
       "      <th>2714</th>\n",
       "      <td>102893</td>\n",
       "      <td>522313.42</td>\n",
       "      <td>6255138.53</td>\n",
       "      <td>21.81</td>\n",
       "      <td>20.69</td>\n",
       "      <td>84.30</td>\n",
       "      <td>13.285884</td>\n",
       "      <td>380.0</td>\n",
       "      <td>4.0</td>\n",
       "      <td>2005.0</td>\n",
       "      <td>1</td>\n",
       "      <td>0</td>\n",
       "      <td>0.0</td>\n",
       "      <td>0.0</td>\n",
       "      <td>8.522861</td>\n",
       "      <td>16.0</td>\n",
       "      <td>0</td>\n",
       "    </tr>\n",
       "    <tr>\n",
       "      <th>141</th>\n",
       "      <td>88341</td>\n",
       "      <td>538911.06</td>\n",
       "      <td>6260357.70</td>\n",
       "      <td>50.56</td>\n",
       "      <td>49.82</td>\n",
       "      <td>41.97</td>\n",
       "      <td>17.631642</td>\n",
       "      <td>300.0</td>\n",
       "      <td>1.0</td>\n",
       "      <td>1975.0</td>\n",
       "      <td>1</td>\n",
       "      <td>0</td>\n",
       "      <td>0.0</td>\n",
       "      <td>0.0</td>\n",
       "      <td>3.802876</td>\n",
       "      <td>46.0</td>\n",
       "      <td>0</td>\n",
       "    </tr>\n",
       "    <tr>\n",
       "      <th>2910</th>\n",
       "      <td>104088</td>\n",
       "      <td>523089.68</td>\n",
       "      <td>6257397.99</td>\n",
       "      <td>31.93</td>\n",
       "      <td>31.03</td>\n",
       "      <td>60.97</td>\n",
       "      <td>14.761358</td>\n",
       "      <td>200.0</td>\n",
       "      <td>1.0</td>\n",
       "      <td>1988.0</td>\n",
       "      <td>1</td>\n",
       "      <td>0</td>\n",
       "      <td>0.0</td>\n",
       "      <td>0.0</td>\n",
       "      <td>7.082390</td>\n",
       "      <td>33.0</td>\n",
       "      <td>0</td>\n",
       "    </tr>\n",
       "    <tr>\n",
       "      <th>1744</th>\n",
       "      <td>97544</td>\n",
       "      <td>524714.94</td>\n",
       "      <td>6257626.58</td>\n",
       "      <td>40.49</td>\n",
       "      <td>40.34</td>\n",
       "      <td>67.67</td>\n",
       "      <td>2.216640</td>\n",
       "      <td>800.0</td>\n",
       "      <td>1.0</td>\n",
       "      <td>1962.0</td>\n",
       "      <td>1</td>\n",
       "      <td>0</td>\n",
       "      <td>0.0</td>\n",
       "      <td>0.0</td>\n",
       "      <td>24.891315</td>\n",
       "      <td>59.0</td>\n",
       "      <td>0</td>\n",
       "    </tr>\n",
       "    <tr>\n",
       "      <th>267</th>\n",
       "      <td>88892</td>\n",
       "      <td>538718.27</td>\n",
       "      <td>6260471.48</td>\n",
       "      <td>53.11</td>\n",
       "      <td>52.67</td>\n",
       "      <td>82.21</td>\n",
       "      <td>5.352147</td>\n",
       "      <td>160.0</td>\n",
       "      <td>4.0</td>\n",
       "      <td>1975.0</td>\n",
       "      <td>1</td>\n",
       "      <td>0</td>\n",
       "      <td>0.0</td>\n",
       "      <td>0.0</td>\n",
       "      <td>4.527435</td>\n",
       "      <td>46.0</td>\n",
       "      <td>0</td>\n",
       "    </tr>\n",
       "    <tr>\n",
       "      <th>...</th>\n",
       "      <td>...</td>\n",
       "      <td>...</td>\n",
       "      <td>...</td>\n",
       "      <td>...</td>\n",
       "      <td>...</td>\n",
       "      <td>...</td>\n",
       "      <td>...</td>\n",
       "      <td>...</td>\n",
       "      <td>...</td>\n",
       "      <td>...</td>\n",
       "      <td>...</td>\n",
       "      <td>...</td>\n",
       "      <td>...</td>\n",
       "      <td>...</td>\n",
       "      <td>...</td>\n",
       "      <td>...</td>\n",
       "      <td>...</td>\n",
       "    </tr>\n",
       "    <tr>\n",
       "      <th>23825</th>\n",
       "      <td>221075</td>\n",
       "      <td>505295.19</td>\n",
       "      <td>6253688.34</td>\n",
       "      <td>41.00</td>\n",
       "      <td>40.24</td>\n",
       "      <td>77.12</td>\n",
       "      <td>9.854772</td>\n",
       "      <td>200.0</td>\n",
       "      <td>1.0</td>\n",
       "      <td>1979.0</td>\n",
       "      <td>1</td>\n",
       "      <td>0</td>\n",
       "      <td>1.0</td>\n",
       "      <td>0.0</td>\n",
       "      <td>14.129904</td>\n",
       "      <td>42.0</td>\n",
       "      <td>1</td>\n",
       "    </tr>\n",
       "    <tr>\n",
       "      <th>23835</th>\n",
       "      <td>221099</td>\n",
       "      <td>505487.19</td>\n",
       "      <td>6253719.27</td>\n",
       "      <td>40.77</td>\n",
       "      <td>40.36</td>\n",
       "      <td>57.64</td>\n",
       "      <td>7.113116</td>\n",
       "      <td>200.0</td>\n",
       "      <td>1.0</td>\n",
       "      <td>1979.0</td>\n",
       "      <td>1</td>\n",
       "      <td>0</td>\n",
       "      <td>1.0</td>\n",
       "      <td>0.0</td>\n",
       "      <td>14.236778</td>\n",
       "      <td>42.0</td>\n",
       "      <td>1</td>\n",
       "    </tr>\n",
       "    <tr>\n",
       "      <th>23838</th>\n",
       "      <td>221112</td>\n",
       "      <td>505553.82</td>\n",
       "      <td>6253730.01</td>\n",
       "      <td>41.26</td>\n",
       "      <td>40.78</td>\n",
       "      <td>67.49</td>\n",
       "      <td>7.112165</td>\n",
       "      <td>200.0</td>\n",
       "      <td>1.0</td>\n",
       "      <td>1979.0</td>\n",
       "      <td>1</td>\n",
       "      <td>0</td>\n",
       "      <td>1.0</td>\n",
       "      <td>0.0</td>\n",
       "      <td>15.404106</td>\n",
       "      <td>42.0</td>\n",
       "      <td>1</td>\n",
       "    </tr>\n",
       "    <tr>\n",
       "      <th>23841</th>\n",
       "      <td>221115</td>\n",
       "      <td>505234.88</td>\n",
       "      <td>6253724.12</td>\n",
       "      <td>42.49</td>\n",
       "      <td>41.53</td>\n",
       "      <td>109.15</td>\n",
       "      <td>8.795236</td>\n",
       "      <td>315.0</td>\n",
       "      <td>4.0</td>\n",
       "      <td>1992.0</td>\n",
       "      <td>1</td>\n",
       "      <td>0</td>\n",
       "      <td>1.0</td>\n",
       "      <td>0.0</td>\n",
       "      <td>16.049837</td>\n",
       "      <td>29.0</td>\n",
       "      <td>1</td>\n",
       "    </tr>\n",
       "    <tr>\n",
       "      <th>23957</th>\n",
       "      <td>222195</td>\n",
       "      <td>500582.01</td>\n",
       "      <td>6260561.72</td>\n",
       "      <td>11.94</td>\n",
       "      <td>10.55</td>\n",
       "      <td>60.32</td>\n",
       "      <td>23.043767</td>\n",
       "      <td>350.0</td>\n",
       "      <td>1.0</td>\n",
       "      <td>1968.0</td>\n",
       "      <td>1</td>\n",
       "      <td>0</td>\n",
       "      <td>1.0</td>\n",
       "      <td>0.0</td>\n",
       "      <td>9.960063</td>\n",
       "      <td>53.0</td>\n",
       "      <td>1</td>\n",
       "    </tr>\n",
       "  </tbody>\n",
       "</table>\n",
       "<p>1237 rows × 17 columns</p>\n",
       "</div>"
      ],
      "text/plain": [
       "           ID  XKoordinat  YKoordinat  fra_kote  til_kote  Laengde       Fald  \\\n",
       "2714   102893   522313.42  6255138.53     21.81     20.69    84.30  13.285884   \n",
       "141     88341   538911.06  6260357.70     50.56     49.82    41.97  17.631642   \n",
       "2910   104088   523089.68  6257397.99     31.93     31.03    60.97  14.761358   \n",
       "1744    97544   524714.94  6257626.58     40.49     40.34    67.67   2.216640   \n",
       "267     88892   538718.27  6260471.48     53.11     52.67    82.21   5.352147   \n",
       "...       ...         ...         ...       ...       ...      ...        ...   \n",
       "23825  221075   505295.19  6253688.34     41.00     40.24    77.12   9.854772   \n",
       "23835  221099   505487.19  6253719.27     40.77     40.36    57.64   7.113116   \n",
       "23838  221112   505553.82  6253730.01     41.26     40.78    67.49   7.112165   \n",
       "23841  221115   505234.88  6253724.12     42.49     41.53   109.15   8.795236   \n",
       "23957  222195   500582.01  6260561.72     11.94     10.55    60.32  23.043767   \n",
       "\n",
       "       DiameterIn  MaterialeK  anlag_aar  TransportK  Funktionsk  TVObsKode  \\\n",
       "2714        380.0         4.0     2005.0           1           0        0.0   \n",
       "141         300.0         1.0     1975.0           1           0        0.0   \n",
       "2910        200.0         1.0     1988.0           1           0        0.0   \n",
       "1744        800.0         1.0     1962.0           1           0        0.0   \n",
       "267         160.0         4.0     1975.0           1           0        0.0   \n",
       "...           ...         ...        ...         ...         ...        ...   \n",
       "23825       200.0         1.0     1979.0           1           0        1.0   \n",
       "23835       200.0         1.0     1979.0           1           0        1.0   \n",
       "23838       200.0         1.0     1979.0           1           0        1.0   \n",
       "23841       315.0         4.0     1992.0           1           0        1.0   \n",
       "23957       350.0         1.0     1968.0           1           0        1.0   \n",
       "\n",
       "       DatoSaneri      Depth   Age  PipeStatus  \n",
       "2714          0.0   8.522861  16.0           0  \n",
       "141           0.0   3.802876  46.0           0  \n",
       "2910          0.0   7.082390  33.0           0  \n",
       "1744          0.0  24.891315  59.0           0  \n",
       "267           0.0   4.527435  46.0           0  \n",
       "...           ...        ...   ...         ...  \n",
       "23825         0.0  14.129904  42.0           1  \n",
       "23835         0.0  14.236778  42.0           1  \n",
       "23838         0.0  15.404106  42.0           1  \n",
       "23841         0.0  16.049837  29.0           1  \n",
       "23957         0.0   9.960063  53.0           1  \n",
       "\n",
       "[1237 rows x 17 columns]"
      ]
     },
     "execution_count": 18,
     "metadata": {},
     "output_type": "execute_result"
    }
   ],
   "source": [
    "#drop columns not needed after adding new features\n",
    "\n",
    "columns_to_be_removed = ['DatoOprett', 'DatoOpdate']\n",
    "datacopy=datacopy.drop(columns_to_be_removed,axis='columns')\n",
    "datacopy[0:-1]"
   ]
  },
  {
   "cell_type": "code",
   "execution_count": 19,
   "id": "defensive-indie",
   "metadata": {},
   "outputs": [],
   "source": [
    "# val = datacopy.nunique()\n",
    "# val"
   ]
  },
  {
   "cell_type": "code",
   "execution_count": 28,
   "id": "dietary-bermuda",
   "metadata": {},
   "outputs": [],
   "source": [
    "# creating features set and target\n",
    "\n",
    "columns_to_be_removed = ['Age']\n",
    "data_features= datacopy.drop(columns_to_be_removed,axis='columns')\n",
    "columns_to_be_removed = ['fra_kote','til_kote', 'Laengde','Fald','DiameterIn','MaterialeK','anlag_aar','TransportK',\n",
    "                         'Funktionsk','TVObsKode','DatoSaneri','PipeStatus','ID','XKoordinat','YKoordinat','Depth']\n",
    "data_target=datacopy.drop(columns_to_be_removed,axis='columns')"
   ]
  },
  {
   "cell_type": "code",
   "execution_count": 29,
   "id": "higher-university",
   "metadata": {},
   "outputs": [
    {
     "name": "stdout",
     "output_type": "stream",
     "text": [
      "Number of rows before removing NaNs: 1238\n",
      "Number of rows after removing NaNs: 1238\n"
     ]
    }
   ],
   "source": [
    "# data_fs= np.where(np.isnan(data_features))\n",
    "# data_fs\n",
    "data = datacopy\n",
    "print(\"Number of rows before removing NaNs: {}\".format(data.shape[0]))\n",
    "data = data.dropna()\n",
    "print(\"Number of rows after removing NaNs: {}\".format(data.shape[0]))"
   ]
  },
  {
   "cell_type": "code",
   "execution_count": 30,
   "metadata": {},
   "outputs": [
    {
     "data": {
      "text/html": [
       "<div>\n",
       "<style scoped>\n",
       "    .dataframe tbody tr th:only-of-type {\n",
       "        vertical-align: middle;\n",
       "    }\n",
       "\n",
       "    .dataframe tbody tr th {\n",
       "        vertical-align: top;\n",
       "    }\n",
       "\n",
       "    .dataframe thead th {\n",
       "        text-align: right;\n",
       "    }\n",
       "</style>\n",
       "<table border=\"1\" class=\"dataframe\">\n",
       "  <thead>\n",
       "    <tr style=\"text-align: right;\">\n",
       "      <th></th>\n",
       "      <th>Age</th>\n",
       "    </tr>\n",
       "  </thead>\n",
       "  <tbody>\n",
       "    <tr>\n",
       "      <th>2714</th>\n",
       "      <td>16.0</td>\n",
       "    </tr>\n",
       "    <tr>\n",
       "      <th>141</th>\n",
       "      <td>46.0</td>\n",
       "    </tr>\n",
       "    <tr>\n",
       "      <th>2910</th>\n",
       "      <td>33.0</td>\n",
       "    </tr>\n",
       "    <tr>\n",
       "      <th>1744</th>\n",
       "      <td>59.0</td>\n",
       "    </tr>\n",
       "    <tr>\n",
       "      <th>267</th>\n",
       "      <td>46.0</td>\n",
       "    </tr>\n",
       "    <tr>\n",
       "      <th>...</th>\n",
       "      <td>...</td>\n",
       "    </tr>\n",
       "    <tr>\n",
       "      <th>23835</th>\n",
       "      <td>42.0</td>\n",
       "    </tr>\n",
       "    <tr>\n",
       "      <th>23838</th>\n",
       "      <td>42.0</td>\n",
       "    </tr>\n",
       "    <tr>\n",
       "      <th>23841</th>\n",
       "      <td>29.0</td>\n",
       "    </tr>\n",
       "    <tr>\n",
       "      <th>23957</th>\n",
       "      <td>53.0</td>\n",
       "    </tr>\n",
       "    <tr>\n",
       "      <th>24127</th>\n",
       "      <td>3.0</td>\n",
       "    </tr>\n",
       "  </tbody>\n",
       "</table>\n",
       "<p>1238 rows × 1 columns</p>\n",
       "</div>"
      ],
      "text/plain": [
       "        Age\n",
       "2714   16.0\n",
       "141    46.0\n",
       "2910   33.0\n",
       "1744   59.0\n",
       "267    46.0\n",
       "...     ...\n",
       "23835  42.0\n",
       "23838  42.0\n",
       "23841  29.0\n",
       "23957  53.0\n",
       "24127   3.0\n",
       "\n",
       "[1238 rows x 1 columns]"
      ]
     },
     "execution_count": 30,
     "metadata": {},
     "output_type": "execute_result"
    }
   ],
   "source": [
    "data_target"
   ]
  },
  {
   "cell_type": "markdown",
   "metadata": {},
   "source": [
    "# Tuning Alpha for Lasso Model with Train-Test split and Normalization:"
   ]
  },
  {
   "cell_type": "code",
   "execution_count": 31,
   "metadata": {},
   "outputs": [],
   "source": [
    "# Divide the data into training and test\n",
    "X_train, X_test, y_train, y_test = train_test_split(data_features, data_target, random_state=42)"
   ]
  },
  {
   "cell_type": "code",
   "execution_count": 32,
   "metadata": {},
   "outputs": [
    {
     "name": "stdout",
     "output_type": "stream",
     "text": [
      "Best alpha value found: 0.0004811058664242277\n"
     ]
    }
   ],
   "source": [
    "# Learn the model with a certain numnber of alphas\n",
    "lassocv = LassoCV(alphas = None, cv = 10, max_iter = 100000, normalize = True)\n",
    "lassocv.fit(X_train, y_train)\n",
    "print(\"Best alpha value found: {}\".format(lassocv.alpha_))"
   ]
  },
  {
   "cell_type": "code",
   "execution_count": 33,
   "metadata": {},
   "outputs": [
    {
     "data": {
      "text/plain": [
       "ID            -0.000052\n",
       "XKoordinat    -0.000052\n",
       "YKoordinat    -0.000047\n",
       "fra_kote      -0.000000\n",
       "til_kote      -0.020297\n",
       "Laengde       -0.012388\n",
       "Fald          -0.031407\n",
       "DiameterIn     0.000000\n",
       "MaterialeK    -0.029542\n",
       "anlag_aar     -0.717843\n",
       "TransportK     0.000000\n",
       "Funktionsk    -0.459278\n",
       "TVObsKode     -6.505298\n",
       "DatoSaneri    -0.019959\n",
       "Depth          0.038679\n",
       "PipeStatus    11.857780\n",
       "dtype: float64"
      ]
     },
     "execution_count": 33,
     "metadata": {},
     "output_type": "execute_result"
    }
   ],
   "source": [
    "# coefficients associated with the chosen alpha\n",
    "pd.Series(lassocv.coef_ , index = data_features.columns)"
   ]
  },
  {
   "cell_type": "code",
   "execution_count": 34,
   "metadata": {},
   "outputs": [
    {
     "name": "stdout",
     "output_type": "stream",
     "text": [
      "The MSE associated with alpha value: 72.16420629967234\n"
     ]
    }
   ],
   "source": [
    "# to chech model performance\n",
    "lasso = Lasso(max_iter = 10000, normalize = True)\n",
    "lasso.set_params(alpha=lassocv.alpha_)\n",
    "lasso.fit(X_train, y_train)\n",
    "mse = mean_squared_error(y_test, lasso.predict(X_test))\n",
    "print(\"The MSE associated with alpha value: {}\".format(mse))"
   ]
  },
  {
   "cell_type": "markdown",
   "metadata": {},
   "source": [
    "The $R^2$ corresponding to this value for alpha are:"
   ]
  },
  {
   "cell_type": "code",
   "execution_count": 35,
   "metadata": {},
   "outputs": [
    {
     "name": "stdout",
     "output_type": "stream",
     "text": [
      "R^2 on train data is 0.851957175504469 and on test data is 0.8755014496286583\n"
     ]
    }
   ],
   "source": [
    "# R^2 of the associated alpha\n",
    "print(\"R^2 on train data is {} and on test data is {}\".format(lasso.score(X_train, y_train), \n",
    "                                                              lasso.score(X_test,y_test)))"
   ]
  },
  {
   "cell_type": "markdown",
   "metadata": {},
   "source": [
    "# Tuning Alpha for Lasso Model with validation set split and Normalization:"
   ]
  },
  {
   "cell_type": "code",
   "execution_count": 36,
   "metadata": {},
   "outputs": [],
   "source": [
    "# Divide the data into training, test and validation\n",
    "\n",
    "X_trainval, X_test, y_trainval, y_test = train_test_split(data_features, data_target, random_state=42)\n",
    "X_train, X_val, y_train, y_val = train_test_split(X_trainval, y_trainval, random_state=43)"
   ]
  },
  {
   "cell_type": "code",
   "execution_count": 37,
   "metadata": {},
   "outputs": [
    {
     "name": "stdout",
     "output_type": "stream",
     "text": [
      "Best alpha found: 0.004750810162102793\n",
      "Best MSE on validation set: 75.31233991285865\n",
      "MSE on training/validation set: 77.49505970022544\n",
      "MSE on test set: 73.81757655222576\n"
     ]
    }
   ],
   "source": [
    "best_score = 100\n",
    "for alphas in 10**np.linspace(-10, 10, 100):\n",
    "    # Learn the model with a certain numnber of alphas\n",
    "    lasso = Lasso(max_iter = 10000, normalize=True, alpha=alphas)\n",
    "    lasso.fit(X_train, y_train)\n",
    "    \n",
    "    # Evaluate the model\n",
    "    score = mean_squared_error(y_val, lasso.predict(X_val))\n",
    "    \n",
    "    \n",
    "    # If improvement, store score and parameter\n",
    "    if score < best_score:\n",
    "        best_score = score\n",
    "        best_alphas = alphas\n",
    "\n",
    "# Build a model on the combine training and valiation data\n",
    "lasso = Lasso(max_iter = 10000, normalize=True, alpha = best_alphas)\n",
    "lasso.fit(X_trainval, y_trainval)\n",
    "\n",
    "print(\"Best alpha found: {}\".format(best_alphas))\n",
    "print(\"Best MSE on validation set: {}\".format(best_score))\n",
    "print(\"MSE on training/validation set: {}\".format(mean_squared_error(y_trainval, lasso.predict(X_trainval))))\n",
    "print(\"MSE on test set: {}\".format(mean_squared_error(y_test, lasso.predict(X_test))))"
   ]
  },
  {
   "cell_type": "code",
   "execution_count": 38,
   "metadata": {},
   "outputs": [
    {
     "name": "stdout",
     "output_type": "stream",
     "text": [
      "The MSE associated with alpha value: 74.48891072008689\n"
     ]
    }
   ],
   "source": [
    "# to chech model performance\n",
    "lasso1 = Lasso(max_iter = 10000, alpha = best_alphas, normalize = True)\n",
    "lasso1.fit(X_train, y_train)\n",
    "mse = mean_squared_error(y_test, lasso1.predict(X_test))\n",
    "print(\"The MSE associated with alpha value: {}\".format(mse))"
   ]
  },
  {
   "cell_type": "code",
   "execution_count": 39,
   "metadata": {},
   "outputs": [
    {
     "data": {
      "text/plain": [
       "ID           -0.000049\n",
       "XKoordinat   -0.000037\n",
       "YKoordinat   -0.000019\n",
       "fra_kote     -0.000000\n",
       "til_kote     -0.000000\n",
       "Laengde      -0.006941\n",
       "Fald         -0.022962\n",
       "DiameterIn    0.000000\n",
       "MaterialeK   -0.006778\n",
       "anlag_aar    -0.710088\n",
       "TransportK    0.000000\n",
       "Funktionsk   -0.401428\n",
       "TVObsKode    -0.300554\n",
       "DatoSaneri   -0.019966\n",
       "Depth         0.000020\n",
       "PipeStatus    5.485347\n",
       "dtype: float64"
      ]
     },
     "execution_count": 39,
     "metadata": {},
     "output_type": "execute_result"
    }
   ],
   "source": [
    "# coefficients associated with the chosen alpha\n",
    "pd.Series(lasso.coef_ , index = data_features.columns)"
   ]
  },
  {
   "cell_type": "code",
   "execution_count": 40,
   "metadata": {},
   "outputs": [
    {
     "name": "stdout",
     "output_type": "stream",
     "text": [
      "R^2 on train data is 0.8473985816453757 and on test data is 0.8714908418048627\n"
     ]
    }
   ],
   "source": [
    "# R^2 of the associated alpha\n",
    "print(\"R^2 on train data is {} and on test data is {}\".format(lasso1.score(X_train, y_train), \n",
    "                                                              lasso1.score(X_test,y_test)))"
   ]
  },
  {
   "cell_type": "markdown",
   "metadata": {},
   "source": [
    "# Tuning Alpha for Lasso Model with cross validation split and Normalization:"
   ]
  },
  {
   "cell_type": "code",
   "execution_count": 41,
   "metadata": {},
   "outputs": [],
   "source": [
    "# Divide the data into training, test and validation\n",
    "\n",
    "X_trainval, X_test, y_trainval, y_test = train_test_split(data_features, data_target, random_state=42)"
   ]
  },
  {
   "cell_type": "code",
   "execution_count": 42,
   "metadata": {},
   "outputs": [
    {
     "name": "stdout",
     "output_type": "stream",
     "text": [
      "Best alpha found: 0.0002915053062825176\n",
      "Best MSE on validation set: 0.8447087339006654\n",
      "MSE on training/validation set: 76.34544177944922\n",
      "MSE on test set: 72.13204119708232\n"
     ]
    }
   ],
   "source": [
    "best_score = 0\n",
    "for alphas in 10**np.linspace(-10, 10, 100):\n",
    "    # Set a certain number of alphas\n",
    "    lasso1 = Lasso(max_iter = 10000, normalize=True, alpha=alphas)\n",
    "    \n",
    "    # Perform cross validation\n",
    "    scores = cross_val_score(lasso1, X_trainval, y_trainval, cv=5)\n",
    "    \n",
    "    # Compute the mean score\n",
    "    score = scores.mean()\n",
    "    \n",
    "    # If improvement, store score and parameter\n",
    "    if score > best_score:\n",
    "        best_score = score\n",
    "        best_alphas = alphas\n",
    "\n",
    "# Build a model on the combine training and valiation data\n",
    "lasso1 = Lasso(max_iter = 10000, normalize=True, alpha = best_alphas)\n",
    "lasso1.fit(X_trainval, y_trainval)\n",
    "\n",
    "print(\"Best alpha found: {}\".format(best_alphas))\n",
    "print(\"Best MSE on validation set: {}\".format(best_score))\n",
    "print(\"MSE on training/validation set: {}\".format(mean_squared_error(y_trainval, lasso1.predict(X_trainval))))\n",
    "print(\"MSE on test set: {}\".format(mean_squared_error(y_test, lasso1.predict(X_test))))"
   ]
  },
  {
   "cell_type": "code",
   "execution_count": 43,
   "metadata": {},
   "outputs": [
    {
     "name": "stdout",
     "output_type": "stream",
     "text": [
      "The MSE associated with alpha value: 72.75273150143259\n"
     ]
    }
   ],
   "source": [
    "# to chech model performance\n",
    "lasso = Lasso(max_iter = 10000, alpha = best_alphas, normalize = True)\n",
    "lasso.fit(X_train, y_train)\n",
    "mse = mean_squared_error(y_test, lasso.predict(X_test))\n",
    "print(\"The MSE associated with alpha value: {}\".format(mse))"
   ]
  },
  {
   "cell_type": "code",
   "execution_count": 44,
   "metadata": {},
   "outputs": [
    {
     "data": {
      "text/plain": [
       "ID            -0.000050\n",
       "XKoordinat    -0.000070\n",
       "YKoordinat    -0.000081\n",
       "fra_kote      -0.000000\n",
       "til_kote      -0.014840\n",
       "Laengde       -0.019227\n",
       "Fald          -0.024436\n",
       "DiameterIn    -0.001701\n",
       "MaterialeK    -0.029499\n",
       "anlag_aar     -0.699356\n",
       "TransportK     0.000000\n",
       "Funktionsk    -0.416734\n",
       "TVObsKode     -8.789962\n",
       "DatoSaneri    -0.019893\n",
       "Depth          0.059897\n",
       "PipeStatus    14.557375\n",
       "dtype: float64"
      ]
     },
     "execution_count": 44,
     "metadata": {},
     "output_type": "execute_result"
    }
   ],
   "source": [
    "# coefficients associated with the chosen alpha\n",
    "pd.Series(lasso.coef_ , index = data_features.columns)"
   ]
  },
  {
   "cell_type": "code",
   "execution_count": 45,
   "metadata": {},
   "outputs": [
    {
     "name": "stdout",
     "output_type": "stream",
     "text": [
      "R^2 on train data is 0.8493518801365918 and on test data is 0.8744861189234069\n"
     ]
    }
   ],
   "source": [
    "# R^2 of the associated alpha\n",
    "print(\"R^2 on train data is {} and on test data is {}\".format(lasso.score(X_train, y_train), \n",
    "                                                              lasso.score(X_test,y_test)))"
   ]
  },
  {
   "cell_type": "markdown",
   "metadata": {},
   "source": [
    "# Tuning Alpha for Lasso Model with Train-Test split and Standardization:"
   ]
  },
  {
   "cell_type": "code",
   "execution_count": 46,
   "metadata": {},
   "outputs": [],
   "source": [
    "# Divide the data into training and test\n",
    "X_train, X_test, y_train, y_test = train_test_split(data_features, data_target, random_state=42)\n",
    "\n",
    "# preprocessing using 0-1 scaling\n",
    "scaler = StandardScaler()\n",
    "scaler.fit(X_train)\n",
    "X_train_scaled = scaler.transform(X_train)\n",
    "X_test_scaled = scaler.transform(X_test)"
   ]
  },
  {
   "cell_type": "code",
   "execution_count": 47,
   "metadata": {},
   "outputs": [
    {
     "name": "stdout",
     "output_type": "stream",
     "text": [
      "Best alpha value found: 0.0004811058664242277\n"
     ]
    }
   ],
   "source": [
    "# Learn the model with a certain numnber of alphas\n",
    "lassocv = LassoCV(alphas = None, cv = 10, max_iter = 100000, normalize = True)\n",
    "lassocv.fit(X_train, y_train)\n",
    "print(\"Best alpha value found: {}\".format(lassocv.alpha_))"
   ]
  },
  {
   "cell_type": "code",
   "execution_count": 48,
   "metadata": {},
   "outputs": [
    {
     "data": {
      "text/plain": [
       "ID            -0.000052\n",
       "XKoordinat    -0.000052\n",
       "YKoordinat    -0.000047\n",
       "fra_kote      -0.000000\n",
       "til_kote      -0.020297\n",
       "Laengde       -0.012388\n",
       "Fald          -0.031407\n",
       "DiameterIn     0.000000\n",
       "MaterialeK    -0.029542\n",
       "anlag_aar     -0.717843\n",
       "TransportK     0.000000\n",
       "Funktionsk    -0.459278\n",
       "TVObsKode     -6.505298\n",
       "DatoSaneri    -0.019959\n",
       "Depth          0.038679\n",
       "PipeStatus    11.857780\n",
       "dtype: float64"
      ]
     },
     "execution_count": 48,
     "metadata": {},
     "output_type": "execute_result"
    }
   ],
   "source": [
    "# ridge.fit(data_features, data_target)\n",
    "pd.Series(lassocv.coef_ , index = data_features.columns)"
   ]
  },
  {
   "cell_type": "code",
   "execution_count": 49,
   "metadata": {},
   "outputs": [
    {
     "name": "stdout",
     "output_type": "stream",
     "text": [
      "The MSE associated with alpha value: 72.14647881551919\n"
     ]
    }
   ],
   "source": [
    "# to chech model performance\n",
    "lasso = Lasso(max_iter = 10000)\n",
    "lasso.set_params(alpha=lassocv.alpha_)\n",
    "lasso.fit(X_train, y_train)\n",
    "mse = mean_squared_error(y_test, lasso.predict(X_test))\n",
    "print(\"The MSE associated with alpha value: {}\".format(mse))"
   ]
  },
  {
   "cell_type": "code",
   "execution_count": 50,
   "metadata": {},
   "outputs": [
    {
     "name": "stdout",
     "output_type": "stream",
     "text": [
      "R^2 on train data is -6165.26437817396 and on test data is -5473.824330805535\n"
     ]
    }
   ],
   "source": [
    "# R^2 of the associated alpha\n",
    "print(\"R^2 on train data is {} and on test data is {}\".format(lasso.score(X_train_scaled, y_train), \n",
    "                                                              lasso.score(X_test_scaled,y_test)))"
   ]
  },
  {
   "cell_type": "markdown",
   "metadata": {},
   "source": [
    "# Tuning Alpha for Lasso Model with validation set split and Standardization:"
   ]
  },
  {
   "cell_type": "code",
   "execution_count": 51,
   "metadata": {},
   "outputs": [],
   "source": [
    "# Divide the data into training, test and validation\n",
    "\n",
    "X_trainval, X_test, y_trainval, y_test = train_test_split(data_features, data_target, random_state=42)\n",
    "X_train, X_val, y_train, y_val = train_test_split(X_trainval, y_trainval, random_state=43)\n",
    "\n",
    "# preprocessing using zero mean and unit variance scaling\n",
    "scaler = StandardScaler()\n",
    "scaler.fit(X_train)\n",
    "\n",
    "X_train_scaled = scaler.transform(X_train)\n",
    "X_test_scaled = scaler.transform(X_test)\n",
    "X_val_scaled = scaler.transform(X_val)\n",
    "X_trainval_scaled = scaler.transform( X_trainval)\n"
   ]
  },
  {
   "cell_type": "code",
   "execution_count": 52,
   "metadata": {},
   "outputs": [
    {
     "name": "stdout",
     "output_type": "stream",
     "text": [
      "Best alpha found: 0.12328467394420634\n",
      "Best MSE on validation set: 75.30664543916552\n",
      "MSE on training/validation set: 77.20696176918165\n",
      "MSE on test set: 73.43251475646696\n"
     ]
    }
   ],
   "source": [
    "best_score = 100\n",
    "for alphas in 10**np.linspace(-10, 10, 100):\n",
    "    # Learn the model with a certain numnber of alphas\n",
    "    lasso1 = Lasso(max_iter = 10000, alpha=alphas)\n",
    "    lasso1.fit(X_train_scaled, y_train)\n",
    "    \n",
    "    # Evaluate the model\n",
    "    score = mean_squared_error(y_val, lasso1.predict(X_val_scaled))\n",
    "    \n",
    "    \n",
    "    # If improvement, store score and parameter\n",
    "    if score < best_score:\n",
    "        best_score = score\n",
    "        best_alphas = alphas\n",
    "\n",
    "# Build a model on the combine training and valiation data\n",
    "lasso1 = Lasso(max_iter = 10000, alpha = best_alphas)\n",
    "lasso1.fit(X_trainval_scaled, y_trainval)\n",
    "\n",
    "print(\"Best alpha found: {}\".format(best_alphas))\n",
    "print(\"Best MSE on validation set: {}\".format(best_score))\n",
    "print(\"MSE on training/validation set: {}\".format(mean_squared_error(y_trainval, lasso1.predict(X_trainval_scaled))))\n",
    "print(\"MSE on test set: {}\".format(mean_squared_error(y_test, lasso1.predict(X_test_scaled))))"
   ]
  },
  {
   "cell_type": "code",
   "execution_count": 53,
   "metadata": {},
   "outputs": [
    {
     "name": "stdout",
     "output_type": "stream",
     "text": [
      "The MSE associated with alpha value: 126.73983208507218\n"
     ]
    }
   ],
   "source": [
    "# to chech model performance\n",
    "lasso = Lasso(max_iter = 10000, alpha = best_alphas, normalize = True)\n",
    "lasso.fit(X_train_scaled, y_train)\n",
    "mse = mean_squared_error(y_test, lasso.predict(X_test_scaled))\n",
    "print(\"The MSE associated with alpha value: {}\".format(mse))"
   ]
  },
  {
   "cell_type": "code",
   "execution_count": 54,
   "metadata": {},
   "outputs": [
    {
     "data": {
      "text/plain": [
       "ID            -0.000000\n",
       "XKoordinat    -0.000000\n",
       "YKoordinat    -0.000000\n",
       "fra_kote      -0.000000\n",
       "til_kote       0.000000\n",
       "Laengde       -0.000000\n",
       "Fald          -0.000000\n",
       "DiameterIn    -0.000000\n",
       "MaterialeK    -0.000000\n",
       "anlag_aar     -9.870866\n",
       "TransportK     0.000000\n",
       "Funktionsk    -0.000000\n",
       "TVObsKode      0.000000\n",
       "DatoSaneri   -14.336281\n",
       "Depth         -0.000000\n",
       "PipeStatus     1.041563\n",
       "dtype: float64"
      ]
     },
     "execution_count": 54,
     "metadata": {},
     "output_type": "execute_result"
    }
   ],
   "source": [
    "# coefficients associated with the chosen alpha\n",
    "pd.Series(lasso.coef_ , index = data_features.columns)"
   ]
  },
  {
   "cell_type": "code",
   "execution_count": 55,
   "metadata": {},
   "outputs": [
    {
     "name": "stdout",
     "output_type": "stream",
     "text": [
      "R^2 on train data is 0.7742559157386047 and on test data is 0.7813469283736805\n"
     ]
    }
   ],
   "source": [
    "# R^2 of the associated alpha\n",
    "print(\"R^2 on train data is {} and on test data is {}\".format(lasso.score(X_train_scaled, y_train), \n",
    "                                                              lasso.score(X_test_scaled,y_test)))"
   ]
  },
  {
   "cell_type": "markdown",
   "metadata": {},
   "source": [
    "# Tuning Alpha for Lasso Model with cross validation split and Standardization:"
   ]
  },
  {
   "cell_type": "code",
   "execution_count": 56,
   "metadata": {},
   "outputs": [],
   "source": [
    "# Divide the data into training, test and validation\n",
    "\n",
    "X_trainval, X_test, y_trainval, y_test = train_test_split(data_features, data_target, random_state=42)\n",
    "\n",
    "# preprocessing using 0-1 scaling\n",
    "scaler = StandardScaler()\n",
    "scaler.fit(X_train)\n",
    "\n",
    "X_test_scaled = scaler.transform(X_test)\n",
    "X_trainval_scaled = scaler.transform( X_trainval)"
   ]
  },
  {
   "cell_type": "code",
   "execution_count": 57,
   "metadata": {},
   "outputs": [
    {
     "name": "stdout",
     "output_type": "stream",
     "text": [
      "Best alpha found: 0.007564633275546291\n",
      "Best MSE on validation set: 0.8447108353419364\n",
      "MSE on training/validation set: 76.3441814264463\n",
      "MSE on test set: 72.12477999958982\n"
     ]
    }
   ],
   "source": [
    "best_score = 0\n",
    "for alphas in 10**np.linspace(-10, 10, 100):\n",
    "    # Set a certain number of alphas\n",
    "    lasso1 = Lasso(max_iter = 10000, alpha=alphas)\n",
    "    \n",
    "    # Perform cross validation\n",
    "    scores = cross_val_score(lasso1, X_trainval_scaled, y_trainval, cv=5)\n",
    "    \n",
    "    # Compute the mean score\n",
    "    score = scores.mean()\n",
    "    \n",
    "    # If improvement, store score and parameter\n",
    "    if score > best_score:\n",
    "        best_score = score\n",
    "        best_alphas = alphas\n",
    "\n",
    "# Build a model on the combine training and valiation data\n",
    "lasso1 = Lasso(max_iter = 10000, alpha = best_alphas)\n",
    "lasso1.fit(X_trainval_scaled, y_trainval)\n",
    "\n",
    "print(\"Best alpha found: {}\".format(best_alphas))\n",
    "print(\"Best MSE on validation set: {}\".format(best_score))\n",
    "print(\"MSE on training/validation set: {}\".format(mean_squared_error(y_trainval, lasso1.predict(X_trainval_scaled))))\n",
    "print(\"MSE on test set: {}\".format(mean_squared_error(y_test, lasso1.predict(X_test_scaled))))"
   ]
  },
  {
   "cell_type": "code",
   "execution_count": 58,
   "metadata": {},
   "outputs": [
    {
     "name": "stdout",
     "output_type": "stream",
     "text": [
      "The MSE associated with alpha value: 72.12477999958982\n"
     ]
    }
   ],
   "source": [
    "# to chech model performance\n",
    "lasso = Lasso(max_iter = 10000, alpha = best_alphas)\n",
    "lasso.fit(X_trainval_scaled,y_trainval)\n",
    "mse = mean_squared_error(y_test, lasso.predict(X_test_scaled))\n",
    "print(\"The MSE associated with alpha value: {}\".format(mse))"
   ]
  },
  {
   "cell_type": "code",
   "execution_count": 59,
   "metadata": {},
   "outputs": [
    {
     "data": {
      "text/plain": [
       "ID            -2.155849\n",
       "XKoordinat    -0.552337\n",
       "YKoordinat    -0.352131\n",
       "fra_kote      -0.000000\n",
       "til_kote      -0.338665\n",
       "Laengde       -0.347551\n",
       "Fald          -0.670256\n",
       "DiameterIn     0.005550\n",
       "MaterialeK    -0.210661\n",
       "anlag_aar    -14.268274\n",
       "TransportK     0.000000\n",
       "Funktionsk    -0.664976\n",
       "TVObsKode     -2.983829\n",
       "DatoSaneri   -18.283535\n",
       "Depth          0.406160\n",
       "PipeStatus     5.210254\n",
       "dtype: float64"
      ]
     },
     "execution_count": 59,
     "metadata": {},
     "output_type": "execute_result"
    }
   ],
   "source": [
    "# coefficients associated with the chosen alpha\n",
    "pd.Series(lasso.coef_ , index = data_features.columns)"
   ]
  },
  {
   "cell_type": "code",
   "execution_count": 60,
   "metadata": {},
   "outputs": [
    {
     "name": "stdout",
     "output_type": "stream",
     "text": [
      "R^2 on train/validation data is 0.8519752950606793 and on test data is 0.875569468352323\n"
     ]
    }
   ],
   "source": [
    "# R^2 of the associated alpha\n",
    "print(\"R^2 on train/validation data is {} and on test data is {}\".format(lasso.score(X_trainval_scaled,y_trainval), \n",
    "                                                              lasso.score(X_test_scaled,y_test)))"
   ]
  },
  {
   "cell_type": "code",
   "execution_count": null,
   "metadata": {},
   "outputs": [],
   "source": []
  }
 ],
 "metadata": {
  "kernelspec": {
   "display_name": "Python 3",
   "language": "python",
   "name": "python3"
  },
  "language_info": {
   "codemirror_mode": {
    "name": "ipython",
    "version": 3
   },
   "file_extension": ".py",
   "mimetype": "text/x-python",
   "name": "python",
   "nbconvert_exporter": "python",
   "pygments_lexer": "ipython3",
   "version": "3.9.9"
  }
 },
 "nbformat": 4,
 "nbformat_minor": 4
}
