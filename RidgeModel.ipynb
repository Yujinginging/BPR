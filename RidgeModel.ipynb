{
 "cells": [
  {
   "cell_type": "code",
   "execution_count": 156,
   "metadata": {},
   "outputs": [],
   "source": [
    "%matplotlib inline\n",
    "import numpy as np\n",
    "import pandas as pd\n",
    "import sklearn as sk\n",
    "import seaborn as sns\n",
    "import warnings; warnings.simplefilter('ignore')\n",
    "import matplotlib.pyplot as plt\n",
    "import mglearn\n",
    "from sklearn.model_selection import train_test_split\n",
    "from sklearn.model_selection import cross_val_score\n",
    "from sklearn.preprocessing import MinMaxScaler\n",
    "from sklearn.preprocessing import StandardScaler\n",
    "from sklearn.linear_model import LinearRegression, Ridge, RidgeCV, Lasso, LassoCV\n",
    "from sklearn.metrics import mean_squared_error"
   ]
  },
  {
   "cell_type": "markdown",
   "metadata": {},
   "source": [
    "# Data Preparation and Feature Engineering:"
   ]
  },
  {
   "cell_type": "code",
   "execution_count": 157,
   "metadata": {},
   "outputs": [],
   "source": [
    "data = pd.read_csv(\"Energi_Viborg_Dandas_data.csv\")"
   ]
  },
  {
   "cell_type": "code",
   "execution_count": 158,
   "metadata": {},
   "outputs": [],
   "source": [
    "#drop columns not needed after asking the company about the meaning of these features\n",
    "\n",
    "columns_to_be_removed = ['ID', 'mslink', 'XKoordinat','YKoordinat','LedningID','Dobbeltled','EjerKompon','SystemKode','KategoriAf','DatoUdf']\n",
    "data=data.drop(columns_to_be_removed,axis='columns')"
   ]
  },
  {
   "cell_type": "code",
   "execution_count": 159,
   "metadata": {},
   "outputs": [],
   "source": [
    "# in the column DatoSaneri is the date of repairing and if there is no date it means it is not repaired\n",
    "\n",
    "data['DatoSaneri'].fillna(0, inplace=True)"
   ]
  },
  {
   "cell_type": "code",
   "execution_count": 160,
   "metadata": {},
   "outputs": [],
   "source": [
    "# take only the pipes that are broken(by TV insection) now and the repaired ones\n",
    "\n",
    "data_with_TVObsAndSaneri = data[data['TVObsKode'].isin([1]) | data['DatoSaneri'] > 0]"
   ]
  },
  {
   "cell_type": "code",
   "execution_count": 161,
   "metadata": {},
   "outputs": [],
   "source": [
    "#get around 2077 rows with not broken pipes\n",
    "\n",
    "data_not_broken = data[~data['TVObsKode'].isin([0]) | data['DatoSaneri'] == 0]\n",
    "data_not_broken = data_not_broken.sample(n=2077) "
   ]
  },
  {
   "cell_type": "code",
   "execution_count": 162,
   "metadata": {},
   "outputs": [
    {
     "data": {
      "text/html": [
       "<div>\n",
       "<style scoped>\n",
       "    .dataframe tbody tr th:only-of-type {\n",
       "        vertical-align: middle;\n",
       "    }\n",
       "\n",
       "    .dataframe tbody tr th {\n",
       "        vertical-align: top;\n",
       "    }\n",
       "\n",
       "    .dataframe thead th {\n",
       "        text-align: right;\n",
       "    }\n",
       "</style>\n",
       "<table border=\"1\" class=\"dataframe\">\n",
       "  <thead>\n",
       "    <tr style=\"text-align: right;\">\n",
       "      <th></th>\n",
       "      <th>fra_kote</th>\n",
       "      <th>til_kote</th>\n",
       "      <th>Laengde</th>\n",
       "      <th>Fald</th>\n",
       "      <th>DiameterIn</th>\n",
       "      <th>MaterialeK</th>\n",
       "      <th>anlag_aar</th>\n",
       "      <th>TransportK</th>\n",
       "      <th>Funktionsk</th>\n",
       "      <th>TVObsKode</th>\n",
       "      <th>DatoOprett</th>\n",
       "      <th>DatoOpdate</th>\n",
       "      <th>DatoSaneri</th>\n",
       "    </tr>\n",
       "  </thead>\n",
       "  <tbody>\n",
       "    <tr>\n",
       "      <th>36</th>\n",
       "      <td>34.720000</td>\n",
       "      <td>33.48</td>\n",
       "      <td>64.88</td>\n",
       "      <td>19.112207</td>\n",
       "      <td>300.0</td>\n",
       "      <td>1.0</td>\n",
       "      <td>1939.0</td>\n",
       "      <td>1</td>\n",
       "      <td>0</td>\n",
       "      <td>0.0</td>\n",
       "      <td>2010</td>\n",
       "      <td>2014</td>\n",
       "      <td>1997.0</td>\n",
       "    </tr>\n",
       "    <tr>\n",
       "      <th>42</th>\n",
       "      <td>39.460000</td>\n",
       "      <td>39.16</td>\n",
       "      <td>91.75</td>\n",
       "      <td>3.269755</td>\n",
       "      <td>400.0</td>\n",
       "      <td>1.0</td>\n",
       "      <td>1939.0</td>\n",
       "      <td>1</td>\n",
       "      <td>0</td>\n",
       "      <td>1.0</td>\n",
       "      <td>2010</td>\n",
       "      <td>2014</td>\n",
       "      <td>0.0</td>\n",
       "    </tr>\n",
       "    <tr>\n",
       "      <th>43</th>\n",
       "      <td>39.710000</td>\n",
       "      <td>39.48</td>\n",
       "      <td>87.69</td>\n",
       "      <td>2.622876</td>\n",
       "      <td>300.0</td>\n",
       "      <td>1.0</td>\n",
       "      <td>1939.0</td>\n",
       "      <td>1</td>\n",
       "      <td>0</td>\n",
       "      <td>1.0</td>\n",
       "      <td>2010</td>\n",
       "      <td>2014</td>\n",
       "      <td>0.0</td>\n",
       "    </tr>\n",
       "    <tr>\n",
       "      <th>64</th>\n",
       "      <td>40.550000</td>\n",
       "      <td>40.08</td>\n",
       "      <td>52.11</td>\n",
       "      <td>9.019382</td>\n",
       "      <td>250.0</td>\n",
       "      <td>1.0</td>\n",
       "      <td>1945.0</td>\n",
       "      <td>1</td>\n",
       "      <td>0</td>\n",
       "      <td>1.0</td>\n",
       "      <td>2010</td>\n",
       "      <td>2014</td>\n",
       "      <td>0.0</td>\n",
       "    </tr>\n",
       "    <tr>\n",
       "      <th>65</th>\n",
       "      <td>40.380000</td>\n",
       "      <td>40.55</td>\n",
       "      <td>68.39</td>\n",
       "      <td>-2.485744</td>\n",
       "      <td>250.0</td>\n",
       "      <td>1.0</td>\n",
       "      <td>1945.0</td>\n",
       "      <td>1</td>\n",
       "      <td>0</td>\n",
       "      <td>1.0</td>\n",
       "      <td>2010</td>\n",
       "      <td>2014</td>\n",
       "      <td>0.0</td>\n",
       "    </tr>\n",
       "    <tr>\n",
       "      <th>...</th>\n",
       "      <td>...</td>\n",
       "      <td>...</td>\n",
       "      <td>...</td>\n",
       "      <td>...</td>\n",
       "      <td>...</td>\n",
       "      <td>...</td>\n",
       "      <td>...</td>\n",
       "      <td>...</td>\n",
       "      <td>...</td>\n",
       "      <td>...</td>\n",
       "      <td>...</td>\n",
       "      <td>...</td>\n",
       "      <td>...</td>\n",
       "    </tr>\n",
       "    <tr>\n",
       "      <th>22766</th>\n",
       "      <td>53.970000</td>\n",
       "      <td>50.47</td>\n",
       "      <td>112.80</td>\n",
       "      <td>31.028369</td>\n",
       "      <td>200.0</td>\n",
       "      <td>4.0</td>\n",
       "      <td>2017.0</td>\n",
       "      <td>1</td>\n",
       "      <td>0</td>\n",
       "      <td>0.0</td>\n",
       "      <td>2017</td>\n",
       "      <td>2017</td>\n",
       "      <td>0.0</td>\n",
       "    </tr>\n",
       "    <tr>\n",
       "      <th>17232</th>\n",
       "      <td>42.585832</td>\n",
       "      <td>42.86</td>\n",
       "      <td>9.58</td>\n",
       "      <td>-28.618802</td>\n",
       "      <td>350.0</td>\n",
       "      <td>1.0</td>\n",
       "      <td>1954.0</td>\n",
       "      <td>1</td>\n",
       "      <td>0</td>\n",
       "      <td>0.0</td>\n",
       "      <td>2012</td>\n",
       "      <td>2014</td>\n",
       "      <td>0.0</td>\n",
       "    </tr>\n",
       "    <tr>\n",
       "      <th>5014</th>\n",
       "      <td>14.657335</td>\n",
       "      <td>13.84</td>\n",
       "      <td>33.70</td>\n",
       "      <td>24.253264</td>\n",
       "      <td>250.0</td>\n",
       "      <td>1.0</td>\n",
       "      <td>1941.0</td>\n",
       "      <td>1</td>\n",
       "      <td>10</td>\n",
       "      <td>0.0</td>\n",
       "      <td>2010</td>\n",
       "      <td>2014</td>\n",
       "      <td>0.0</td>\n",
       "    </tr>\n",
       "    <tr>\n",
       "      <th>9708</th>\n",
       "      <td>46.390000</td>\n",
       "      <td>43.97</td>\n",
       "      <td>59.59</td>\n",
       "      <td>40.610841</td>\n",
       "      <td>200.0</td>\n",
       "      <td>1.0</td>\n",
       "      <td>1984.0</td>\n",
       "      <td>1</td>\n",
       "      <td>0</td>\n",
       "      <td>0.0</td>\n",
       "      <td>2010</td>\n",
       "      <td>2014</td>\n",
       "      <td>0.0</td>\n",
       "    </tr>\n",
       "    <tr>\n",
       "      <th>12276</th>\n",
       "      <td>10.850000</td>\n",
       "      <td>9.67</td>\n",
       "      <td>19.32</td>\n",
       "      <td>61.076605</td>\n",
       "      <td>250.0</td>\n",
       "      <td>1.0</td>\n",
       "      <td>1973.0</td>\n",
       "      <td>1</td>\n",
       "      <td>0</td>\n",
       "      <td>0.0</td>\n",
       "      <td>2010</td>\n",
       "      <td>2014</td>\n",
       "      <td>0.0</td>\n",
       "    </tr>\n",
       "  </tbody>\n",
       "</table>\n",
       "<p>4154 rows × 13 columns</p>\n",
       "</div>"
      ],
      "text/plain": [
       "        fra_kote  til_kote  Laengde       Fald  DiameterIn  MaterialeK  \\\n",
       "36     34.720000     33.48    64.88  19.112207       300.0         1.0   \n",
       "42     39.460000     39.16    91.75   3.269755       400.0         1.0   \n",
       "43     39.710000     39.48    87.69   2.622876       300.0         1.0   \n",
       "64     40.550000     40.08    52.11   9.019382       250.0         1.0   \n",
       "65     40.380000     40.55    68.39  -2.485744       250.0         1.0   \n",
       "...          ...       ...      ...        ...         ...         ...   \n",
       "22766  53.970000     50.47   112.80  31.028369       200.0         4.0   \n",
       "17232  42.585832     42.86     9.58 -28.618802       350.0         1.0   \n",
       "5014   14.657335     13.84    33.70  24.253264       250.0         1.0   \n",
       "9708   46.390000     43.97    59.59  40.610841       200.0         1.0   \n",
       "12276  10.850000      9.67    19.32  61.076605       250.0         1.0   \n",
       "\n",
       "       anlag_aar  TransportK  Funktionsk  TVObsKode  DatoOprett  DatoOpdate  \\\n",
       "36        1939.0           1           0        0.0        2010        2014   \n",
       "42        1939.0           1           0        1.0        2010        2014   \n",
       "43        1939.0           1           0        1.0        2010        2014   \n",
       "64        1945.0           1           0        1.0        2010        2014   \n",
       "65        1945.0           1           0        1.0        2010        2014   \n",
       "...          ...         ...         ...        ...         ...         ...   \n",
       "22766     2017.0           1           0        0.0        2017        2017   \n",
       "17232     1954.0           1           0        0.0        2012        2014   \n",
       "5014      1941.0           1          10        0.0        2010        2014   \n",
       "9708      1984.0           1           0        0.0        2010        2014   \n",
       "12276     1973.0           1           0        0.0        2010        2014   \n",
       "\n",
       "       DatoSaneri  \n",
       "36         1997.0  \n",
       "42            0.0  \n",
       "43            0.0  \n",
       "64            0.0  \n",
       "65            0.0  \n",
       "...           ...  \n",
       "22766         0.0  \n",
       "17232         0.0  \n",
       "5014          0.0  \n",
       "9708          0.0  \n",
       "12276         0.0  \n",
       "\n",
       "[4154 rows x 13 columns]"
      ]
     },
     "execution_count": 162,
     "metadata": {},
     "output_type": "execute_result"
    }
   ],
   "source": [
    "frames = [data_with_TVObsAndSaneri, data_not_broken]\n",
    "  \n",
    "data_final = pd.concat(frames)\n",
    "data_final"
   ]
  },
  {
   "cell_type": "code",
   "execution_count": 163,
   "metadata": {},
   "outputs": [],
   "source": [
    "data = data_final"
   ]
  },
  {
   "cell_type": "code",
   "execution_count": 164,
   "metadata": {},
   "outputs": [
    {
     "name": "stdout",
     "output_type": "stream",
     "text": [
      "Number of rows before removing NaNs: 4154\n",
      "Number of rows after removing NaNs: 4154\n"
     ]
    }
   ],
   "source": [
    "# data_fs= np.where(np.isnan(data_features))\n",
    "# data_fs\n",
    "print(\"Number of rows before removing NaNs: {}\".format(data.shape[0]))\n",
    "data = data.dropna()\n",
    "print(\"Number of rows after removing NaNs: {}\".format(data.shape[0]))"
   ]
  },
  {
   "cell_type": "code",
   "execution_count": 165,
   "metadata": {},
   "outputs": [],
   "source": [
    "#get data copied\n",
    "datacopy = data\n",
    "\n",
    "\n",
    "# add  age column\n",
    "\n",
    "#get current year\n",
    "from datetime import date\n",
    "now = date.today().year\n",
    "\n",
    "\n",
    "def age_df(datacopy):\n",
    "\n",
    "    if (datacopy['TVObsKode'] == 1) and (datacopy['DatoSaneri'] > 0) :\n",
    "        return (now - datacopy['DatoSaneri'])\n",
    "    elif (datacopy['TVObsKode'] == 1) and (datacopy['DatoSaneri']== 0):\n",
    "        return (now - datacopy['anlag_aar'])\n",
    "    elif (datacopy['TVObsKode'] == 0) and (datacopy['DatoSaneri'] > 0):\n",
    "        return (now - datacopy['DatoSaneri'])\n",
    "    elif (datacopy['TVObsKode']== 0) and (datacopy['DatoSaneri']== 0):\n",
    "        return (now - datacopy['anlag_aar'])\n",
    "\n",
    "datacopy['Age'] = datacopy.apply(age_df, axis = 1)"
   ]
  },
  {
   "cell_type": "code",
   "execution_count": 166,
   "metadata": {},
   "outputs": [],
   "source": [
    "# add a column 'PipeStatus'\n",
    "# 1 as broken and 0 as not broken\n",
    "\n",
    "def broken_df(datacopy):\n",
    "\n",
    "    if (datacopy['TVObsKode'] == 1) and (datacopy['DatoSaneri'] < (datacopy['DatoOpdate'])) and (datacopy['DatoSaneri'] != 0):\n",
    "        return 1\n",
    "    elif (datacopy['TVObsKode'] == 1) and (datacopy['DatoSaneri'] >= (datacopy['DatoOpdate'])) and (datacopy['DatoSaneri'] != 0):\n",
    "        return 0\n",
    "    elif (datacopy['TVObsKode'] == 1) and (datacopy['DatoSaneri']== 0):\n",
    "        return 1\n",
    "    elif (datacopy['TVObsKode'] == 0) and (datacopy['DatoSaneri'] > 0):\n",
    "        return 0\n",
    "    elif (datacopy['TVObsKode']== 0) and (datacopy['DatoSaneri']== 0):\n",
    "        return 0\n",
    "\n",
    "datacopy['PipeStatus'] = datacopy.apply(broken_df, axis = 1)"
   ]
  },
  {
   "cell_type": "code",
   "execution_count": 167,
   "metadata": {},
   "outputs": [],
   "source": [
    "# datacopy = datacopy.sample(n=22) \n",
    "# datacopy"
   ]
  },
  {
   "cell_type": "code",
   "execution_count": 168,
   "metadata": {},
   "outputs": [],
   "source": [
    "# data_fs= np.where(np.isnan(datacopy))\n",
    "# data_fs\n",
    "# row = datacopy.iloc[369] #index=1 => second row\n",
    "# print(row)"
   ]
  },
  {
   "cell_type": "code",
   "execution_count": 169,
   "metadata": {},
   "outputs": [
    {
     "name": "stdout",
     "output_type": "stream",
     "text": [
      "Number of rows before removing NaNs: 4154\n",
      "Number of rows after removing NaNs: 4154\n"
     ]
    }
   ],
   "source": [
    "# data_fs= np.where(np.isnan(data_features))\n",
    "# data_fs\n",
    "print(\"Number of rows before removing NaNs: {}\".format(datacopy.shape[0]))\n",
    "datacopy = datacopy.dropna()\n",
    "print(\"Number of rows after removing NaNs: {}\".format(datacopy.shape[0]))"
   ]
  },
  {
   "cell_type": "code",
   "execution_count": 170,
   "metadata": {},
   "outputs": [
    {
     "data": {
      "text/html": [
       "<div>\n",
       "<style scoped>\n",
       "    .dataframe tbody tr th:only-of-type {\n",
       "        vertical-align: middle;\n",
       "    }\n",
       "\n",
       "    .dataframe tbody tr th {\n",
       "        vertical-align: top;\n",
       "    }\n",
       "\n",
       "    .dataframe thead th {\n",
       "        text-align: right;\n",
       "    }\n",
       "</style>\n",
       "<table border=\"1\" class=\"dataframe\">\n",
       "  <thead>\n",
       "    <tr style=\"text-align: right;\">\n",
       "      <th></th>\n",
       "      <th>fra_kote</th>\n",
       "      <th>til_kote</th>\n",
       "      <th>Laengde</th>\n",
       "      <th>Fald</th>\n",
       "      <th>DiameterIn</th>\n",
       "      <th>MaterialeK</th>\n",
       "      <th>anlag_aar</th>\n",
       "      <th>TransportK</th>\n",
       "      <th>Funktionsk</th>\n",
       "      <th>TVObsKode</th>\n",
       "      <th>DatoSaneri</th>\n",
       "      <th>Age</th>\n",
       "      <th>PipeStatus</th>\n",
       "    </tr>\n",
       "  </thead>\n",
       "  <tbody>\n",
       "    <tr>\n",
       "      <th>36</th>\n",
       "      <td>34.720000</td>\n",
       "      <td>33.48</td>\n",
       "      <td>64.88</td>\n",
       "      <td>19.112207</td>\n",
       "      <td>300.0</td>\n",
       "      <td>1.0</td>\n",
       "      <td>1939.0</td>\n",
       "      <td>1</td>\n",
       "      <td>0</td>\n",
       "      <td>0.0</td>\n",
       "      <td>1997.0</td>\n",
       "      <td>24.0</td>\n",
       "      <td>0</td>\n",
       "    </tr>\n",
       "    <tr>\n",
       "      <th>42</th>\n",
       "      <td>39.460000</td>\n",
       "      <td>39.16</td>\n",
       "      <td>91.75</td>\n",
       "      <td>3.269755</td>\n",
       "      <td>400.0</td>\n",
       "      <td>1.0</td>\n",
       "      <td>1939.0</td>\n",
       "      <td>1</td>\n",
       "      <td>0</td>\n",
       "      <td>1.0</td>\n",
       "      <td>0.0</td>\n",
       "      <td>82.0</td>\n",
       "      <td>1</td>\n",
       "    </tr>\n",
       "    <tr>\n",
       "      <th>43</th>\n",
       "      <td>39.710000</td>\n",
       "      <td>39.48</td>\n",
       "      <td>87.69</td>\n",
       "      <td>2.622876</td>\n",
       "      <td>300.0</td>\n",
       "      <td>1.0</td>\n",
       "      <td>1939.0</td>\n",
       "      <td>1</td>\n",
       "      <td>0</td>\n",
       "      <td>1.0</td>\n",
       "      <td>0.0</td>\n",
       "      <td>82.0</td>\n",
       "      <td>1</td>\n",
       "    </tr>\n",
       "    <tr>\n",
       "      <th>64</th>\n",
       "      <td>40.550000</td>\n",
       "      <td>40.08</td>\n",
       "      <td>52.11</td>\n",
       "      <td>9.019382</td>\n",
       "      <td>250.0</td>\n",
       "      <td>1.0</td>\n",
       "      <td>1945.0</td>\n",
       "      <td>1</td>\n",
       "      <td>0</td>\n",
       "      <td>1.0</td>\n",
       "      <td>0.0</td>\n",
       "      <td>76.0</td>\n",
       "      <td>1</td>\n",
       "    </tr>\n",
       "    <tr>\n",
       "      <th>65</th>\n",
       "      <td>40.380000</td>\n",
       "      <td>40.55</td>\n",
       "      <td>68.39</td>\n",
       "      <td>-2.485744</td>\n",
       "      <td>250.0</td>\n",
       "      <td>1.0</td>\n",
       "      <td>1945.0</td>\n",
       "      <td>1</td>\n",
       "      <td>0</td>\n",
       "      <td>1.0</td>\n",
       "      <td>0.0</td>\n",
       "      <td>76.0</td>\n",
       "      <td>1</td>\n",
       "    </tr>\n",
       "    <tr>\n",
       "      <th>...</th>\n",
       "      <td>...</td>\n",
       "      <td>...</td>\n",
       "      <td>...</td>\n",
       "      <td>...</td>\n",
       "      <td>...</td>\n",
       "      <td>...</td>\n",
       "      <td>...</td>\n",
       "      <td>...</td>\n",
       "      <td>...</td>\n",
       "      <td>...</td>\n",
       "      <td>...</td>\n",
       "      <td>...</td>\n",
       "      <td>...</td>\n",
       "    </tr>\n",
       "    <tr>\n",
       "      <th>5774</th>\n",
       "      <td>40.450000</td>\n",
       "      <td>40.20</td>\n",
       "      <td>48.25</td>\n",
       "      <td>5.181347</td>\n",
       "      <td>200.0</td>\n",
       "      <td>1.0</td>\n",
       "      <td>1968.0</td>\n",
       "      <td>1</td>\n",
       "      <td>0</td>\n",
       "      <td>0.0</td>\n",
       "      <td>0.0</td>\n",
       "      <td>53.0</td>\n",
       "      <td>0</td>\n",
       "    </tr>\n",
       "    <tr>\n",
       "      <th>22766</th>\n",
       "      <td>53.970000</td>\n",
       "      <td>50.47</td>\n",
       "      <td>112.80</td>\n",
       "      <td>31.028369</td>\n",
       "      <td>200.0</td>\n",
       "      <td>4.0</td>\n",
       "      <td>2017.0</td>\n",
       "      <td>1</td>\n",
       "      <td>0</td>\n",
       "      <td>0.0</td>\n",
       "      <td>0.0</td>\n",
       "      <td>4.0</td>\n",
       "      <td>0</td>\n",
       "    </tr>\n",
       "    <tr>\n",
       "      <th>17232</th>\n",
       "      <td>42.585832</td>\n",
       "      <td>42.86</td>\n",
       "      <td>9.58</td>\n",
       "      <td>-28.618802</td>\n",
       "      <td>350.0</td>\n",
       "      <td>1.0</td>\n",
       "      <td>1954.0</td>\n",
       "      <td>1</td>\n",
       "      <td>0</td>\n",
       "      <td>0.0</td>\n",
       "      <td>0.0</td>\n",
       "      <td>67.0</td>\n",
       "      <td>0</td>\n",
       "    </tr>\n",
       "    <tr>\n",
       "      <th>5014</th>\n",
       "      <td>14.657335</td>\n",
       "      <td>13.84</td>\n",
       "      <td>33.70</td>\n",
       "      <td>24.253264</td>\n",
       "      <td>250.0</td>\n",
       "      <td>1.0</td>\n",
       "      <td>1941.0</td>\n",
       "      <td>1</td>\n",
       "      <td>10</td>\n",
       "      <td>0.0</td>\n",
       "      <td>0.0</td>\n",
       "      <td>80.0</td>\n",
       "      <td>0</td>\n",
       "    </tr>\n",
       "    <tr>\n",
       "      <th>9708</th>\n",
       "      <td>46.390000</td>\n",
       "      <td>43.97</td>\n",
       "      <td>59.59</td>\n",
       "      <td>40.610841</td>\n",
       "      <td>200.0</td>\n",
       "      <td>1.0</td>\n",
       "      <td>1984.0</td>\n",
       "      <td>1</td>\n",
       "      <td>0</td>\n",
       "      <td>0.0</td>\n",
       "      <td>0.0</td>\n",
       "      <td>37.0</td>\n",
       "      <td>0</td>\n",
       "    </tr>\n",
       "  </tbody>\n",
       "</table>\n",
       "<p>4153 rows × 13 columns</p>\n",
       "</div>"
      ],
      "text/plain": [
       "        fra_kote  til_kote  Laengde       Fald  DiameterIn  MaterialeK  \\\n",
       "36     34.720000     33.48    64.88  19.112207       300.0         1.0   \n",
       "42     39.460000     39.16    91.75   3.269755       400.0         1.0   \n",
       "43     39.710000     39.48    87.69   2.622876       300.0         1.0   \n",
       "64     40.550000     40.08    52.11   9.019382       250.0         1.0   \n",
       "65     40.380000     40.55    68.39  -2.485744       250.0         1.0   \n",
       "...          ...       ...      ...        ...         ...         ...   \n",
       "5774   40.450000     40.20    48.25   5.181347       200.0         1.0   \n",
       "22766  53.970000     50.47   112.80  31.028369       200.0         4.0   \n",
       "17232  42.585832     42.86     9.58 -28.618802       350.0         1.0   \n",
       "5014   14.657335     13.84    33.70  24.253264       250.0         1.0   \n",
       "9708   46.390000     43.97    59.59  40.610841       200.0         1.0   \n",
       "\n",
       "       anlag_aar  TransportK  Funktionsk  TVObsKode  DatoSaneri   Age  \\\n",
       "36        1939.0           1           0        0.0      1997.0  24.0   \n",
       "42        1939.0           1           0        1.0         0.0  82.0   \n",
       "43        1939.0           1           0        1.0         0.0  82.0   \n",
       "64        1945.0           1           0        1.0         0.0  76.0   \n",
       "65        1945.0           1           0        1.0         0.0  76.0   \n",
       "...          ...         ...         ...        ...         ...   ...   \n",
       "5774      1968.0           1           0        0.0         0.0  53.0   \n",
       "22766     2017.0           1           0        0.0         0.0   4.0   \n",
       "17232     1954.0           1           0        0.0         0.0  67.0   \n",
       "5014      1941.0           1          10        0.0         0.0  80.0   \n",
       "9708      1984.0           1           0        0.0         0.0  37.0   \n",
       "\n",
       "       PipeStatus  \n",
       "36              0  \n",
       "42              1  \n",
       "43              1  \n",
       "64              1  \n",
       "65              1  \n",
       "...           ...  \n",
       "5774            0  \n",
       "22766           0  \n",
       "17232           0  \n",
       "5014            0  \n",
       "9708            0  \n",
       "\n",
       "[4153 rows x 13 columns]"
      ]
     },
     "execution_count": 170,
     "metadata": {},
     "output_type": "execute_result"
    }
   ],
   "source": [
    "#drop columns not needed after adding new features\n",
    "\n",
    "columns_to_be_removed = ['DatoOprett', 'DatoOpdate']\n",
    "datacopy=datacopy.drop(columns_to_be_removed,axis='columns')\n",
    "datacopy[0:-1]"
   ]
  },
  {
   "cell_type": "code",
   "execution_count": 171,
   "metadata": {},
   "outputs": [],
   "source": [
    "# creating features set and target\n",
    "\n",
    "columns_to_be_removed = ['Age']\n",
    "data_features= datacopy.drop(columns_to_be_removed,axis='columns')\n",
    "columns_to_be_removed = ['fra_kote','til_kote', 'Laengde','Fald','DiameterIn','MaterialeK','anlag_aar','TransportK',\n",
    "                         'Funktionsk','TVObsKode','DatoSaneri','PipeStatus']\n",
    "data_target=datacopy.drop(columns_to_be_removed,axis='columns')"
   ]
  },
  {
   "cell_type": "code",
   "execution_count": 172,
   "metadata": {},
   "outputs": [
    {
     "name": "stdout",
     "output_type": "stream",
     "text": [
      "Number of rows before removing NaNs: 4154\n",
      "Number of rows after removing NaNs: 4154\n"
     ]
    }
   ],
   "source": [
    "# data_fs= np.where(np.isnan(data_features))\n",
    "# data_fs\n",
    "print(\"Number of rows before removing NaNs: {}\".format(data.shape[0]))\n",
    "data = data.dropna()\n",
    "print(\"Number of rows after removing NaNs: {}\".format(data.shape[0]))"
   ]
  },
  {
   "cell_type": "markdown",
   "metadata": {},
   "source": [
    "# Tuning Alpha for Ridge Model with Train-Test split and Normalization:"
   ]
  },
  {
   "cell_type": "code",
   "execution_count": 173,
   "metadata": {},
   "outputs": [],
   "source": [
    "# Divide the data into training and test\n",
    "X_train, X_test, y_train, y_test = train_test_split(data_features, data_target, random_state=42)"
   ]
  },
  {
   "cell_type": "code",
   "execution_count": 174,
   "metadata": {},
   "outputs": [
    {
     "name": "stdout",
     "output_type": "stream",
     "text": [
      "Best alpha value found: 0.0029836472402833404\n"
     ]
    }
   ],
   "source": [
    "alphas = 10**np.linspace(-10, 10, 100)\n",
    "\n",
    " # Learn the model with a certain numnber of alphas\n",
    "ridgecv = RidgeCV(alphas = alphas,scoring = 'neg_mean_squared_error', normalize = True)\n",
    "ridgecv.fit(X_train, y_train)\n",
    "print(\"Best alpha value found: {}\".format(ridgecv.alpha_))"
   ]
  },
  {
   "cell_type": "code",
   "execution_count": 175,
   "metadata": {},
   "outputs": [
    {
     "data": {
      "text/plain": [
       "fra_kote      -0.031802\n",
       "til_kote       0.041262\n",
       "Laengde        0.009434\n",
       "Fald          -0.001925\n",
       "DiameterIn    -0.001917\n",
       "MaterialeK     0.029729\n",
       "anlag_aar     -0.733248\n",
       "TransportK     0.000000\n",
       "Funktionsk     0.083590\n",
       "TVObsKode     -9.780700\n",
       "DatoSaneri    -0.020509\n",
       "PipeStatus    13.332544\n",
       "dtype: float64"
      ]
     },
     "execution_count": 175,
     "metadata": {},
     "output_type": "execute_result"
    }
   ],
   "source": [
    "# coefficients associated with the chosen alpha\n",
    "ridgecvcoef_ = list(ridgecv.coef_[0])\n",
    "pd.Series(ridgecvcoef_ , index = data_features.columns)"
   ]
  },
  {
   "cell_type": "code",
   "execution_count": 176,
   "metadata": {},
   "outputs": [
    {
     "name": "stdout",
     "output_type": "stream",
     "text": [
      "The MSE associated with alpha value: 90.81109946812451\n"
     ]
    }
   ],
   "source": [
    "# to chech model performance\n",
    "ridge = Ridge(alpha = ridgecv.alpha_, normalize = True)\n",
    "ridge.fit(X_train, y_train)\n",
    "mse = mean_squared_error(y_test, ridge.predict(X_test))\n",
    "print(\"The MSE associated with alpha value: {}\".format(mse))"
   ]
  },
  {
   "cell_type": "markdown",
   "metadata": {},
   "source": [
    "The $R^2$ corresponding to this value for alpha are:"
   ]
  },
  {
   "cell_type": "code",
   "execution_count": 177,
   "metadata": {},
   "outputs": [
    {
     "name": "stdout",
     "output_type": "stream",
     "text": [
      "R^2 on train data is 0.8311104945001093 and on test data is 0.8309885299916433\n"
     ]
    }
   ],
   "source": [
    "# R^2 of the associated alpha\n",
    "print(\"R^2 on train data is {} and on test data is {}\".format(ridge.score(X_train, y_train), \n",
    "                                                              ridge.score(X_test,y_test)))"
   ]
  },
  {
   "cell_type": "markdown",
   "metadata": {},
   "source": [
    "# Tuning Alpha for Ridge Model with validation set split and Normalization:"
   ]
  },
  {
   "cell_type": "code",
   "execution_count": 178,
   "metadata": {},
   "outputs": [],
   "source": [
    "# Divide the data into training, test and validation\n",
    "\n",
    "X_trainval, X_test, y_trainval, y_test = train_test_split(data_features, data_target, random_state=42)\n",
    "X_train, X_val, y_train, y_val = train_test_split(X_trainval, y_trainval, random_state=43)"
   ]
  },
  {
   "cell_type": "code",
   "execution_count": 179,
   "metadata": {},
   "outputs": [
    {
     "name": "stdout",
     "output_type": "stream",
     "text": [
      "Best alpha found: 1e-10\n",
      "Best MSE on validation set: 90.20294173286142\n",
      "MSE on training/validation set: 90.45293210769432\n",
      "MSE on test set: 91.032849028116\n"
     ]
    }
   ],
   "source": [
    "best_score = 100\n",
    "for alphas in 10**np.linspace(-10, 10, 100):\n",
    "    # Learn the model with a certain numnber of alphas\n",
    "    ridge1 = Ridge(normalize=True, alpha=alphas)\n",
    "    ridge1.fit(X_train, y_train)\n",
    "    \n",
    "    # Evaluate the model\n",
    "    score = mean_squared_error(y_val, ridge1.predict(X_val))\n",
    "    \n",
    "    \n",
    "    # If improvement, store score and parameter\n",
    "    if score < best_score:\n",
    "        best_score = score\n",
    "        best_alphas = alphas\n",
    "\n",
    "# Build a model on the combine training and valiation data\n",
    "ridge1 = Ridge(normalize=True, alpha = best_alphas)\n",
    "ridge1.fit(X_trainval, y_trainval)\n",
    "\n",
    "print(\"Best alpha found: {}\".format(best_alphas))\n",
    "print(\"Best MSE on validation set: {}\".format(best_score))\n",
    "print(\"MSE on training/validation set: {}\".format(mean_squared_error(y_trainval, ridge1.predict(X_trainval))))\n",
    "print(\"MSE on test set: {}\".format(mean_squared_error(y_test, ridge1.predict(X_test))))"
   ]
  },
  {
   "cell_type": "code",
   "execution_count": 180,
   "metadata": {},
   "outputs": [
    {
     "name": "stdout",
     "output_type": "stream",
     "text": [
      "The MSE associated with alpha value: 90.07184896703374\n"
     ]
    }
   ],
   "source": [
    "# to chech model performance\n",
    "ridge = Ridge(alpha = best_alphas, normalize = True)\n",
    "ridge.fit(X_train, y_train)\n",
    "mse = mean_squared_error(y_test, ridge.predict(X_test))\n",
    "print(\"The MSE associated with alpha value: {}\".format(mse))"
   ]
  },
  {
   "cell_type": "code",
   "execution_count": 181,
   "metadata": {},
   "outputs": [
    {
     "data": {
      "text/plain": [
       "fra_kote       0.007794\n",
       "til_kote       0.000412\n",
       "Laengde        0.005767\n",
       "Fald          -0.005658\n",
       "DiameterIn    -0.002578\n",
       "MaterialeK     0.066843\n",
       "anlag_aar     -0.733219\n",
       "TransportK     0.000000\n",
       "Funktionsk     0.149071\n",
       "TVObsKode     -9.490808\n",
       "DatoSaneri    -0.020660\n",
       "PipeStatus    13.084698\n",
       "dtype: float64"
      ]
     },
     "execution_count": 181,
     "metadata": {},
     "output_type": "execute_result"
    }
   ],
   "source": [
    "# coefficients associated with the chosen alpha\n",
    "ridge1coef_ = list(ridge.coef_[0])\n",
    "pd.Series(ridge1coef_ , index = data_features.columns)"
   ]
  },
  {
   "cell_type": "code",
   "execution_count": 182,
   "metadata": {},
   "outputs": [
    {
     "name": "stdout",
     "output_type": "stream",
     "text": [
      "R^2 on train data is 0.8317274925326696 and on test data is 0.8323643729736745\n"
     ]
    }
   ],
   "source": [
    "# R^2 of the associated alpha\n",
    "print(\"R^2 on train data is {} and on test data is {}\".format(ridge.score(X_train, y_train), \n",
    "                                                              ridge.score(X_test,y_test)))"
   ]
  },
  {
   "cell_type": "markdown",
   "metadata": {},
   "source": [
    "# Tuning Alpha for Ridge Model with cross validation split and Normalization:"
   ]
  },
  {
   "cell_type": "code",
   "execution_count": 183,
   "metadata": {},
   "outputs": [],
   "source": [
    "# Divide the data into training, test and validation\n",
    "\n",
    "X_trainval, X_test, y_trainval, y_test = train_test_split(data_features, data_target, random_state=42)"
   ]
  },
  {
   "cell_type": "code",
   "execution_count": 184,
   "metadata": {},
   "outputs": [
    {
     "name": "stdout",
     "output_type": "stream",
     "text": [
      "Best alpha found: 0.001873817422860383\n",
      "Best MSE on validation set: 0.8281934660273226\n",
      "MSE on training/validation set: 90.46194072652236\n",
      "MSE on test set: 90.86201245276217\n"
     ]
    }
   ],
   "source": [
    "best_score = 0\n",
    "for alphas in 10**np.linspace(-10, 10, 100):\n",
    "    # Set a certain number of alphas\n",
    "    ridge1 = Ridge(normalize=True, alpha=alphas)\n",
    "    \n",
    "    # Perform cross validation\n",
    "    scores = cross_val_score(ridge1, X_trainval, y_trainval, cv=5)\n",
    "    \n",
    "    # Compute the mean score\n",
    "    score = scores.mean()\n",
    "    \n",
    "    # If improvement, store score and parameter\n",
    "    if score > best_score:\n",
    "        best_score = score\n",
    "        best_alphas = alphas\n",
    "\n",
    "# Build a model on the combine training and valiation data\n",
    "ridge1 = Ridge(normalize=True, alpha = best_alphas)\n",
    "ridge1.fit(X_trainval, y_trainval)\n",
    "\n",
    "print(\"Best alpha found: {}\".format(best_alphas))\n",
    "print(\"Best MSE on validation set: {}\".format(best_score))\n",
    "print(\"MSE on training/validation set: {}\".format(mean_squared_error(y_trainval, ridge1.predict(X_trainval))))\n",
    "print(\"MSE on test set: {}\".format(mean_squared_error(y_test, ridge1.predict(X_test))))"
   ]
  },
  {
   "cell_type": "code",
   "execution_count": 185,
   "metadata": {},
   "outputs": [
    {
     "name": "stdout",
     "output_type": "stream",
     "text": [
      "The MSE associated with alpha value: 90.01881888041491\n"
     ]
    }
   ],
   "source": [
    "# to chech model performance\n",
    "ridge = Ridge(alpha = best_alphas, normalize = True)\n",
    "ridge.fit(X_train, y_train)\n",
    "mse = mean_squared_error(y_test, ridge.predict(X_test))\n",
    "print(\"The MSE associated with alpha value: {}\".format(mse))"
   ]
  },
  {
   "cell_type": "code",
   "execution_count": 186,
   "metadata": {},
   "outputs": [
    {
     "data": {
      "text/plain": [
       "fra_kote       0.006675\n",
       "til_kote       0.001198\n",
       "Laengde        0.005575\n",
       "Fald          -0.005694\n",
       "DiameterIn    -0.002555\n",
       "MaterialeK     0.064600\n",
       "anlag_aar     -0.730847\n",
       "TransportK     0.000000\n",
       "Funktionsk     0.147610\n",
       "TVObsKode     -8.734977\n",
       "DatoSaneri    -0.020612\n",
       "PipeStatus    12.361030\n",
       "dtype: float64"
      ]
     },
     "execution_count": 186,
     "metadata": {},
     "output_type": "execute_result"
    }
   ],
   "source": [
    "# coefficients associated with the chosen alpha\n",
    "ridge1coef_ = list(ridge.coef_[0])\n",
    "pd.Series(ridge1coef_ , index = data_features.columns)"
   ]
  },
  {
   "cell_type": "code",
   "execution_count": 187,
   "metadata": {},
   "outputs": [
    {
     "name": "stdout",
     "output_type": "stream",
     "text": [
      "R^2 on train data is 0.8317126429455503 and on test data is 0.832463068980513\n"
     ]
    }
   ],
   "source": [
    "# R^2 of the associated alpha\n",
    "print(\"R^2 on train data is {} and on test data is {}\".format(ridge.score(X_train, y_train), \n",
    "                                                              ridge.score(X_test,y_test)))"
   ]
  },
  {
   "cell_type": "markdown",
   "metadata": {},
   "source": [
    "# Tuning Alpha for Ridge Model with Train-Test split and Standardization:"
   ]
  },
  {
   "cell_type": "code",
   "execution_count": 188,
   "metadata": {},
   "outputs": [],
   "source": [
    "# Divide the data into training and test\n",
    "X_train, X_test, y_train, y_test = train_test_split(data_features, data_target, random_state=42)\n",
    "\n",
    "# preprocessing using 0-1 scaling\n",
    "scaler = StandardScaler()\n",
    "scaler.fit(X_train)\n",
    "X_train_scaled = scaler.transform(X_train)\n",
    "X_test_scaled = scaler.transform(X_test)"
   ]
  },
  {
   "cell_type": "code",
   "execution_count": 189,
   "metadata": {},
   "outputs": [
    {
     "name": "stdout",
     "output_type": "stream",
     "text": [
      "Best alpha value found: 8.111308307896856\n"
     ]
    }
   ],
   "source": [
    "alphas = 10**np.linspace(-10, 10, 100)\n",
    "\n",
    " # Learn the model with a certain numnber of alphas\n",
    "ridgecv = RidgeCV(alphas = alphas,scoring = 'neg_mean_squared_error')\n",
    "ridgecv.fit(X_train_scaled, y_train)\n",
    "print(\"Best alpha value found: {}\".format(ridgecv.alpha_))"
   ]
  },
  {
   "cell_type": "code",
   "execution_count": 190,
   "metadata": {},
   "outputs": [
    {
     "data": {
      "text/plain": [
       "fra_kote      -0.525289\n",
       "til_kote       0.670481\n",
       "Laengde        0.274561\n",
       "Fald          -0.122947\n",
       "DiameterIn    -0.399411\n",
       "MaterialeK     0.164067\n",
       "anlag_aar    -14.947931\n",
       "TransportK     0.000000\n",
       "Funktionsk     0.126777\n",
       "TVObsKode     -4.163546\n",
       "DatoSaneri   -18.777027\n",
       "PipeStatus     5.551277\n",
       "dtype: float64"
      ]
     },
     "execution_count": 190,
     "metadata": {},
     "output_type": "execute_result"
    }
   ],
   "source": [
    "# ridge.fit(data_features, data_target)\n",
    "ridgecvcoef_ = list(ridgecv.coef_[0])\n",
    "pd.Series(ridgecvcoef_ , index = data_features.columns)"
   ]
  },
  {
   "cell_type": "code",
   "execution_count": 191,
   "metadata": {},
   "outputs": [
    {
     "name": "stdout",
     "output_type": "stream",
     "text": [
      "The MSE associated with alpha value: 90.82620493926125\n"
     ]
    }
   ],
   "source": [
    "# to chech model performance\n",
    "ridge = Ridge(alpha = ridgecv.alpha_)\n",
    "ridge.fit(X_train_scaled, y_train)\n",
    "mse = mean_squared_error(y_test, ridge.predict(X_test_scaled))\n",
    "print(\"The MSE associated with alpha value: {}\".format(mse))"
   ]
  },
  {
   "cell_type": "code",
   "execution_count": 192,
   "metadata": {},
   "outputs": [
    {
     "name": "stdout",
     "output_type": "stream",
     "text": [
      "R^2 on train data is 0.831119159808779 and on test data is 0.8309604167114721\n"
     ]
    }
   ],
   "source": [
    "print(\"R^2 on train data is {} and on test data is {}\".format(ridge.score(X_train_scaled, y_train), \n",
    "                                                              ridge.score(X_test_scaled,y_test)))"
   ]
  },
  {
   "cell_type": "markdown",
   "metadata": {},
   "source": [
    "# Tuning Alpha for Ridge Model with validation set split and Standardization:"
   ]
  },
  {
   "cell_type": "code",
   "execution_count": 193,
   "metadata": {},
   "outputs": [],
   "source": [
    "# Divide the data into training, test and validation\n",
    "\n",
    "X_trainval, X_test, y_trainval, y_test = train_test_split(data_features, data_target, random_state=42)\n",
    "X_train, X_val, y_train, y_val = train_test_split(X_trainval, y_trainval, random_state=43)\n",
    "\n",
    "# preprocessing using zero mean and unit variance scaling\n",
    "scaler = StandardScaler()\n",
    "scaler.fit(X_train)\n",
    "\n",
    "X_train_scaled = scaler.transform(X_train)\n",
    "X_test_scaled = scaler.transform(X_test)\n",
    "X_val_scaled = scaler.transform(X_val)\n",
    "X_trainval_scaled = scaler.transform( X_trainval)\n"
   ]
  },
  {
   "cell_type": "code",
   "execution_count": 194,
   "metadata": {},
   "outputs": [
    {
     "name": "stdout",
     "output_type": "stream",
     "text": [
      "Best alpha found: 1e-10\n",
      "Best MSE on validation set: 90.20294172808507\n",
      "MSE on training/validation set: 90.45293210769435\n",
      "MSE on test set: 91.03284904318174\n"
     ]
    }
   ],
   "source": [
    "best_score = 100\n",
    "for alphas in 10**np.linspace(-10, 10, 100):\n",
    "    # Learn the model with a certain numnber of alphas\n",
    "    ridge1 = Ridge( alpha=alphas)\n",
    "    ridge1.fit(X_train_scaled, y_train)\n",
    "    \n",
    "    # Evaluate the model\n",
    "    score = mean_squared_error(y_val, ridge1.predict(X_val_scaled))\n",
    "    \n",
    "    \n",
    "    # If improvement, store score and parameter\n",
    "    if score < best_score:\n",
    "        best_score = score\n",
    "        best_alphas = alphas\n",
    "\n",
    "# Build a model on the combine training and valiation data\n",
    "ridge1 = Ridge(alpha = best_alphas)\n",
    "ridge1.fit(X_trainval_scaled, y_trainval)\n",
    "\n",
    "print(\"Best alpha found: {}\".format(best_alphas))\n",
    "print(\"Best MSE on validation set: {}\".format(best_score))\n",
    "print(\"MSE on training/validation set: {}\".format(mean_squared_error(y_trainval, ridge1.predict(X_trainval_scaled))))\n",
    "print(\"MSE on test set: {}\".format(mean_squared_error(y_test, ridge1.predict(X_test_scaled))))"
   ]
  },
  {
   "cell_type": "code",
   "execution_count": 195,
   "metadata": {},
   "outputs": [
    {
     "name": "stdout",
     "output_type": "stream",
     "text": [
      "The MSE associated with alpha value: 90.0718489708226\n"
     ]
    }
   ],
   "source": [
    "# to chech model performance\n",
    "ridge = Ridge(alpha = best_alphas)\n",
    "ridge.fit(X_train_scaled, y_train)\n",
    "mse = mean_squared_error(y_test, ridge.predict(X_test_scaled))\n",
    "print(\"The MSE associated with alpha value: {}\".format(mse))"
   ]
  },
  {
   "cell_type": "code",
   "execution_count": 196,
   "metadata": {},
   "outputs": [
    {
     "data": {
      "text/plain": [
       "fra_kote       0.118811\n",
       "til_kote       0.006262\n",
       "Laengde        0.160950\n",
       "Fald          -0.299858\n",
       "DiameterIn    -0.529410\n",
       "MaterialeK     0.349170\n",
       "anlag_aar    -14.907892\n",
       "TransportK     0.000000\n",
       "Funktionsk     0.226772\n",
       "TVObsKode     -4.003697\n",
       "DatoSaneri   -18.888154\n",
       "PipeStatus     5.443152\n",
       "dtype: float64"
      ]
     },
     "execution_count": 196,
     "metadata": {},
     "output_type": "execute_result"
    }
   ],
   "source": [
    "# coefficients associated with the chosen alpha\n",
    "ridge1coef_ = list(ridge.coef_[0])\n",
    "pd.Series(ridge1coef_ , index = data_features.columns)"
   ]
  },
  {
   "cell_type": "code",
   "execution_count": 197,
   "metadata": {},
   "outputs": [
    {
     "name": "stdout",
     "output_type": "stream",
     "text": [
      "R^2 on train data is 0.8317274925326696 and on test data is 0.832364372966623\n"
     ]
    }
   ],
   "source": [
    "# R^2 of the associated alpha\n",
    "print(\"R^2 on train data is {} and on test data is {}\".format(ridge.score(X_train_scaled, y_train), \n",
    "                                                              ridge.score(X_test_scaled,y_test)))"
   ]
  },
  {
   "cell_type": "markdown",
   "metadata": {},
   "source": [
    "# Tuning Alpha for Ridge Model with cross validation split and Standardization:"
   ]
  },
  {
   "cell_type": "code",
   "execution_count": 198,
   "metadata": {},
   "outputs": [],
   "source": [
    "# Divide the data into training, test and validation\n",
    "\n",
    "X_trainval, X_test, y_trainval, y_test = train_test_split(data_features, data_target, random_state=42)\n",
    "\n",
    "# preprocessing using 0-1 scaling\n",
    "scaler = StandardScaler()\n",
    "scaler.fit(X_train)\n",
    "\n",
    "X_test_scaled = scaler.transform(X_test)\n",
    "X_trainval_scaled = scaler.transform( X_trainval)"
   ]
  },
  {
   "cell_type": "code",
   "execution_count": 199,
   "metadata": {},
   "outputs": [
    {
     "name": "stdout",
     "output_type": "stream",
     "text": [
      "Best alpha found: 5.0941380148163855\n",
      "Best MSE on validation set: 0.8281950231278632\n",
      "MSE on training/validation set: 90.45999116870405\n",
      "MSE on test set: 90.87556801649636\n"
     ]
    }
   ],
   "source": [
    "best_score = 0\n",
    "for alphas in 10**np.linspace(-10, 10, 100):\n",
    "    # Set a certain number of alphas\n",
    "    ridge1 = Ridge( alpha=alphas)\n",
    "    \n",
    "    # Perform cross validation\n",
    "    scores = cross_val_score(ridge1, X_trainval_scaled, y_trainval, cv=5)\n",
    "    \n",
    "    # Compute the mean score\n",
    "    score = scores.mean()\n",
    "    \n",
    "    # If improvement, store score and parameter\n",
    "    if score > best_score:\n",
    "        best_score = score\n",
    "        best_alphas = alphas\n",
    "\n",
    "# Build a model on the combine training and valiation data\n",
    "ridge1 = Ridge(alpha = best_alphas)\n",
    "ridge1.fit(X_trainval_scaled, y_trainval)\n",
    "\n",
    "print(\"Best alpha found: {}\".format(best_alphas))\n",
    "print(\"Best MSE on validation set: {}\".format(best_score))\n",
    "print(\"MSE on training/validation set: {}\".format(mean_squared_error(y_trainval, ridge1.predict(X_trainval_scaled))))\n",
    "print(\"MSE on test set: {}\".format(mean_squared_error(y_test, ridge1.predict(X_test_scaled))))"
   ]
  },
  {
   "cell_type": "code",
   "execution_count": 200,
   "metadata": {},
   "outputs": [
    {
     "name": "stdout",
     "output_type": "stream",
     "text": [
      "The MSE associated with alpha value: 90.87556801649636\n"
     ]
    }
   ],
   "source": [
    "# to chech model performance\n",
    "ridge = Ridge(alpha = best_alphas)\n",
    "ridge.fit(X_trainval_scaled,y_trainval)\n",
    "mse = mean_squared_error(y_test, ridge.predict(X_test_scaled))\n",
    "print(\"The MSE associated with alpha value: {}\".format(mse))"
   ]
  },
  {
   "cell_type": "code",
   "execution_count": 201,
   "metadata": {},
   "outputs": [
    {
     "data": {
      "text/plain": [
       "fra_kote      -0.649360\n",
       "til_kote       0.795608\n",
       "Laengde        0.271483\n",
       "Fald          -0.089904\n",
       "DiameterIn    -0.398850\n",
       "MaterialeK     0.162579\n",
       "anlag_aar    -14.944761\n",
       "TransportK     0.000000\n",
       "Funktionsk     0.128824\n",
       "TVObsKode     -4.307857\n",
       "DatoSaneri   -18.782510\n",
       "PipeStatus     5.715191\n",
       "dtype: float64"
      ]
     },
     "execution_count": 201,
     "metadata": {},
     "output_type": "execute_result"
    }
   ],
   "source": [
    "# coefficients associated with the chosen alpha\n",
    "ridge1coef_ = list(ridge.coef_[0])\n",
    "pd.Series(ridge1coef_ , index = data_features.columns)"
   ]
  },
  {
   "cell_type": "code",
   "execution_count": 202,
   "metadata": {},
   "outputs": [
    {
     "name": "stdout",
     "output_type": "stream",
     "text": [
      "R^2 on train/validation data is 0.8311367549141078 and on test data is 0.8308685454942255\n"
     ]
    }
   ],
   "source": [
    "# R^2 of the associated alpha\n",
    "print(\"R^2 on train/validation data is {} and on test data is {}\".format(ridge.score(X_trainval_scaled,y_trainval), \n",
    "                                                              ridge.score(X_test_scaled,y_test)))"
   ]
  },
  {
   "cell_type": "code",
   "execution_count": null,
   "metadata": {},
   "outputs": [],
   "source": []
  }
 ],
 "metadata": {
  "kernelspec": {
   "display_name": "Python 3",
   "language": "python",
   "name": "python3"
  },
  "language_info": {
   "codemirror_mode": {
    "name": "ipython",
    "version": 3
   },
   "file_extension": ".py",
   "mimetype": "text/x-python",
   "name": "python",
   "nbconvert_exporter": "python",
   "pygments_lexer": "ipython3",
   "version": "3.8.5"
  }
 },
 "nbformat": 4,
 "nbformat_minor": 4
}
