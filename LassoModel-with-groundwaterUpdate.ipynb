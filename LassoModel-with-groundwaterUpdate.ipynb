{
 "cells": [
  {
   "cell_type": "code",
   "execution_count": 1,
   "metadata": {},
   "outputs": [],
   "source": [
    "%matplotlib inline\n",
    "import numpy as np\n",
    "import pandas as pd\n",
    "import sklearn as sk\n",
    "import seaborn as sns\n",
    "import warnings; warnings.simplefilter('ignore')\n",
    "import matplotlib.pyplot as plt\n",
    "import mglearn\n",
    "from sklearn.model_selection import train_test_split\n",
    "from sklearn.model_selection import cross_val_score\n",
    "from sklearn.preprocessing import MinMaxScaler\n",
    "from sklearn.preprocessing import StandardScaler\n",
    "from sklearn.linear_model import LinearRegression, Ridge, RidgeCV, Lasso, LassoCV\n",
    "from sklearn.metrics import mean_squared_error"
   ]
  },
  {
   "cell_type": "markdown",
   "metadata": {},
   "source": [
    "# Data Preparation and Feature Engineering:"
   ]
  },
  {
   "cell_type": "code",
   "execution_count": 2,
   "metadata": {},
   "outputs": [],
   "source": [
    "def read_xyz(fileName):\n",
    "    \n",
    "    xyz_coordinates = [] #put xyz in an array\n",
    "    \n",
    "    with open(fileName,\"r\") as file:\n",
    "        for line_number,line in enumerate(file):\n",
    "            x,y,z = line.split()\n",
    "            \n",
    "            xyz_coordinates.append([int(x),int(y),float(z)])\n",
    "    return xyz_coordinates"
   ]
  },
  {
   "cell_type": "code",
   "execution_count": 3,
   "metadata": {},
   "outputs": [],
   "source": [
    "groundwater_map = read_xyz(\"GRW_MBS_50m.xyz\")"
   ]
  },
  {
   "cell_type": "code",
   "execution_count": 4,
   "metadata": {},
   "outputs": [],
   "source": [
    "#display in dataframe \n",
    "#add cplumns of name\n",
    "my_array = np.array(groundwater_map)\n",
    "\n",
    "df = pd.DataFrame(my_array, columns = ['XKoordinat','YKoordinat','Depth'])\n",
    "\n"
   ]
  },
  {
   "cell_type": "markdown",
   "metadata": {},
   "source": [
    "Now we have a table with x,y coordinates and depths. Next step is to copmare with csv file coordinates and get a column to state the ground water level."
   ]
  },
  {
   "cell_type": "code",
   "execution_count": null,
   "metadata": {},
   "outputs": [],
   "source": []
  },
  {
   "cell_type": "code",
   "execution_count": 5,
   "metadata": {},
   "outputs": [],
   "source": [
    "data = pd.read_csv(\"Energi_Viborg_Dandas_data.csv\")\n",
    "\n",
    "#drop columns not needed after asking the company about the meaning of these features\n",
    "\n",
    "columns_to_be_removed = [ 'mslink','LedningID','Dobbeltled','EjerKompon','SystemKode','KategoriAf','DatoUdf']\n",
    "data=data.drop(columns_to_be_removed,axis='columns')\n",
    "\n",
    "# in the column DatoSaneri is the date of repairing and if there is no date it means it is not repaired\n",
    "\n",
    "data['DatoSaneri'].fillna(0, inplace=True)"
   ]
  },
  {
   "cell_type": "code",
   "execution_count": 6,
   "metadata": {},
   "outputs": [],
   "source": [
    "# take only the pipes that are broken(by TV insection) now and the repaired ones\n",
    "\n",
    "data_with_TVObsAndSaneri = data[data['TVObsKode'].isin([1]) | data['DatoSaneri'] > 0]"
   ]
  },
  {
   "cell_type": "markdown",
   "metadata": {},
   "source": [
    "get matched depth withground water of broken pipes"
   ]
  },
  {
   "cell_type": "code",
   "execution_count": 7,
   "metadata": {},
   "outputs": [],
   "source": [
    "def get_matched_depth(select_x,select_y):\n",
    "#     select_x = data['XKoordinat']\n",
    "#     select_y = data['YKoordinat']\n",
    "    #select_y = data.loc[data['XKoordinat'] == select_x]['YKoordinat'].values[0]\n",
    "    length = data_with_TVObsAndSaneri.loc[data_with_TVObsAndSaneri['XKoordinat'] == select_x]['Laengde'].values[0]\n",
    "    angle = data_with_TVObsAndSaneri.loc[data_with_TVObsAndSaneri['XKoordinat'] == select_x]['Fald'].values[0]\n",
    "#     length=data['Laengde']\n",
    "#     angle = data['Fald']\n",
    "    #calculate another point by length:\n",
    "    end_x = select_x+ (length * np.cos(angle))\n",
    "    end_y = select_y+ (length * np.sin(angle))\n",
    "    if(end_x > select_x):\n",
    "        max_x=end_x\n",
    "        min_x=select_x\n",
    "    else:\n",
    "        min_x=end_x\n",
    "        max_x=select_x   \n",
    "    if(end_y > select_y):\n",
    "        max_y=end_y\n",
    "        min_y=select_y\n",
    "    else:\n",
    "        min_y=end_y\n",
    "        max_y=select_y   \n",
    "\n",
    "\n",
    "    matched_depth_col = df.loc[(df['XKoordinat'] <= max_x)&(df['XKoordinat'] >= min_x)\n",
    "    &(df['YKoordinat'] <= max_y)&(df['YKoordinat'] >= min_y)]['Depth']\n",
    "    #test if there is a value\n",
    "    if(matched_depth_col.size > 0):\n",
    "        matched_depth = matched_depth_col.values[0]\n",
    "    else:\n",
    "        matched_depth = np.NaN\n",
    "    \n",
    "    return matched_depth"
   ]
  },
  {
   "cell_type": "code",
   "execution_count": 8,
   "metadata": {},
   "outputs": [
    {
     "data": {
      "text/html": [
       "<div>\n",
       "<style scoped>\n",
       "    .dataframe tbody tr th:only-of-type {\n",
       "        vertical-align: middle;\n",
       "    }\n",
       "\n",
       "    .dataframe tbody tr th {\n",
       "        vertical-align: top;\n",
       "    }\n",
       "\n",
       "    .dataframe thead th {\n",
       "        text-align: right;\n",
       "    }\n",
       "</style>\n",
       "<table border=\"1\" class=\"dataframe\">\n",
       "  <thead>\n",
       "    <tr style=\"text-align: right;\">\n",
       "      <th></th>\n",
       "      <th>ID</th>\n",
       "      <th>XKoordinat</th>\n",
       "      <th>YKoordinat</th>\n",
       "      <th>fra_kote</th>\n",
       "      <th>til_kote</th>\n",
       "      <th>Laengde</th>\n",
       "      <th>Fald</th>\n",
       "      <th>DiameterIn</th>\n",
       "      <th>MaterialeK</th>\n",
       "      <th>anlag_aar</th>\n",
       "      <th>TransportK</th>\n",
       "      <th>Funktionsk</th>\n",
       "      <th>TVObsKode</th>\n",
       "      <th>DatoOprett</th>\n",
       "      <th>DatoOpdate</th>\n",
       "      <th>DatoSaneri</th>\n",
       "      <th>Depth</th>\n",
       "    </tr>\n",
       "  </thead>\n",
       "  <tbody>\n",
       "    <tr>\n",
       "      <th>36</th>\n",
       "      <td>87810</td>\n",
       "      <td>529911.05</td>\n",
       "      <td>6252443.83</td>\n",
       "      <td>34.720000</td>\n",
       "      <td>33.480000</td>\n",
       "      <td>64.88</td>\n",
       "      <td>19.112207</td>\n",
       "      <td>300.0</td>\n",
       "      <td>1.0</td>\n",
       "      <td>1939.0</td>\n",
       "      <td>1</td>\n",
       "      <td>0</td>\n",
       "      <td>0.0</td>\n",
       "      <td>2010</td>\n",
       "      <td>2014</td>\n",
       "      <td>1997.0</td>\n",
       "      <td>NaN</td>\n",
       "    </tr>\n",
       "    <tr>\n",
       "      <th>42</th>\n",
       "      <td>87832</td>\n",
       "      <td>530405.37</td>\n",
       "      <td>6252578.04</td>\n",
       "      <td>39.460000</td>\n",
       "      <td>39.160000</td>\n",
       "      <td>91.75</td>\n",
       "      <td>3.269755</td>\n",
       "      <td>400.0</td>\n",
       "      <td>1.0</td>\n",
       "      <td>1939.0</td>\n",
       "      <td>1</td>\n",
       "      <td>0</td>\n",
       "      <td>1.0</td>\n",
       "      <td>2010</td>\n",
       "      <td>2014</td>\n",
       "      <td>0.0</td>\n",
       "      <td>2.314121</td>\n",
       "    </tr>\n",
       "    <tr>\n",
       "      <th>43</th>\n",
       "      <td>87834</td>\n",
       "      <td>530493.05</td>\n",
       "      <td>6252579.67</td>\n",
       "      <td>39.710000</td>\n",
       "      <td>39.480000</td>\n",
       "      <td>87.69</td>\n",
       "      <td>2.622876</td>\n",
       "      <td>300.0</td>\n",
       "      <td>1.0</td>\n",
       "      <td>1939.0</td>\n",
       "      <td>1</td>\n",
       "      <td>0</td>\n",
       "      <td>1.0</td>\n",
       "      <td>2010</td>\n",
       "      <td>2014</td>\n",
       "      <td>0.0</td>\n",
       "      <td>NaN</td>\n",
       "    </tr>\n",
       "    <tr>\n",
       "      <th>64</th>\n",
       "      <td>87901</td>\n",
       "      <td>530791.62</td>\n",
       "      <td>6252572.03</td>\n",
       "      <td>40.550000</td>\n",
       "      <td>40.080000</td>\n",
       "      <td>52.11</td>\n",
       "      <td>9.019382</td>\n",
       "      <td>250.0</td>\n",
       "      <td>1.0</td>\n",
       "      <td>1945.0</td>\n",
       "      <td>1</td>\n",
       "      <td>0</td>\n",
       "      <td>1.0</td>\n",
       "      <td>2010</td>\n",
       "      <td>2014</td>\n",
       "      <td>0.0</td>\n",
       "      <td>4.478954</td>\n",
       "    </tr>\n",
       "    <tr>\n",
       "      <th>65</th>\n",
       "      <td>87903</td>\n",
       "      <td>530857.05</td>\n",
       "      <td>6252552.13</td>\n",
       "      <td>40.380000</td>\n",
       "      <td>40.550000</td>\n",
       "      <td>68.39</td>\n",
       "      <td>-2.485744</td>\n",
       "      <td>250.0</td>\n",
       "      <td>1.0</td>\n",
       "      <td>1945.0</td>\n",
       "      <td>1</td>\n",
       "      <td>0</td>\n",
       "      <td>1.0</td>\n",
       "      <td>2010</td>\n",
       "      <td>2014</td>\n",
       "      <td>0.0</td>\n",
       "      <td>5.462685</td>\n",
       "    </tr>\n",
       "    <tr>\n",
       "      <th>...</th>\n",
       "      <td>...</td>\n",
       "      <td>...</td>\n",
       "      <td>...</td>\n",
       "      <td>...</td>\n",
       "      <td>...</td>\n",
       "      <td>...</td>\n",
       "      <td>...</td>\n",
       "      <td>...</td>\n",
       "      <td>...</td>\n",
       "      <td>...</td>\n",
       "      <td>...</td>\n",
       "      <td>...</td>\n",
       "      <td>...</td>\n",
       "      <td>...</td>\n",
       "      <td>...</td>\n",
       "      <td>...</td>\n",
       "      <td>...</td>\n",
       "    </tr>\n",
       "    <tr>\n",
       "      <th>23957</th>\n",
       "      <td>222195</td>\n",
       "      <td>500582.01</td>\n",
       "      <td>6260561.72</td>\n",
       "      <td>11.940000</td>\n",
       "      <td>10.550000</td>\n",
       "      <td>60.32</td>\n",
       "      <td>23.043767</td>\n",
       "      <td>350.0</td>\n",
       "      <td>1.0</td>\n",
       "      <td>1968.0</td>\n",
       "      <td>1</td>\n",
       "      <td>0</td>\n",
       "      <td>1.0</td>\n",
       "      <td>2018</td>\n",
       "      <td>2018</td>\n",
       "      <td>0.0</td>\n",
       "      <td>9.960063</td>\n",
       "    </tr>\n",
       "    <tr>\n",
       "      <th>24062</th>\n",
       "      <td>222448</td>\n",
       "      <td>544401.67</td>\n",
       "      <td>6256588.02</td>\n",
       "      <td>25.720000</td>\n",
       "      <td>22.820000</td>\n",
       "      <td>44.37</td>\n",
       "      <td>65.359477</td>\n",
       "      <td>160.0</td>\n",
       "      <td>4.0</td>\n",
       "      <td>2017.0</td>\n",
       "      <td>1</td>\n",
       "      <td>0</td>\n",
       "      <td>1.0</td>\n",
       "      <td>2018</td>\n",
       "      <td>2018</td>\n",
       "      <td>0.0</td>\n",
       "      <td>NaN</td>\n",
       "    </tr>\n",
       "    <tr>\n",
       "      <th>24073</th>\n",
       "      <td>222942</td>\n",
       "      <td>530696.61</td>\n",
       "      <td>6245426.58</td>\n",
       "      <td>28.490000</td>\n",
       "      <td>27.730000</td>\n",
       "      <td>84.29</td>\n",
       "      <td>9.016491</td>\n",
       "      <td>200.0</td>\n",
       "      <td>1.0</td>\n",
       "      <td>1995.0</td>\n",
       "      <td>1</td>\n",
       "      <td>0</td>\n",
       "      <td>1.0</td>\n",
       "      <td>2018</td>\n",
       "      <td>2018</td>\n",
       "      <td>0.0</td>\n",
       "      <td>NaN</td>\n",
       "    </tr>\n",
       "    <tr>\n",
       "      <th>24090</th>\n",
       "      <td>222967</td>\n",
       "      <td>530819.00</td>\n",
       "      <td>6245345.46</td>\n",
       "      <td>27.162706</td>\n",
       "      <td>27.902884</td>\n",
       "      <td>18.82</td>\n",
       "      <td>-39.329328</td>\n",
       "      <td>315.0</td>\n",
       "      <td>4.0</td>\n",
       "      <td>1965.0</td>\n",
       "      <td>1</td>\n",
       "      <td>0</td>\n",
       "      <td>1.0</td>\n",
       "      <td>2018</td>\n",
       "      <td>2018</td>\n",
       "      <td>0.0</td>\n",
       "      <td>NaN</td>\n",
       "    </tr>\n",
       "    <tr>\n",
       "      <th>24127</th>\n",
       "      <td>223151</td>\n",
       "      <td>519201.08</td>\n",
       "      <td>6263360.29</td>\n",
       "      <td>4.930000</td>\n",
       "      <td>3.180000</td>\n",
       "      <td>113.13</td>\n",
       "      <td>15.468930</td>\n",
       "      <td>191.0</td>\n",
       "      <td>4.0</td>\n",
       "      <td>1992.0</td>\n",
       "      <td>1</td>\n",
       "      <td>0</td>\n",
       "      <td>0.0</td>\n",
       "      <td>2018</td>\n",
       "      <td>2018</td>\n",
       "      <td>2018.0</td>\n",
       "      <td>5.238400</td>\n",
       "    </tr>\n",
       "  </tbody>\n",
       "</table>\n",
       "<p>2077 rows × 17 columns</p>\n",
       "</div>"
      ],
      "text/plain": [
       "           ID  XKoordinat  YKoordinat   fra_kote   til_kote  Laengde  \\\n",
       "36      87810   529911.05  6252443.83  34.720000  33.480000    64.88   \n",
       "42      87832   530405.37  6252578.04  39.460000  39.160000    91.75   \n",
       "43      87834   530493.05  6252579.67  39.710000  39.480000    87.69   \n",
       "64      87901   530791.62  6252572.03  40.550000  40.080000    52.11   \n",
       "65      87903   530857.05  6252552.13  40.380000  40.550000    68.39   \n",
       "...       ...         ...         ...        ...        ...      ...   \n",
       "23957  222195   500582.01  6260561.72  11.940000  10.550000    60.32   \n",
       "24062  222448   544401.67  6256588.02  25.720000  22.820000    44.37   \n",
       "24073  222942   530696.61  6245426.58  28.490000  27.730000    84.29   \n",
       "24090  222967   530819.00  6245345.46  27.162706  27.902884    18.82   \n",
       "24127  223151   519201.08  6263360.29   4.930000   3.180000   113.13   \n",
       "\n",
       "            Fald  DiameterIn  MaterialeK  anlag_aar  TransportK  Funktionsk  \\\n",
       "36     19.112207       300.0         1.0     1939.0           1           0   \n",
       "42      3.269755       400.0         1.0     1939.0           1           0   \n",
       "43      2.622876       300.0         1.0     1939.0           1           0   \n",
       "64      9.019382       250.0         1.0     1945.0           1           0   \n",
       "65     -2.485744       250.0         1.0     1945.0           1           0   \n",
       "...          ...         ...         ...        ...         ...         ...   \n",
       "23957  23.043767       350.0         1.0     1968.0           1           0   \n",
       "24062  65.359477       160.0         4.0     2017.0           1           0   \n",
       "24073   9.016491       200.0         1.0     1995.0           1           0   \n",
       "24090 -39.329328       315.0         4.0     1965.0           1           0   \n",
       "24127  15.468930       191.0         4.0     1992.0           1           0   \n",
       "\n",
       "       TVObsKode  DatoOprett  DatoOpdate  DatoSaneri     Depth  \n",
       "36           0.0        2010        2014      1997.0       NaN  \n",
       "42           1.0        2010        2014         0.0  2.314121  \n",
       "43           1.0        2010        2014         0.0       NaN  \n",
       "64           1.0        2010        2014         0.0  4.478954  \n",
       "65           1.0        2010        2014         0.0  5.462685  \n",
       "...          ...         ...         ...         ...       ...  \n",
       "23957        1.0        2018        2018         0.0  9.960063  \n",
       "24062        1.0        2018        2018         0.0       NaN  \n",
       "24073        1.0        2018        2018         0.0       NaN  \n",
       "24090        1.0        2018        2018         0.0       NaN  \n",
       "24127        0.0        2018        2018      2018.0  5.238400  \n",
       "\n",
       "[2077 rows x 17 columns]"
      ]
     },
     "execution_count": 8,
     "metadata": {},
     "output_type": "execute_result"
    }
   ],
   "source": [
    "def add_depth(datacopy):\n",
    "    select_x = datacopy['XKoordinat']\n",
    "    select_y = datacopy['YKoordinat']\n",
    "    return get_matched_depth(select_x,select_y)\n",
    "data_with_TVObsAndSaneri['Depth'] = data_with_TVObsAndSaneri.apply(add_depth,axis =1)\n",
    "data_with_TVObsAndSaneri    \n",
    "        "
   ]
  },
  {
   "cell_type": "code",
   "execution_count": 9,
   "metadata": {},
   "outputs": [],
   "source": [
    "data_with_TVObsAndSaneri_Groundwater = data_with_TVObsAndSaneri.dropna()\n"
   ]
  },
  {
   "cell_type": "markdown",
   "metadata": {},
   "source": [
    "handle unbroken pipe by adding groundwater depth and get around 619 rows randomly"
   ]
  },
  {
   "cell_type": "code",
   "execution_count": 10,
   "metadata": {},
   "outputs": [],
   "source": [
    "data_not_broken = data[~data['TVObsKode'].isin([0]) | data['DatoSaneri'] == 0]\n",
    "data_not_broken = data_not_broken.sample(n=4000) "
   ]
  },
  {
   "cell_type": "code",
   "execution_count": 11,
   "metadata": {},
   "outputs": [],
   "source": [
    "def get_matched_depth_unbroken(select_x,select_y):\n",
    "#     select_x = data['XKoordinat']\n",
    "#     select_y = data['YKoordinat']\n",
    "    #select_y = data.loc[data['XKoordinat'] == select_x]['YKoordinat'].values[0]\n",
    "    length = data_not_broken.loc[data_not_broken['XKoordinat'] == select_x]['Laengde'].values[0]\n",
    "    angle = data_not_broken.loc[data_not_broken['XKoordinat'] == select_x]['Fald'].values[0]\n",
    "#     length=data['Laengde']\n",
    "#     angle = data['Fald']\n",
    "    #calculate another point by length:\n",
    "    end_x = select_x+ (length * np.cos(angle))\n",
    "    end_y = select_y+ (length * np.sin(angle))\n",
    "    if(end_x > select_x):\n",
    "        max_x=end_x\n",
    "        min_x=select_x\n",
    "    else:\n",
    "        min_x=end_x\n",
    "        max_x=select_x   \n",
    "    if(end_y > select_y):\n",
    "        max_y=end_y\n",
    "        min_y=select_y\n",
    "    else:\n",
    "        min_y=end_y\n",
    "        max_y=select_y   \n",
    "\n",
    "\n",
    "    matched_depth_col = df.loc[(df['XKoordinat'] <= max_x)&(df['XKoordinat'] >= min_x)\n",
    "    &(df['YKoordinat'] <= max_y)&(df['YKoordinat'] >= min_y)]['Depth']\n",
    "    #test if there is a value\n",
    "    if(matched_depth_col.size > 0):\n",
    "        matched_depth = matched_depth_col.values[0]\n",
    "    else:\n",
    "        matched_depth = np.NaN\n",
    "    \n",
    "    return matched_depth"
   ]
  },
  {
   "cell_type": "code",
   "execution_count": 12,
   "metadata": {},
   "outputs": [],
   "source": [
    "def add_depth_unbroken(datacopy):\n",
    "    select_x = datacopy['XKoordinat']\n",
    "    select_y = datacopy['YKoordinat']\n",
    "    return get_matched_depth_unbroken(select_x,select_y)\n",
    "data_not_broken['Depth'] = data_not_broken.apply(add_depth_unbroken,axis =1)\n",
    "        "
   ]
  },
  {
   "cell_type": "code",
   "execution_count": 13,
   "metadata": {},
   "outputs": [],
   "source": [
    "data_not_broken_Groundwater = data_not_broken.dropna()\n",
    "data_not_broken_Groundwater =data_not_broken_Groundwater.sample(n=619)"
   ]
  },
  {
   "cell_type": "code",
   "execution_count": 14,
   "metadata": {},
   "outputs": [],
   "source": [
    "frames = [data_not_broken_Groundwater,data_with_TVObsAndSaneri_Groundwater]\n",
    "data = pd.concat(frames)"
   ]
  },
  {
   "cell_type": "code",
   "execution_count": 15,
   "metadata": {},
   "outputs": [],
   "source": [
    "datacopy = data\n",
    "\n",
    "\n",
    "# add  age column\n",
    "\n",
    "#get current year\n",
    "from datetime import date\n",
    "now = date.today().year\n",
    "\n",
    "\n",
    "def age_df(datacopy):\n",
    "\n",
    "    if (datacopy['TVObsKode'] == 1) and (datacopy['DatoSaneri'] > 0) :\n",
    "        return (now - datacopy['DatoSaneri'])\n",
    "    elif (datacopy['TVObsKode'] == 1) and (datacopy['DatoSaneri']== 0):\n",
    "        return (now - datacopy['anlag_aar'])\n",
    "    elif (datacopy['TVObsKode'] == 0) and (datacopy['DatoSaneri'] > 0):\n",
    "        return (now - datacopy['DatoSaneri'])\n",
    "    elif (datacopy['TVObsKode']== 0) and (datacopy['DatoSaneri']== 0):\n",
    "        return (now - datacopy['anlag_aar'])\n",
    "\n",
    "datacopy['Age'] = datacopy.apply(age_df, axis = 1)"
   ]
  },
  {
   "cell_type": "code",
   "execution_count": 16,
   "metadata": {},
   "outputs": [],
   "source": [
    "# add a column 'PipeStatus'\n",
    "# 1 as broken and 0 as not broken\n",
    "\n",
    "def broken_df(datacopy):\n",
    "\n",
    "    if (datacopy['TVObsKode'] == 1) and (datacopy['DatoSaneri'] < (datacopy['DatoOpdate'])) and (datacopy['DatoSaneri'] != 0):\n",
    "        return 1\n",
    "    elif (datacopy['TVObsKode'] == 1) and (datacopy['DatoSaneri'] >= (datacopy['DatoOpdate'])) and (datacopy['DatoSaneri'] != 0):\n",
    "        return 0\n",
    "    elif (datacopy['TVObsKode'] == 1) and (datacopy['DatoSaneri']== 0):\n",
    "        return 1\n",
    "    elif (datacopy['TVObsKode'] == 0) and (datacopy['DatoSaneri'] > 0):\n",
    "        return 0\n",
    "    elif (datacopy['TVObsKode']== 0) and (datacopy['DatoSaneri']== 0):\n",
    "        return 0\n",
    "\n",
    "datacopy['PipeStatus'] = datacopy.apply(broken_df, axis = 1)"
   ]
  },
  {
   "cell_type": "code",
   "execution_count": 17,
   "metadata": {},
   "outputs": [
    {
     "name": "stdout",
     "output_type": "stream",
     "text": [
      "Number of rows before removing NaNs: 1238\n",
      "Number of rows after removing NaNs: 1238\n"
     ]
    }
   ],
   "source": [
    "# data_fs= np.where(np.isnan(data_features))\n",
    "# data_fs\n",
    "print(\"Number of rows before removing NaNs: {}\".format(datacopy.shape[0]))\n",
    "datacopy = datacopy.dropna()\n",
    "print(\"Number of rows after removing NaNs: {}\".format(datacopy.shape[0]))"
   ]
  },
  {
   "cell_type": "code",
   "execution_count": 18,
   "metadata": {
    "scrolled": true
   },
   "outputs": [
    {
     "data": {
      "text/html": [
       "<div>\n",
       "<style scoped>\n",
       "    .dataframe tbody tr th:only-of-type {\n",
       "        vertical-align: middle;\n",
       "    }\n",
       "\n",
       "    .dataframe tbody tr th {\n",
       "        vertical-align: top;\n",
       "    }\n",
       "\n",
       "    .dataframe thead th {\n",
       "        text-align: right;\n",
       "    }\n",
       "</style>\n",
       "<table border=\"1\" class=\"dataframe\">\n",
       "  <thead>\n",
       "    <tr style=\"text-align: right;\">\n",
       "      <th></th>\n",
       "      <th>ID</th>\n",
       "      <th>XKoordinat</th>\n",
       "      <th>YKoordinat</th>\n",
       "      <th>fra_kote</th>\n",
       "      <th>til_kote</th>\n",
       "      <th>Laengde</th>\n",
       "      <th>Fald</th>\n",
       "      <th>DiameterIn</th>\n",
       "      <th>MaterialeK</th>\n",
       "      <th>anlag_aar</th>\n",
       "      <th>TransportK</th>\n",
       "      <th>Funktionsk</th>\n",
       "      <th>TVObsKode</th>\n",
       "      <th>DatoSaneri</th>\n",
       "      <th>Depth</th>\n",
       "      <th>Age</th>\n",
       "      <th>PipeStatus</th>\n",
       "    </tr>\n",
       "  </thead>\n",
       "  <tbody>\n",
       "    <tr>\n",
       "      <th>23485</th>\n",
       "      <td>219236</td>\n",
       "      <td>525938.45</td>\n",
       "      <td>6253508.25</td>\n",
       "      <td>25.30</td>\n",
       "      <td>22.58</td>\n",
       "      <td>81.79</td>\n",
       "      <td>33.255899</td>\n",
       "      <td>160.0</td>\n",
       "      <td>4.0</td>\n",
       "      <td>2017.0</td>\n",
       "      <td>1</td>\n",
       "      <td>0</td>\n",
       "      <td>0.0</td>\n",
       "      <td>0.0</td>\n",
       "      <td>14.219084</td>\n",
       "      <td>4.0</td>\n",
       "      <td>0</td>\n",
       "    </tr>\n",
       "    <tr>\n",
       "      <th>7636</th>\n",
       "      <td>128787</td>\n",
       "      <td>527530.04</td>\n",
       "      <td>6258546.98</td>\n",
       "      <td>33.15</td>\n",
       "      <td>32.62</td>\n",
       "      <td>63.64</td>\n",
       "      <td>8.328096</td>\n",
       "      <td>400.0</td>\n",
       "      <td>1.0</td>\n",
       "      <td>1975.0</td>\n",
       "      <td>1</td>\n",
       "      <td>0</td>\n",
       "      <td>0.0</td>\n",
       "      <td>0.0</td>\n",
       "      <td>11.205647</td>\n",
       "      <td>46.0</td>\n",
       "      <td>0</td>\n",
       "    </tr>\n",
       "    <tr>\n",
       "      <th>2754</th>\n",
       "      <td>103332</td>\n",
       "      <td>544840.68</td>\n",
       "      <td>6265213.81</td>\n",
       "      <td>21.97</td>\n",
       "      <td>21.46</td>\n",
       "      <td>70.90</td>\n",
       "      <td>7.193230</td>\n",
       "      <td>160.0</td>\n",
       "      <td>4.0</td>\n",
       "      <td>1979.0</td>\n",
       "      <td>1</td>\n",
       "      <td>0</td>\n",
       "      <td>0.0</td>\n",
       "      <td>0.0</td>\n",
       "      <td>0.986856</td>\n",
       "      <td>42.0</td>\n",
       "      <td>0</td>\n",
       "    </tr>\n",
       "    <tr>\n",
       "      <th>12888</th>\n",
       "      <td>156449</td>\n",
       "      <td>518003.62</td>\n",
       "      <td>6252260.86</td>\n",
       "      <td>45.60</td>\n",
       "      <td>45.15</td>\n",
       "      <td>87.33</td>\n",
       "      <td>5.152868</td>\n",
       "      <td>400.0</td>\n",
       "      <td>1.0</td>\n",
       "      <td>1969.0</td>\n",
       "      <td>1</td>\n",
       "      <td>0</td>\n",
       "      <td>0.0</td>\n",
       "      <td>0.0</td>\n",
       "      <td>25.464317</td>\n",
       "      <td>52.0</td>\n",
       "      <td>0</td>\n",
       "    </tr>\n",
       "    <tr>\n",
       "      <th>354</th>\n",
       "      <td>89279</td>\n",
       "      <td>538072.30</td>\n",
       "      <td>6259752.41</td>\n",
       "      <td>55.05</td>\n",
       "      <td>54.56</td>\n",
       "      <td>94.36</td>\n",
       "      <td>5.192878</td>\n",
       "      <td>200.0</td>\n",
       "      <td>4.0</td>\n",
       "      <td>1975.0</td>\n",
       "      <td>1</td>\n",
       "      <td>0</td>\n",
       "      <td>0.0</td>\n",
       "      <td>0.0</td>\n",
       "      <td>14.199490</td>\n",
       "      <td>46.0</td>\n",
       "      <td>0</td>\n",
       "    </tr>\n",
       "    <tr>\n",
       "      <th>...</th>\n",
       "      <td>...</td>\n",
       "      <td>...</td>\n",
       "      <td>...</td>\n",
       "      <td>...</td>\n",
       "      <td>...</td>\n",
       "      <td>...</td>\n",
       "      <td>...</td>\n",
       "      <td>...</td>\n",
       "      <td>...</td>\n",
       "      <td>...</td>\n",
       "      <td>...</td>\n",
       "      <td>...</td>\n",
       "      <td>...</td>\n",
       "      <td>...</td>\n",
       "      <td>...</td>\n",
       "      <td>...</td>\n",
       "      <td>...</td>\n",
       "    </tr>\n",
       "    <tr>\n",
       "      <th>23825</th>\n",
       "      <td>221075</td>\n",
       "      <td>505295.19</td>\n",
       "      <td>6253688.34</td>\n",
       "      <td>41.00</td>\n",
       "      <td>40.24</td>\n",
       "      <td>77.12</td>\n",
       "      <td>9.854772</td>\n",
       "      <td>200.0</td>\n",
       "      <td>1.0</td>\n",
       "      <td>1979.0</td>\n",
       "      <td>1</td>\n",
       "      <td>0</td>\n",
       "      <td>1.0</td>\n",
       "      <td>0.0</td>\n",
       "      <td>14.129904</td>\n",
       "      <td>42.0</td>\n",
       "      <td>1</td>\n",
       "    </tr>\n",
       "    <tr>\n",
       "      <th>23835</th>\n",
       "      <td>221099</td>\n",
       "      <td>505487.19</td>\n",
       "      <td>6253719.27</td>\n",
       "      <td>40.77</td>\n",
       "      <td>40.36</td>\n",
       "      <td>57.64</td>\n",
       "      <td>7.113116</td>\n",
       "      <td>200.0</td>\n",
       "      <td>1.0</td>\n",
       "      <td>1979.0</td>\n",
       "      <td>1</td>\n",
       "      <td>0</td>\n",
       "      <td>1.0</td>\n",
       "      <td>0.0</td>\n",
       "      <td>14.236778</td>\n",
       "      <td>42.0</td>\n",
       "      <td>1</td>\n",
       "    </tr>\n",
       "    <tr>\n",
       "      <th>23838</th>\n",
       "      <td>221112</td>\n",
       "      <td>505553.82</td>\n",
       "      <td>6253730.01</td>\n",
       "      <td>41.26</td>\n",
       "      <td>40.78</td>\n",
       "      <td>67.49</td>\n",
       "      <td>7.112165</td>\n",
       "      <td>200.0</td>\n",
       "      <td>1.0</td>\n",
       "      <td>1979.0</td>\n",
       "      <td>1</td>\n",
       "      <td>0</td>\n",
       "      <td>1.0</td>\n",
       "      <td>0.0</td>\n",
       "      <td>15.404106</td>\n",
       "      <td>42.0</td>\n",
       "      <td>1</td>\n",
       "    </tr>\n",
       "    <tr>\n",
       "      <th>23841</th>\n",
       "      <td>221115</td>\n",
       "      <td>505234.88</td>\n",
       "      <td>6253724.12</td>\n",
       "      <td>42.49</td>\n",
       "      <td>41.53</td>\n",
       "      <td>109.15</td>\n",
       "      <td>8.795236</td>\n",
       "      <td>315.0</td>\n",
       "      <td>4.0</td>\n",
       "      <td>1992.0</td>\n",
       "      <td>1</td>\n",
       "      <td>0</td>\n",
       "      <td>1.0</td>\n",
       "      <td>0.0</td>\n",
       "      <td>16.049837</td>\n",
       "      <td>29.0</td>\n",
       "      <td>1</td>\n",
       "    </tr>\n",
       "    <tr>\n",
       "      <th>23957</th>\n",
       "      <td>222195</td>\n",
       "      <td>500582.01</td>\n",
       "      <td>6260561.72</td>\n",
       "      <td>11.94</td>\n",
       "      <td>10.55</td>\n",
       "      <td>60.32</td>\n",
       "      <td>23.043767</td>\n",
       "      <td>350.0</td>\n",
       "      <td>1.0</td>\n",
       "      <td>1968.0</td>\n",
       "      <td>1</td>\n",
       "      <td>0</td>\n",
       "      <td>1.0</td>\n",
       "      <td>0.0</td>\n",
       "      <td>9.960063</td>\n",
       "      <td>53.0</td>\n",
       "      <td>1</td>\n",
       "    </tr>\n",
       "  </tbody>\n",
       "</table>\n",
       "<p>1237 rows × 17 columns</p>\n",
       "</div>"
      ],
      "text/plain": [
       "           ID  XKoordinat  YKoordinat  fra_kote  til_kote  Laengde       Fald  \\\n",
       "23485  219236   525938.45  6253508.25     25.30     22.58    81.79  33.255899   \n",
       "7636   128787   527530.04  6258546.98     33.15     32.62    63.64   8.328096   \n",
       "2754   103332   544840.68  6265213.81     21.97     21.46    70.90   7.193230   \n",
       "12888  156449   518003.62  6252260.86     45.60     45.15    87.33   5.152868   \n",
       "354     89279   538072.30  6259752.41     55.05     54.56    94.36   5.192878   \n",
       "...       ...         ...         ...       ...       ...      ...        ...   \n",
       "23825  221075   505295.19  6253688.34     41.00     40.24    77.12   9.854772   \n",
       "23835  221099   505487.19  6253719.27     40.77     40.36    57.64   7.113116   \n",
       "23838  221112   505553.82  6253730.01     41.26     40.78    67.49   7.112165   \n",
       "23841  221115   505234.88  6253724.12     42.49     41.53   109.15   8.795236   \n",
       "23957  222195   500582.01  6260561.72     11.94     10.55    60.32  23.043767   \n",
       "\n",
       "       DiameterIn  MaterialeK  anlag_aar  TransportK  Funktionsk  TVObsKode  \\\n",
       "23485       160.0         4.0     2017.0           1           0        0.0   \n",
       "7636        400.0         1.0     1975.0           1           0        0.0   \n",
       "2754        160.0         4.0     1979.0           1           0        0.0   \n",
       "12888       400.0         1.0     1969.0           1           0        0.0   \n",
       "354         200.0         4.0     1975.0           1           0        0.0   \n",
       "...           ...         ...        ...         ...         ...        ...   \n",
       "23825       200.0         1.0     1979.0           1           0        1.0   \n",
       "23835       200.0         1.0     1979.0           1           0        1.0   \n",
       "23838       200.0         1.0     1979.0           1           0        1.0   \n",
       "23841       315.0         4.0     1992.0           1           0        1.0   \n",
       "23957       350.0         1.0     1968.0           1           0        1.0   \n",
       "\n",
       "       DatoSaneri      Depth   Age  PipeStatus  \n",
       "23485         0.0  14.219084   4.0           0  \n",
       "7636          0.0  11.205647  46.0           0  \n",
       "2754          0.0   0.986856  42.0           0  \n",
       "12888         0.0  25.464317  52.0           0  \n",
       "354           0.0  14.199490  46.0           0  \n",
       "...           ...        ...   ...         ...  \n",
       "23825         0.0  14.129904  42.0           1  \n",
       "23835         0.0  14.236778  42.0           1  \n",
       "23838         0.0  15.404106  42.0           1  \n",
       "23841         0.0  16.049837  29.0           1  \n",
       "23957         0.0   9.960063  53.0           1  \n",
       "\n",
       "[1237 rows x 17 columns]"
      ]
     },
     "execution_count": 18,
     "metadata": {},
     "output_type": "execute_result"
    }
   ],
   "source": [
    "#drop columns not needed after adding new features\n",
    "\n",
    "columns_to_be_removed = ['DatoOprett', 'DatoOpdate']\n",
    "datacopy=datacopy.drop(columns_to_be_removed,axis='columns')\n",
    "datacopy[0:-1]"
   ]
  },
  {
   "cell_type": "code",
   "execution_count": 19,
   "metadata": {},
   "outputs": [],
   "source": [
    "# val = datacopy.nunique()\n",
    "# val"
   ]
  },
  {
   "cell_type": "code",
   "execution_count": 20,
   "metadata": {},
   "outputs": [],
   "source": [
    "# creating features set and target\n",
    "\n",
    "columns_to_be_removed = ['Age','ID']\n",
    "data_features= datacopy.drop(columns_to_be_removed,axis='columns')\n",
    "columns_to_be_removed = ['fra_kote','til_kote', 'Laengde','Fald','DiameterIn','MaterialeK','anlag_aar','TransportK',\n",
    "                         'Funktionsk','TVObsKode','DatoSaneri','PipeStatus','ID','XKoordinat','YKoordinat','Depth']\n",
    "data_target=datacopy.drop(columns_to_be_removed,axis='columns')"
   ]
  },
  {
   "cell_type": "code",
   "execution_count": 21,
   "metadata": {},
   "outputs": [
    {
     "name": "stdout",
     "output_type": "stream",
     "text": [
      "Number of rows before removing NaNs: 1238\n",
      "Number of rows after removing NaNs: 1238\n"
     ]
    }
   ],
   "source": [
    "# data_fs= np.where(np.isnan(data_features))\n",
    "# data_fs\n",
    "data = datacopy\n",
    "print(\"Number of rows before removing NaNs: {}\".format(data.shape[0]))\n",
    "data = data.dropna()\n",
    "print(\"Number of rows after removing NaNs: {}\".format(data.shape[0]))"
   ]
  },
  {
   "cell_type": "code",
   "execution_count": 22,
   "metadata": {},
   "outputs": [
    {
     "data": {
      "text/html": [
       "<div>\n",
       "<style scoped>\n",
       "    .dataframe tbody tr th:only-of-type {\n",
       "        vertical-align: middle;\n",
       "    }\n",
       "\n",
       "    .dataframe tbody tr th {\n",
       "        vertical-align: top;\n",
       "    }\n",
       "\n",
       "    .dataframe thead th {\n",
       "        text-align: right;\n",
       "    }\n",
       "</style>\n",
       "<table border=\"1\" class=\"dataframe\">\n",
       "  <thead>\n",
       "    <tr style=\"text-align: right;\">\n",
       "      <th></th>\n",
       "      <th>Age</th>\n",
       "    </tr>\n",
       "  </thead>\n",
       "  <tbody>\n",
       "    <tr>\n",
       "      <th>23485</th>\n",
       "      <td>4.0</td>\n",
       "    </tr>\n",
       "    <tr>\n",
       "      <th>7636</th>\n",
       "      <td>46.0</td>\n",
       "    </tr>\n",
       "    <tr>\n",
       "      <th>2754</th>\n",
       "      <td>42.0</td>\n",
       "    </tr>\n",
       "    <tr>\n",
       "      <th>12888</th>\n",
       "      <td>52.0</td>\n",
       "    </tr>\n",
       "    <tr>\n",
       "      <th>354</th>\n",
       "      <td>46.0</td>\n",
       "    </tr>\n",
       "    <tr>\n",
       "      <th>...</th>\n",
       "      <td>...</td>\n",
       "    </tr>\n",
       "    <tr>\n",
       "      <th>23835</th>\n",
       "      <td>42.0</td>\n",
       "    </tr>\n",
       "    <tr>\n",
       "      <th>23838</th>\n",
       "      <td>42.0</td>\n",
       "    </tr>\n",
       "    <tr>\n",
       "      <th>23841</th>\n",
       "      <td>29.0</td>\n",
       "    </tr>\n",
       "    <tr>\n",
       "      <th>23957</th>\n",
       "      <td>53.0</td>\n",
       "    </tr>\n",
       "    <tr>\n",
       "      <th>24127</th>\n",
       "      <td>3.0</td>\n",
       "    </tr>\n",
       "  </tbody>\n",
       "</table>\n",
       "<p>1238 rows × 1 columns</p>\n",
       "</div>"
      ],
      "text/plain": [
       "        Age\n",
       "23485   4.0\n",
       "7636   46.0\n",
       "2754   42.0\n",
       "12888  52.0\n",
       "354    46.0\n",
       "...     ...\n",
       "23835  42.0\n",
       "23838  42.0\n",
       "23841  29.0\n",
       "23957  53.0\n",
       "24127   3.0\n",
       "\n",
       "[1238 rows x 1 columns]"
      ]
     },
     "execution_count": 22,
     "metadata": {},
     "output_type": "execute_result"
    }
   ],
   "source": [
    "data_target"
   ]
  },
  {
   "cell_type": "markdown",
   "metadata": {},
   "source": [
    "# Tuning Alpha for Lasso Model with Train-Test split and Normalization:"
   ]
  },
  {
   "cell_type": "code",
   "execution_count": 23,
   "metadata": {},
   "outputs": [],
   "source": [
    "# Divide the data into training and test\n",
    "X_train, X_test, y_train, y_test = train_test_split(data_features, data_target, random_state=42)"
   ]
  },
  {
   "cell_type": "code",
   "execution_count": 24,
   "metadata": {},
   "outputs": [
    {
     "name": "stdout",
     "output_type": "stream",
     "text": [
      "Best alpha value found: 0.0010181925038167624\n"
     ]
    }
   ],
   "source": [
    "# Learn the model with a certain numnber of alphas\n",
    "lassocv = LassoCV(alphas = None, cv = 10, max_iter = 100000, normalize = True)\n",
    "lassocv.fit(X_train, y_train)\n",
    "print(\"Best alpha value found: {}\".format(lassocv.alpha_))"
   ]
  },
  {
   "cell_type": "code",
   "execution_count": 25,
   "metadata": {},
   "outputs": [
    {
     "data": {
      "text/plain": [
       "XKoordinat     0.000000\n",
       "YKoordinat    -0.000008\n",
       "fra_kote      -0.024735\n",
       "til_kote      -0.000000\n",
       "Laengde       -0.010591\n",
       "Fald          -0.033541\n",
       "DiameterIn     0.000243\n",
       "MaterialeK    -0.000000\n",
       "anlag_aar     -0.739035\n",
       "TransportK     7.534099\n",
       "Funktionsk    -0.474766\n",
       "TVObsKode     -6.585158\n",
       "DatoSaneri    -0.020611\n",
       "Depth          0.060034\n",
       "PipeStatus    10.440272\n",
       "dtype: float64"
      ]
     },
     "execution_count": 25,
     "metadata": {},
     "output_type": "execute_result"
    }
   ],
   "source": [
    "# coefficients associated with the chosen alpha\n",
    "pd.Series(lassocv.coef_ , index = data_features.columns)"
   ]
  },
  {
   "cell_type": "code",
   "execution_count": 26,
   "metadata": {},
   "outputs": [
    {
     "name": "stdout",
     "output_type": "stream",
     "text": [
      "The MSE associated with alpha value: 71.50568407196843\n"
     ]
    }
   ],
   "source": [
    "# to chech model performance\n",
    "lasso = Lasso(max_iter = 10000, normalize = True)\n",
    "lasso.set_params(alpha=lassocv.alpha_)\n",
    "lasso.fit(X_train, y_train)\n",
    "mse = mean_squared_error(y_test, lasso.predict(X_test))\n",
    "print(\"The MSE associated with alpha value: {}\".format(mse))"
   ]
  },
  {
   "cell_type": "markdown",
   "metadata": {},
   "source": [
    "The $R^2$ corresponding to this value for alpha are:"
   ]
  },
  {
   "cell_type": "code",
   "execution_count": 27,
   "metadata": {},
   "outputs": [
    {
     "name": "stdout",
     "output_type": "stream",
     "text": [
      "R^2 on train data is 0.8487090630038366 and on test data is 0.8595752986912264\n"
     ]
    }
   ],
   "source": [
    "# R^2 of the associated alpha\n",
    "print(\"R^2 on train data is {} and on test data is {}\".format(lasso.score(X_train, y_train), \n",
    "                                                              lasso.score(X_test,y_test)))"
   ]
  },
  {
   "cell_type": "markdown",
   "metadata": {},
   "source": [
    "# Tuning Alpha for Lasso Model with validation set split and Normalization:"
   ]
  },
  {
   "cell_type": "code",
   "execution_count": 28,
   "metadata": {},
   "outputs": [],
   "source": [
    "# Divide the data into training, test and validation\n",
    "\n",
    "X_trainval, X_test, y_trainval, y_test = train_test_split(data_features, data_target, random_state=42)\n",
    "X_train, X_val, y_train, y_val = train_test_split(X_trainval, y_trainval, random_state=43)"
   ]
  },
  {
   "cell_type": "code",
   "execution_count": 29,
   "metadata": {},
   "outputs": [
    {
     "name": "stdout",
     "output_type": "stream",
     "text": [
      "Best alpha found: 0.0029836472402833404\n",
      "Best MSE on validation set: 78.0308614035536\n",
      "MSE on training/validation set: 81.51161228457471\n",
      "MSE on test set: 72.05196006269517\n"
     ]
    }
   ],
   "source": [
    "best_score = 100\n",
    "for alphas in 10**np.linspace(-10, 10, 100):\n",
    "    # Learn the model with a certain numnber of alphas\n",
    "    lasso = Lasso(max_iter = 10000, normalize=True, alpha=alphas)\n",
    "    lasso.fit(X_train, y_train)\n",
    "    \n",
    "    # Evaluate the model\n",
    "    score = mean_squared_error(y_val, lasso.predict(X_val))\n",
    "    \n",
    "    \n",
    "    # If improvement, store score and parameter\n",
    "    if score < best_score:\n",
    "        best_score = score\n",
    "        best_alphas = alphas\n",
    "\n",
    "# Build a model on the combine training and valiation data\n",
    "lasso = Lasso(max_iter = 10000, normalize=True, alpha = best_alphas)\n",
    "lasso.fit(X_trainval, y_trainval)\n",
    "\n",
    "print(\"Best alpha found: {}\".format(best_alphas))\n",
    "print(\"Best MSE on validation set: {}\".format(best_score))\n",
    "print(\"MSE on training/validation set: {}\".format(mean_squared_error(y_trainval, lasso.predict(X_trainval))))\n",
    "print(\"MSE on test set: {}\".format(mean_squared_error(y_test, lasso.predict(X_test))))"
   ]
  },
  {
   "cell_type": "code",
   "execution_count": 30,
   "metadata": {},
   "outputs": [
    {
     "name": "stdout",
     "output_type": "stream",
     "text": [
      "The MSE associated with alpha value: 71.8422312800897\n"
     ]
    }
   ],
   "source": [
    "# to chech model performance\n",
    "lasso1 = Lasso(max_iter = 10000, alpha = best_alphas, normalize = True)\n",
    "lasso1.fit(X_train, y_train)\n",
    "mse = mean_squared_error(y_test, lasso1.predict(X_test))\n",
    "print(\"The MSE associated with alpha value: {}\".format(mse))"
   ]
  },
  {
   "cell_type": "code",
   "execution_count": 31,
   "metadata": {},
   "outputs": [
    {
     "data": {
      "text/plain": [
       "XKoordinat    0.000000\n",
       "YKoordinat   -0.000000\n",
       "fra_kote     -0.013950\n",
       "til_kote     -0.000000\n",
       "Laengde      -0.008214\n",
       "Fald         -0.029694\n",
       "DiameterIn    0.000023\n",
       "MaterialeK   -0.000000\n",
       "anlag_aar    -0.735169\n",
       "TransportK    5.734465\n",
       "Funktionsk   -0.454999\n",
       "TVObsKode    -3.743897\n",
       "DatoSaneri   -0.020593\n",
       "Depth         0.037773\n",
       "PipeStatus    7.548493\n",
       "dtype: float64"
      ]
     },
     "execution_count": 31,
     "metadata": {},
     "output_type": "execute_result"
    }
   ],
   "source": [
    "# coefficients associated with the chosen alpha\n",
    "pd.Series(lasso.coef_ , index = data_features.columns)"
   ]
  },
  {
   "cell_type": "code",
   "execution_count": 32,
   "metadata": {},
   "outputs": [
    {
     "name": "stdout",
     "output_type": "stream",
     "text": [
      "R^2 on train data is 0.8459587366202788 and on test data is 0.8589143786288552\n"
     ]
    }
   ],
   "source": [
    "# R^2 of the associated alpha\n",
    "print(\"R^2 on train data is {} and on test data is {}\".format(lasso1.score(X_train, y_train), \n",
    "                                                              lasso1.score(X_test,y_test)))"
   ]
  },
  {
   "cell_type": "markdown",
   "metadata": {},
   "source": [
    "# Tuning Alpha for Lasso Model with cross validation split and Normalization:"
   ]
  },
  {
   "cell_type": "code",
   "execution_count": 33,
   "metadata": {},
   "outputs": [],
   "source": [
    "# Divide the data into training, test and validation\n",
    "\n",
    "X_trainval, X_test, y_trainval, y_test = train_test_split(data_features, data_target, random_state=42)"
   ]
  },
  {
   "cell_type": "code",
   "execution_count": 34,
   "metadata": {},
   "outputs": [
    {
     "name": "stdout",
     "output_type": "stream",
     "text": [
      "Best alpha found: 0.0004641588833612782\n",
      "Best MSE on validation set: 0.8414049435891628\n",
      "MSE on training/validation set: 81.06724582509685\n",
      "MSE on test set: 71.4023350641215\n"
     ]
    }
   ],
   "source": [
    "best_score = 0\n",
    "for alphas in 10**np.linspace(-10, 10, 100):\n",
    "    # Set a certain number of alphas\n",
    "    lasso1 = Lasso(max_iter = 10000, normalize=True, alpha=alphas)\n",
    "    \n",
    "    # Perform cross validation\n",
    "    scores = cross_val_score(lasso1, X_trainval, y_trainval, cv=5)\n",
    "    \n",
    "    # Compute the mean score\n",
    "    score = scores.mean()\n",
    "    \n",
    "    # If improvement, store score and parameter\n",
    "    if score > best_score:\n",
    "        best_score = score\n",
    "        best_alphas = alphas\n",
    "\n",
    "# Build a model on the combine training and valiation data\n",
    "lasso1 = Lasso(max_iter = 10000, normalize=True, alpha = best_alphas)\n",
    "lasso1.fit(X_trainval, y_trainval)\n",
    "\n",
    "print(\"Best alpha found: {}\".format(best_alphas))\n",
    "print(\"Best MSE on validation set: {}\".format(best_score))\n",
    "print(\"MSE on training/validation set: {}\".format(mean_squared_error(y_trainval, lasso1.predict(X_trainval))))\n",
    "print(\"MSE on test set: {}\".format(mean_squared_error(y_test, lasso1.predict(X_test))))"
   ]
  },
  {
   "cell_type": "code",
   "execution_count": 35,
   "metadata": {},
   "outputs": [
    {
     "name": "stdout",
     "output_type": "stream",
     "text": [
      "The MSE associated with alpha value: 71.51491280449564\n"
     ]
    }
   ],
   "source": [
    "# to chech model performance\n",
    "lasso = Lasso(max_iter = 10000, alpha = best_alphas, normalize = True)\n",
    "lasso.fit(X_train, y_train)\n",
    "mse = mean_squared_error(y_test, lasso.predict(X_test))\n",
    "print(\"The MSE associated with alpha value: {}\".format(mse))"
   ]
  },
  {
   "cell_type": "code",
   "execution_count": 36,
   "metadata": {},
   "outputs": [
    {
     "data": {
      "text/plain": [
       "XKoordinat    -0.000007\n",
       "YKoordinat    -0.000019\n",
       "fra_kote      -0.000000\n",
       "til_kote      -0.019917\n",
       "Laengde       -0.016853\n",
       "Fald          -0.039530\n",
       "DiameterIn    -0.001005\n",
       "MaterialeK    -0.007105\n",
       "anlag_aar     -0.729629\n",
       "TransportK     8.590976\n",
       "Funktionsk    -0.594643\n",
       "TVObsKode     -9.239413\n",
       "DatoSaneri    -0.020439\n",
       "Depth          0.079083\n",
       "PipeStatus    13.667519\n",
       "dtype: float64"
      ]
     },
     "execution_count": 36,
     "metadata": {},
     "output_type": "execute_result"
    }
   ],
   "source": [
    "# coefficients associated with the chosen alpha\n",
    "pd.Series(lasso.coef_ , index = data_features.columns)"
   ]
  },
  {
   "cell_type": "code",
   "execution_count": 37,
   "metadata": {},
   "outputs": [
    {
     "name": "stdout",
     "output_type": "stream",
     "text": [
      "R^2 on train data is 0.8467358138913377 and on test data is 0.8595571750689519\n"
     ]
    }
   ],
   "source": [
    "# R^2 of the associated alpha\n",
    "print(\"R^2 on train data is {} and on test data is {}\".format(lasso.score(X_train, y_train), \n",
    "                                                              lasso.score(X_test,y_test)))"
   ]
  },
  {
   "cell_type": "markdown",
   "metadata": {},
   "source": [
    "# Tuning Alpha for Lasso Model with Train-Test split and Standardization:"
   ]
  },
  {
   "cell_type": "code",
   "execution_count": 38,
   "metadata": {},
   "outputs": [],
   "source": [
    "# Divide the data into training and test\n",
    "X_train, X_test, y_train, y_test = train_test_split(data_features, data_target, random_state=42)\n",
    "\n",
    "# preprocessing using 0-1 scaling\n",
    "scaler = StandardScaler()\n",
    "scaler.fit(X_train)\n",
    "X_train_scaled = scaler.transform(X_train)\n",
    "X_test_scaled = scaler.transform(X_test)"
   ]
  },
  {
   "cell_type": "code",
   "execution_count": 39,
   "metadata": {},
   "outputs": [
    {
     "name": "stdout",
     "output_type": "stream",
     "text": [
      "Best alpha value found: 0.0010181925038167624\n"
     ]
    }
   ],
   "source": [
    "# Learn the model with a certain numnber of alphas\n",
    "lassocv = LassoCV(alphas = None, cv = 10, max_iter = 100000, normalize = True)\n",
    "lassocv.fit(X_train, y_train)\n",
    "print(\"Best alpha value found: {}\".format(lassocv.alpha_))"
   ]
  },
  {
   "cell_type": "code",
   "execution_count": 40,
   "metadata": {},
   "outputs": [
    {
     "data": {
      "text/plain": [
       "XKoordinat     0.000000\n",
       "YKoordinat    -0.000008\n",
       "fra_kote      -0.024735\n",
       "til_kote      -0.000000\n",
       "Laengde       -0.010591\n",
       "Fald          -0.033541\n",
       "DiameterIn     0.000243\n",
       "MaterialeK    -0.000000\n",
       "anlag_aar     -0.739035\n",
       "TransportK     7.534099\n",
       "Funktionsk    -0.474766\n",
       "TVObsKode     -6.585158\n",
       "DatoSaneri    -0.020611\n",
       "Depth          0.060034\n",
       "PipeStatus    10.440272\n",
       "dtype: float64"
      ]
     },
     "execution_count": 40,
     "metadata": {},
     "output_type": "execute_result"
    }
   ],
   "source": [
    "# ridge.fit(data_features, data_target)\n",
    "pd.Series(lassocv.coef_ , index = data_features.columns)"
   ]
  },
  {
   "cell_type": "code",
   "execution_count": 41,
   "metadata": {},
   "outputs": [
    {
     "name": "stdout",
     "output_type": "stream",
     "text": [
      "The MSE associated with alpha value: 71.20640492627466\n"
     ]
    }
   ],
   "source": [
    "# to chech model performance\n",
    "lasso = Lasso(max_iter = 10000)\n",
    "lasso.set_params(alpha=lassocv.alpha_)\n",
    "lasso.fit(X_train, y_train)\n",
    "mse = mean_squared_error(y_test, lasso.predict(X_test))\n",
    "print(\"The MSE associated with alpha value: {}\".format(mse))"
   ]
  },
  {
   "cell_type": "code",
   "execution_count": 42,
   "metadata": {},
   "outputs": [
    {
     "name": "stdout",
     "output_type": "stream",
     "text": [
      "R^2 on train data is -4503.905838632152 and on test data is -4747.028838167456\n"
     ]
    }
   ],
   "source": [
    "# R^2 of the associated alpha\n",
    "print(\"R^2 on train data is {} and on test data is {}\".format(lasso.score(X_train_scaled, y_train), \n",
    "                                                              lasso.score(X_test_scaled,y_test)))"
   ]
  },
  {
   "cell_type": "markdown",
   "metadata": {},
   "source": [
    "# Tuning Alpha for Lasso Model with validation set split and Standardization:"
   ]
  },
  {
   "cell_type": "code",
   "execution_count": 43,
   "metadata": {},
   "outputs": [],
   "source": [
    "# Divide the data into training, test and validation\n",
    "\n",
    "X_trainval, X_test, y_trainval, y_test = train_test_split(data_features, data_target, random_state=42)\n",
    "X_train, X_val, y_train, y_val = train_test_split(X_trainval, y_trainval, random_state=43)\n",
    "\n",
    "# preprocessing using zero mean and unit variance scaling\n",
    "scaler = StandardScaler()\n",
    "scaler.fit(X_train)\n",
    "\n",
    "X_train_scaled = scaler.transform(X_train)\n",
    "X_test_scaled = scaler.transform(X_test)\n",
    "X_val_scaled = scaler.transform(X_val)\n",
    "X_trainval_scaled = scaler.transform( X_trainval)\n"
   ]
  },
  {
   "cell_type": "code",
   "execution_count": 44,
   "metadata": {},
   "outputs": [
    {
     "name": "stdout",
     "output_type": "stream",
     "text": [
      "Best alpha found: 0.07742636826811278\n",
      "Best MSE on validation set: 78.03522154326286\n",
      "MSE on training/validation set: 81.39219654399346\n",
      "MSE on test set: 71.91809282428129\n"
     ]
    }
   ],
   "source": [
    "best_score = 100\n",
    "for alphas in 10**np.linspace(-10, 10, 100):\n",
    "    # Learn the model with a certain numnber of alphas\n",
    "    lasso1 = Lasso(max_iter = 10000, alpha=alphas)\n",
    "    lasso1.fit(X_train_scaled, y_train)\n",
    "    \n",
    "    # Evaluate the model\n",
    "    score = mean_squared_error(y_val, lasso1.predict(X_val_scaled))\n",
    "    \n",
    "    \n",
    "    # If improvement, store score and parameter\n",
    "    if score < best_score:\n",
    "        best_score = score\n",
    "        best_alphas = alphas\n",
    "\n",
    "# Build a model on the combine training and valiation data\n",
    "lasso1 = Lasso(max_iter = 10000, alpha = best_alphas)\n",
    "lasso1.fit(X_trainval_scaled, y_trainval)\n",
    "\n",
    "print(\"Best alpha found: {}\".format(best_alphas))\n",
    "print(\"Best MSE on validation set: {}\".format(best_score))\n",
    "print(\"MSE on training/validation set: {}\".format(mean_squared_error(y_trainval, lasso1.predict(X_trainval_scaled))))\n",
    "print(\"MSE on test set: {}\".format(mean_squared_error(y_test, lasso1.predict(X_test_scaled))))"
   ]
  },
  {
   "cell_type": "code",
   "execution_count": 45,
   "metadata": {},
   "outputs": [
    {
     "name": "stdout",
     "output_type": "stream",
     "text": [
      "The MSE associated with alpha value: 87.4841885227234\n"
     ]
    }
   ],
   "source": [
    "# to chech model performance\n",
    "lasso = Lasso(max_iter = 10000, alpha = best_alphas, normalize = True)\n",
    "lasso.fit(X_train_scaled, y_train)\n",
    "mse = mean_squared_error(y_test, lasso.predict(X_test_scaled))\n",
    "print(\"The MSE associated with alpha value: {}\".format(mse))"
   ]
  },
  {
   "cell_type": "code",
   "execution_count": 46,
   "metadata": {},
   "outputs": [
    {
     "data": {
      "text/plain": [
       "XKoordinat    -0.000000\n",
       "YKoordinat     0.000000\n",
       "fra_kote      -0.000000\n",
       "til_kote      -0.000000\n",
       "Laengde       -0.000000\n",
       "Fald          -0.000000\n",
       "DiameterIn    -0.000000\n",
       "MaterialeK    -0.000000\n",
       "anlag_aar    -11.926735\n",
       "TransportK     0.000000\n",
       "Funktionsk    -0.000000\n",
       "TVObsKode      0.000000\n",
       "DatoSaneri   -16.339255\n",
       "Depth         -0.000000\n",
       "PipeStatus     1.067147\n",
       "dtype: float64"
      ]
     },
     "execution_count": 46,
     "metadata": {},
     "output_type": "execute_result"
    }
   ],
   "source": [
    "# coefficients associated with the chosen alpha\n",
    "pd.Series(lasso.coef_ , index = data_features.columns)"
   ]
  },
  {
   "cell_type": "code",
   "execution_count": 47,
   "metadata": {},
   "outputs": [
    {
     "name": "stdout",
     "output_type": "stream",
     "text": [
      "R^2 on train data is 0.8176583760313347 and on test data is 0.8281963007279332\n"
     ]
    }
   ],
   "source": [
    "# R^2 of the associated alpha\n",
    "print(\"R^2 on train data is {} and on test data is {}\".format(lasso.score(X_train_scaled, y_train), \n",
    "                                                              lasso.score(X_test_scaled,y_test)))"
   ]
  },
  {
   "cell_type": "markdown",
   "metadata": {},
   "source": [
    "# Tuning Alpha for Lasso Model with cross validation split and Standardization:"
   ]
  },
  {
   "cell_type": "code",
   "execution_count": 48,
   "metadata": {},
   "outputs": [],
   "source": [
    "# Divide the data into training, test and validation\n",
    "\n",
    "X_trainval, X_test, y_trainval, y_test = train_test_split(data_features, data_target, random_state=42)\n",
    "\n",
    "# preprocessing using 0-1 scaling\n",
    "scaler = StandardScaler()\n",
    "scaler.fit(X_train)\n",
    "\n",
    "X_test_scaled = scaler.transform(X_test)\n",
    "X_trainval_scaled = scaler.transform( X_trainval)"
   ]
  },
  {
   "cell_type": "code",
   "execution_count": 49,
   "metadata": {},
   "outputs": [
    {
     "name": "stdout",
     "output_type": "stream",
     "text": [
      "Best alpha found: 0.012045035402587835\n",
      "Best MSE on validation set: 0.841411838580839\n",
      "MSE on training/validation set: 81.06413511733778\n",
      "MSE on test set: 71.39389947094443\n"
     ]
    }
   ],
   "source": [
    "best_score = 0\n",
    "for alphas in 10**np.linspace(-10, 10, 100):\n",
    "    # Set a certain number of alphas\n",
    "    lasso1 = Lasso(max_iter = 10000, alpha=alphas)\n",
    "    \n",
    "    # Perform cross validation\n",
    "    scores = cross_val_score(lasso1, X_trainval_scaled, y_trainval, cv=5)\n",
    "    \n",
    "    # Compute the mean score\n",
    "    score = scores.mean()\n",
    "    \n",
    "    # If improvement, store score and parameter\n",
    "    if score > best_score:\n",
    "        best_score = score\n",
    "        best_alphas = alphas\n",
    "\n",
    "# Build a model on the combine training and valiation data\n",
    "lasso1 = Lasso(max_iter = 10000, alpha = best_alphas)\n",
    "lasso1.fit(X_trainval_scaled, y_trainval)\n",
    "\n",
    "print(\"Best alpha found: {}\".format(best_alphas))\n",
    "print(\"Best MSE on validation set: {}\".format(best_score))\n",
    "print(\"MSE on training/validation set: {}\".format(mean_squared_error(y_trainval, lasso1.predict(X_trainval_scaled))))\n",
    "print(\"MSE on test set: {}\".format(mean_squared_error(y_test, lasso1.predict(X_test_scaled))))"
   ]
  },
  {
   "cell_type": "code",
   "execution_count": 50,
   "metadata": {},
   "outputs": [
    {
     "name": "stdout",
     "output_type": "stream",
     "text": [
      "The MSE associated with alpha value: 71.39389947094443\n"
     ]
    }
   ],
   "source": [
    "# to chech model performance\n",
    "lasso = Lasso(max_iter = 10000, alpha = best_alphas)\n",
    "lasso.fit(X_trainval_scaled,y_trainval)\n",
    "mse = mean_squared_error(y_test, lasso.predict(X_test_scaled))\n",
    "print(\"The MSE associated with alpha value: {}\".format(mse))"
   ]
  },
  {
   "cell_type": "code",
   "execution_count": 51,
   "metadata": {},
   "outputs": [
    {
     "data": {
      "text/plain": [
       "XKoordinat     0.012543\n",
       "YKoordinat    -0.091126\n",
       "fra_kote      -0.442091\n",
       "til_kote      -0.000000\n",
       "Laengde       -0.343501\n",
       "Fald          -0.635901\n",
       "DiameterIn     0.067370\n",
       "MaterialeK     0.000000\n",
       "anlag_aar    -14.770206\n",
       "TransportK     0.304777\n",
       "Funktionsk    -0.673584\n",
       "TVObsKode     -3.264835\n",
       "DatoSaneri   -18.887953\n",
       "Depth          0.644239\n",
       "PipeStatus     4.848557\n",
       "dtype: float64"
      ]
     },
     "execution_count": 51,
     "metadata": {},
     "output_type": "execute_result"
    }
   ],
   "source": [
    "# coefficients associated with the chosen alpha\n",
    "pd.Series(lasso.coef_ , index = data_features.columns)"
   ]
  },
  {
   "cell_type": "code",
   "execution_count": 52,
   "metadata": {},
   "outputs": [
    {
     "name": "stdout",
     "output_type": "stream",
     "text": [
      "R^2 on train/validation data is 0.8487956800355503 and on test data is 0.8597948241655078\n"
     ]
    }
   ],
   "source": [
    "# R^2 of the associated alpha\n",
    "print(\"R^2 on train/validation data is {} and on test data is {}\".format(lasso.score(X_trainval_scaled,y_trainval), \n",
    "                                                              lasso.score(X_test_scaled,y_test)))"
   ]
  },
  {
   "cell_type": "code",
   "execution_count": null,
   "metadata": {},
   "outputs": [],
   "source": []
  },
  {
   "cell_type": "code",
   "execution_count": null,
   "metadata": {},
   "outputs": [],
   "source": []
  },
  {
   "cell_type": "code",
   "execution_count": null,
   "metadata": {},
   "outputs": [],
   "source": []
  }
 ],
 "metadata": {
  "kernelspec": {
   "display_name": "Python 3",
   "language": "python",
   "name": "python3"
  },
  "language_info": {
   "codemirror_mode": {
    "name": "ipython",
    "version": 3
   },
   "file_extension": ".py",
   "mimetype": "text/x-python",
   "name": "python",
   "nbconvert_exporter": "python",
   "pygments_lexer": "ipython3",
   "version": "3.8.5"
  }
 },
 "nbformat": 4,
 "nbformat_minor": 4
}
